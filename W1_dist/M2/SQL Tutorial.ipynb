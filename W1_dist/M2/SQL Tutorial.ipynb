{
 "cells": [
  {
   "cell_type": "markdown",
   "id": "da61e2f2-dcb6-404c-bb01-e11bfbe3f09e",
   "metadata": {},
   "source": [
    "# Making Database\n",
    "sqlite서버와 연결 후 Demo Database는 같은 디렉토리에 있는 Northwind.db로 합니다."
   ]
  },
  {
   "cell_type": "markdown",
   "id": "d3388762-cf22-4791-ba04-927d82df3562",
   "metadata": {},
   "source": [
    "## base Variables and functions"
   ]
  },
  {
   "cell_type": "code",
   "execution_count": null,
   "id": "36008858-08bb-4a0f-b3e1-0f8fd7afd452",
   "metadata": {},
   "outputs": [],
   "source": [
    "# reset database\n",
    "!pwd\n",
    "!rm Northwind.db\n",
    "!cp Northwind_Ori.db Northwind.db\n",
    "!ls"
   ]
  },
  {
   "cell_type": "code",
   "execution_count": null,
   "id": "5415de91-bedd-49b2-a671-5d761fe1ed99",
   "metadata": {},
   "outputs": [],
   "source": [
    "import sqlite3\n",
    "\n",
    "#database = 'my.db'\n",
    "database = 'Northwind.db'\n",
    "def sendQuery(sql):\n",
    "    try:\n",
    "        with sqlite3.connect(database) as conn:\n",
    "            cursor = conn.cursor()\n",
    "            cursor.execute(sql)\n",
    "            conn.commit()\n",
    "            return cursor.fetchall()\n",
    "        \n",
    "    except sqlite3.Error as e:\n",
    "        print(e)\n",
    "\n",
    "def sendQueryWithData(sql, data):\n",
    "    try:\n",
    "        with sqlite3.connect(database) as conn:\n",
    "            cursor = conn.cursor()\n",
    "            for date in data:\n",
    "                cursor.execute(sql, date)\n",
    "            conn.commit()\n",
    "        \n",
    "        return cursor.fetchall()\n",
    "        \n",
    "    except sqlite3.Error as e:\n",
    "        print(e)\n",
    "    "
   ]
  },
  {
   "cell_type": "markdown",
   "id": "7e36eb24-9936-44e3-aba5-19191f0c45cb",
   "metadata": {},
   "source": [
    "# main tutorials"
   ]
  },
  {
   "cell_type": "markdown",
   "id": "124ab66b-c96e-4cd0-988d-e0cb9f9f5b43",
   "metadata": {},
   "source": [
    "## SELECT\n",
    "SELECT는 원하는 테이블에서 원하는 Column에 해당하는 데이터를 반환하는 쿼리문이다."
   ]
  },
  {
   "cell_type": "code",
   "execution_count": null,
   "id": "de7653de-1275-433a-b33c-d837c11d8f0c",
   "metadata": {},
   "outputs": [],
   "source": [
    "sql = \"SELECT * FROM Customers;\"\n",
    "sendQuery(sql)"
   ]
  },
  {
   "cell_type": "code",
   "execution_count": null,
   "id": "b0b04bb2-265a-449d-b6c4-021e5ac33f12",
   "metadata": {},
   "outputs": [],
   "source": [
    "sql = \"SELECT CustomerName, City FROM Customers;\"\n",
    "sendQuery(sql)"
   ]
  },
  {
   "cell_type": "code",
   "execution_count": null,
   "id": "7fc76e9a-f44c-438d-8807-11a328921276",
   "metadata": {},
   "outputs": [],
   "source": [
    "sql = \"SELECT DISTINCT Country FROM Customers;\"\n",
    "sendQuery(sql)"
   ]
  },
  {
   "cell_type": "code",
   "execution_count": null,
   "id": "6e5b6821-4ada-4dd5-ad16-f998920c5d17",
   "metadata": {},
   "outputs": [],
   "source": [
    "sql = \"SELECT Country FROM Customers;\"\n",
    "sendQuery(sql)"
   ]
  },
  {
   "cell_type": "markdown",
   "id": "6638d148-e02d-4139-bca4-70ff6ecca736",
   "metadata": {},
   "source": [
    "DISTINCT는 처음본다. 실행해보면 중복되는 데이터는 지우고 준다는 것을 알 수 있다."
   ]
  },
  {
   "cell_type": "markdown",
   "id": "973d58aa-9382-4941-8adb-7ec297f5d969",
   "metadata": {},
   "source": [
    "## WHERE\n",
    "조건을 거는 구문이다."
   ]
  },
  {
   "cell_type": "code",
   "execution_count": null,
   "id": "d3e93a2a-be93-4cec-9947-b9d13fc4300f",
   "metadata": {},
   "outputs": [],
   "source": [
    "sql = \"SELECT * FROM Customers WHERE Country='Mexico';\"\n",
    "sendQuery(sql)"
   ]
  },
  {
   "cell_type": "code",
   "execution_count": null,
   "id": "3702853f-2ce5-40b8-9ad1-a77bdfa70e68",
   "metadata": {},
   "outputs": [],
   "source": [
    "sql = \"\"\"SELECT * FROM Customers\n",
    "         WHERE CustomerID=1;\"\"\"\n",
    "sendQuery(sql)"
   ]
  },
  {
   "cell_type": "code",
   "execution_count": null,
   "id": "03353a9f-7a00-46a2-a9ee-6c1561b0e196",
   "metadata": {},
   "outputs": [],
   "source": [
    "sql = \"\"\"SELECT * FROM Customers\n",
    "         WHERE CustomerID > 80;\"\"\"\n",
    "sendQuery(sql)"
   ]
  },
  {
   "cell_type": "markdown",
   "id": "a7fe05a6-fcbe-4b88-8815-edcc737032fa",
   "metadata": {},
   "source": [
    "WHERE과 쓰일 수 있는 연산자는 =, >, <, >=, <=, <>, BETWEEN, LIKE, IN이 있다."
   ]
  },
  {
   "cell_type": "markdown",
   "id": "5b98db89-9097-4331-878d-336659d63e82",
   "metadata": {},
   "source": [
    "## ORDER BY\n",
    "ORDER BY는 데이터를 정렬해주는 쿼리문이다."
   ]
  },
  {
   "cell_type": "code",
   "execution_count": null,
   "id": "a7ed320c-a57f-4e68-a676-404e48750992",
   "metadata": {},
   "outputs": [],
   "source": [
    "sql = \"SELECT * FROM Products ORDER BY Price;\"\n",
    "sendQuery(sql)"
   ]
  },
  {
   "cell_type": "code",
   "execution_count": null,
   "id": "09006036-1bcc-4e65-928f-54f1d5b7b58b",
   "metadata": {},
   "outputs": [],
   "source": [
    "sql = \"SELECT * FROM Products ORDER BY Price DESC;\"\n",
    "sendQuery(sql)"
   ]
  },
  {
   "cell_type": "code",
   "execution_count": null,
   "id": "fb8a3f46-10cc-4a98-aca2-fb22437f700b",
   "metadata": {},
   "outputs": [],
   "source": [
    "sql = \"SELECT * FROM Customers ORDER BY Country, CustomerName;\"\n",
    "sendQuery(sql)"
   ]
  },
  {
   "cell_type": "code",
   "execution_count": null,
   "id": "db8c4c70-34a8-4b7d-aadb-38c9a149fea1",
   "metadata": {},
   "outputs": [],
   "source": [
    "sql = \"SELECT * FROM Customers ORDER BY Country ASC, CustomerName DESC;\"\n",
    "sendQuery(sql)"
   ]
  },
  {
   "cell_type": "markdown",
   "id": "11923677-6960-4f92-a4fd-deeff57e550c",
   "metadata": {},
   "source": [
    "특징으로는 ASC, DESC를 뒤에 써줄 수 있다. 숫자뿐만 아니라 알파벳 문자열에도 사용 가능하며, 여러 column을 붙이면 맨 처음 입력한 칼럼부터 우선순위를 가지고 정렬한다. "
   ]
  },
  {
   "cell_type": "markdown",
   "id": "c40ff574-0d2b-4f2d-a5bc-49c93c27a50a",
   "metadata": {},
   "source": [
    "## AND / OR / NOT\n",
    "논리 연산자이다. AND, OR는 각 논리식을 연결하는데 사용된다. NOT은 이미 논리연산을 한 조건을 뒤집을 때 사용한다."
   ]
  },
  {
   "cell_type": "code",
   "execution_count": null,
   "id": "f3ed7233-d5be-4748-8e2f-f69b82c30fea",
   "metadata": {},
   "outputs": [],
   "source": [
    "sql = \"\"\" SELECT *\n",
    "          FROM Customers\n",
    "          WHERE Country = 'Spain' AND CustomerName Like 'G%'; \"\"\"\n",
    "sendQuery(sql)"
   ]
  },
  {
   "cell_type": "code",
   "execution_count": null,
   "id": "224bc6e2-b7e4-4426-ab59-1cb3e150ccf6",
   "metadata": {},
   "outputs": [],
   "source": [
    "sql = \"\"\" SELECT *\n",
    "          FROM Customers\n",
    "          WHERE Country = 'Spain' OR Country = 'Germany'; \"\"\"\n",
    "sendQuery(sql)"
   ]
  },
  {
   "cell_type": "code",
   "execution_count": null,
   "id": "07d49b66-494f-4db3-aff4-750207495f10",
   "metadata": {},
   "outputs": [],
   "source": [
    "sql = \"\"\" SELECT DISTINCT Country FROM Customers\n",
    "          WHERE NOT Country = 'Spain';\"\"\"\n",
    "sendQuery(sql)"
   ]
  },
  {
   "cell_type": "markdown",
   "id": "09884c2d-e6a4-4804-989f-a9390845d4c0",
   "metadata": {},
   "source": [
    "AND OR NOT을 섞어 쓸 수 있다. 연산자 우선순위는 AND가 OR보다 높다. NOT은 대부분의 경우에 연산자로 대체가 가능하다. 또, LIKE, BETWEEN, IN 앞에도 쓸 수 있다"
   ]
  },
  {
   "cell_type": "markdown",
   "id": "cc039d17-8c64-42f4-8d53-3f3095379af8",
   "metadata": {},
   "source": [
    "## INSERT INTO\n",
    "Table에 row를 추가하는 구문이다."
   ]
  },
  {
   "cell_type": "code",
   "execution_count": null,
   "id": "0032ef9d-b79c-4f39-bab1-d19ac5123d21",
   "metadata": {},
   "outputs": [],
   "source": [
    "sql = \"\"\" INSERT INTO Customers (CustomerName, ContactName, Address, City, PostalCode, Country)\n",
    "VALUES ('Cardinal', 'Tom B. Erichsen', 'Skagen 21', 'Stavanger', '4006', 'Norway'); \"\"\"\n",
    "sendQuery(sql)"
   ]
  },
  {
   "cell_type": "code",
   "execution_count": null,
   "id": "7e1cfc07-bc99-4328-85d8-c2cabe081107",
   "metadata": {},
   "outputs": [],
   "source": [
    "sql = \"SELECT * FROM Customers WHERE CustomerName='Cardinal';\"\n",
    "sendQuery(sql)"
   ]
  },
  {
   "cell_type": "markdown",
   "id": "19118f19-2794-454d-b98b-9b1a89670312",
   "metadata": {},
   "source": [
    "Cardinal씨가 리스트에 잘 추가되었다."
   ]
  },
  {
   "cell_type": "markdown",
   "id": "1a2515a0-f220-4a57-bb41-05cfbf838620",
   "metadata": {},
   "source": [
    "## NUlL, IS NULL, IS NOT NULL\n",
    "NULL 값은 아무 것도 입력이 안된 값이다."
   ]
  },
  {
   "cell_type": "code",
   "execution_count": null,
   "id": "7a05d1dd-ad4a-4603-806a-43a10a80e2a6",
   "metadata": {},
   "outputs": [],
   "source": [
    "sql = \"\"\"SELECT CustomerName, ContactName, Address\n",
    "         FROM Customers\n",
    "         WHERE Address IS NULL;\"\"\"\n",
    "sendQuery(sql)"
   ]
  },
  {
   "cell_type": "code",
   "execution_count": null,
   "id": "d8989672-175d-4375-8b98-fe24422ed612",
   "metadata": {},
   "outputs": [],
   "source": [
    "sql = \"\"\"SELECT CustomerName, ContactName, Address\n",
    "         FROM Customers\n",
    "         WHERE Address IS NOT NULL;\"\"\"\n",
    "sendQuery(sql)"
   ]
  },
  {
   "cell_type": "markdown",
   "id": "965efa5a-ca57-41f4-bf01-3f73d82a4e6e",
   "metadata": {},
   "source": [
    "Customer 테이블에 주소가 등록되지 않은 사람은 아무도 없는 모양이다."
   ]
  },
  {
   "cell_type": "markdown",
   "id": "7bc10c1b-42dc-4299-abdc-2e0ce263cebc",
   "metadata": {},
   "source": [
    "## UPDATE\n",
    "데이터 값을 바꾸는(갱신하는) 쿼리문이다."
   ]
  },
  {
   "cell_type": "code",
   "execution_count": null,
   "id": "91e2cc14-f1c0-4d37-9b23-9c3236776642",
   "metadata": {},
   "outputs": [],
   "source": [
    "sql = \"\"\"UPDATE Customers\n",
    "         SET ContactName = 'Alfred Schmidt', City= 'Frankfurt'\n",
    "         WHERE CustomerID = 1;\"\"\"\n",
    "sendQuery(sql)"
   ]
  },
  {
   "cell_type": "code",
   "execution_count": null,
   "id": "2e4021d0-1f9c-4802-bff7-0f7cd56639e5",
   "metadata": {},
   "outputs": [],
   "source": [
    "sql = \"\"\"SELECT *\n",
    "         FROM Customers\n",
    "         WHERE CustomerID = 1;\"\"\"\n",
    "sendQuery(sql)"
   ]
  },
  {
   "cell_type": "markdown",
   "id": "a03f511c-c28b-4311-ac26-8d8eff3bb78b",
   "metadata": {},
   "source": [
    "알프레드씨의 정보가 잘 업데이트 되었다. UPDATE를 쓸 때는 WHERE로 조건을 꼭 걸어주자. 그렇지 않으면 모든 데이터가 업데이트 될 수 있다."
   ]
  },
  {
   "cell_type": "markdown",
   "id": "448240ba-e157-425f-a916-f124e483a311",
   "metadata": {},
   "source": [
    "## DELETE, DROP\n",
    "무언가를 삭제하는 쿼리문이다. 이하는 예문이다. 이하는 실행하지 않는 것을 추천한다. 다음에도 계속해서 Customer를 사용한다."
   ]
  },
  {
   "cell_type": "code",
   "execution_count": null,
   "id": "f27cd768-2d1d-49d1-b5d1-7332e418a24c",
   "metadata": {},
   "outputs": [],
   "source": [
    "#sql = \"DELETE FROM Customers WHERE CustomerName='Alfreds Futterkiste';\"\n",
    "sendQuery(sql)"
   ]
  },
  {
   "cell_type": "code",
   "execution_count": null,
   "id": "fc135ffc-3cbd-4cb5-b1d5-9477f829eba5",
   "metadata": {},
   "outputs": [],
   "source": [
    "#sql = \"SELECT CustomerName FROM Customers;\"\n",
    "sendQuery(sql)"
   ]
  },
  {
   "cell_type": "code",
   "execution_count": null,
   "id": "43543c3e-ef8f-4957-9677-c8039034c67d",
   "metadata": {},
   "outputs": [],
   "source": [
    "#sql = \"DELETE FROM Customers;\"\n",
    "sendQuery(sql)"
   ]
  },
  {
   "cell_type": "code",
   "execution_count": null,
   "id": "3e4b068e-8881-4440-adc2-48edd8baff07",
   "metadata": {},
   "outputs": [],
   "source": [
    "#sql = \"DROP TABLE Customers;\"\n",
    "sendQuery(sql)"
   ]
  },
  {
   "cell_type": "markdown",
   "id": "e20e8489-cc7a-4885-945d-fa2a1c7fad76",
   "metadata": {},
   "source": [
    "WHERE 조건문을 꼭 달자. 안그럼 테이블 전체가 다 지워진다."
   ]
  },
  {
   "cell_type": "markdown",
   "id": "e92cc052-636d-4715-88d9-57de2e7c0c4c",
   "metadata": {},
   "source": [
    "## TOP, LIMIT, FETCH FIRST, ROWNUM\n",
    "맨 위의 몇개의 row만 가져오게 제한을 거는 구문이다\n"
   ]
  },
  {
   "cell_type": "code",
   "execution_count": null,
   "id": "54af497e-3b02-4de3-9477-4461936955fe",
   "metadata": {},
   "outputs": [],
   "source": [
    "#sql = \"SELECT TOP 3 * FROM Customers;\"\n",
    "sql = \"SELECT * FROM Customers LIMIT 3;\"\n",
    "#sql = \"SELECT * FROM Customers FETCH FIRST 3 ONLY;\"\n",
    "sendQuery(sql)"
   ]
  },
  {
   "cell_type": "markdown",
   "id": "3b9d6a36-40dc-4475-b41f-dda708aeb442",
   "metadata": {},
   "source": [
    "sql = \"SELECT TOP 3 * FROM Customers;\"\n",
    "sql = \"SELECT * FROM Customers LIMIT 3;\"\n",
    "sql = \"SELECT * FROM Customers FETCH FIRST 3;\"\n",
    "다 같은 내용의 쿼리문이지만 두번째 LIMIT만 작동을 한다. 추측해보건데 PERCENT를 막기 위해 이렇게 된것이 아닐까 싶다."
   ]
  },
  {
   "cell_type": "code",
   "execution_count": null,
   "id": "28549eeb-961b-4693-b942-18519b34f95f",
   "metadata": {},
   "outputs": [],
   "source": [
    "sql = \"\"\"SELECT * FROM Customers LIMIT 3\n",
    "         ORDER BY CustomerName DESC;\"\"\"\n",
    "sendQuery(sql)"
   ]
  },
  {
   "cell_type": "code",
   "execution_count": null,
   "id": "16cad989-88be-479d-ad3d-9d853b87451b",
   "metadata": {},
   "outputs": [],
   "source": [
    "sql = \"\"\"SELECT * FROM Customers\n",
    "         ORDER BY CustomerName DESC\n",
    "         LIMIT 3;\"\"\"\n",
    "sendQuery(sql)"
   ]
  },
  {
   "cell_type": "markdown",
   "id": "d43dfa4b-f795-4cdb-8a30-2fe0406b16ff",
   "metadata": {},
   "source": [
    "sql = \"SELECT * FROM Customers LIMIT 3 ORDER BY CustomerName DESC;\"가 되지 않았다. LIMIT로 조금 받아온 데이터를 정렬하고 싶으면 어떻게 해야 하는가? 라는 질문이 생긴다."
   ]
  },
  {
   "cell_type": "markdown",
   "id": "e10c8354-6020-4f35-b590-d4e64dc8e9b6",
   "metadata": {},
   "source": [
    "## Aggregate Functions"
   ]
  },
  {
   "cell_type": "markdown",
   "id": "ff22e877-7752-41dd-b789-788c3cf12a8f",
   "metadata": {},
   "source": [
    "### MIN, MAX (AS, GROUP BY)\n",
    "지정한 Column의 최대, 최소를 반환한다."
   ]
  },
  {
   "cell_type": "code",
   "execution_count": null,
   "id": "9fc31dc6-54d2-4f50-b721-f43a5850d70f",
   "metadata": {},
   "outputs": [],
   "source": [
    "sql = \"SELECT MIN(Price) FROM Products\"\n",
    "sendQuery(sql)"
   ]
  },
  {
   "cell_type": "code",
   "execution_count": null,
   "id": "4aeee1a2-3fdc-4826-b168-c06c7642b550",
   "metadata": {},
   "outputs": [],
   "source": [
    "sql = \"SELECT MAX(Price) FROM Products\"\n",
    "sendQuery(sql)"
   ]
  },
  {
   "cell_type": "code",
   "execution_count": null,
   "id": "460a6fa8-cd53-4c90-9b19-2dd9daee90fd",
   "metadata": {},
   "outputs": [],
   "source": [
    "sendQuery(\"\"\"SELECT MIN(Price) AS SmallestPrice, CategoryID\n",
    "             FROM Products;\n",
    "             GROUP BY CategoryID;\"\"\")"
   ]
  },
  {
   "cell_type": "markdown",
   "id": "76b5fbf9-11f5-4eab-8a37-8ea86ab50545",
   "metadata": {},
   "source": [
    "AS와 GROUP BY가 등장했다. AS는 TABLE의 칼럼 레이블을 원하는 다른 이름으로 바꿔서 SELECT의 결과로 보내주는 역할을 한다. 또한 Group by는 pandas의 그것과 같이 같은 값을 가진 row끼리 모아서 연산시키는 함수이다."
   ]
  },
  {
   "cell_type": "markdown",
   "id": "d5c47a15-4e28-4b2a-b9d0-bd28c3073f83",
   "metadata": {},
   "source": [
    "### COUNT\n",
    "엑셀의 count 함수처럼 개수를 세준다"
   ]
  },
  {
   "cell_type": "code",
   "execution_count": null,
   "id": "a346534d-1578-4495-9d38-78c7ea022577",
   "metadata": {},
   "outputs": [],
   "source": [
    "sql = \"SELECT COUNT(*) FROM Products\"\n",
    "sendQuery(sql)"
   ]
  },
  {
   "cell_type": "markdown",
   "id": "922c7564-bb8e-48f9-8e06-26d8100d89cb",
   "metadata": {},
   "source": [
    "where함수와 적절이 섞어 쓰면 엑셀의 countif함수처럼 사용할 수 있다."
   ]
  },
  {
   "cell_type": "markdown",
   "id": "8935f5f5-7e21-4c0e-9792-dcd9c177586b",
   "metadata": {},
   "source": [
    "### SUM"
   ]
  },
  {
   "cell_type": "code",
   "execution_count": null,
   "id": "e6c1ac56-5554-48e8-a27c-3f26cf78389f",
   "metadata": {},
   "outputs": [],
   "source": [
    "sql = \"SELECT SUM(Quantity) FROM OrderDetails;\"\n",
    "sendQuery(sql)"
   ]
  },
  {
   "cell_type": "code",
   "execution_count": null,
   "id": "58990b8a-0374-4999-a174-33a6b993b2b0",
   "metadata": {},
   "outputs": [],
   "source": [
    "sql = \"SELECT OrderID, SUM(Quantity) AS [Total Quantity] FROM OrderDetails GROUP BY OrderID;\"\n",
    "sendQuery(sql)"
   ]
  },
  {
   "cell_type": "code",
   "execution_count": null,
   "id": "d156ecce-5d26-4661-86b6-0a54da7d72b6",
   "metadata": {},
   "outputs": [],
   "source": [
    "sql = \"\"\"SELECT SUM(Price * Quantity)\n",
    "FROM OrderDetails\n",
    "LEFT JOIN Products ON OrderDetails.ProductID = Products.ProductID;\"\"\"\n",
    "sendQuery(sql)"
   ]
  },
  {
   "cell_type": "markdown",
   "id": "9a88dfd3-9ff2-4aa7-a2df-ce10ff653c68",
   "metadata": {},
   "source": [
    "Where을 섞어 쓰면 sumif함수를 엑셀에서 쓰듯이 쓸 수 있고, GROUP BY를 이용하면 같은 값에 대한 다른 칼럼의 합을 구할 수 있다."
   ]
  },
  {
   "cell_type": "markdown",
   "id": "d6bd1853-4a8f-42c3-b360-7ad1f75015f8",
   "metadata": {},
   "source": [
    "### AVG\n",
    "말 그대로 평균을 구하는 함수이다."
   ]
  },
  {
   "cell_type": "code",
   "execution_count": null,
   "id": "4bac6e4d-b452-4474-a885-524c2f93e784",
   "metadata": {},
   "outputs": [],
   "source": [
    "sql = \"SELECT AVG(Price) FROM Products;\"\n",
    "sendQuery(sql)"
   ]
  },
  {
   "cell_type": "code",
   "execution_count": null,
   "id": "17d01417-d9c6-431c-bb94-9861d624ca99",
   "metadata": {},
   "outputs": [],
   "source": [
    "sql = \"SELECT * FROM Products WHERE price > (SELECT AVG(price) FROM Products);\"\n",
    "sendQuery(sql)"
   ]
  },
  {
   "cell_type": "markdown",
   "id": "f7fe756b-ea7c-44eb-bfea-65eca1b9f1b6",
   "metadata": {},
   "source": [
    "sum과 마찬가지로 where과 같이 쓰면 조건에 부합하는 데이터의 평균이 구해지고, group by를 쓰면 해당 값과 동일한 값끼리 평균을 구하는 연산을 하게 된다. 특이한 쓰임세로는 where문 내부에 avg를 넣어서 평균보다 높은/낮은 값을 갖는 데이터를 불러올수도 있다."
   ]
  },
  {
   "cell_type": "markdown",
   "id": "3796f68c-2340-4366-9722-1b648acf836d",
   "metadata": {},
   "source": [
    "## LIKE, wild card\n",
    "정규 표현문을 사용하듯이 쓸 수 있는 키워드이다\n"
   ]
  },
  {
   "cell_type": "code",
   "execution_count": null,
   "id": "4a9ba9c9-ef91-4ea0-8c31-c865f2de2678",
   "metadata": {},
   "outputs": [],
   "source": [
    "sql = \"SELECT * FROM Customers WHERE CustomerName LIKE 'a%';\"\n",
    "sendQuery(sql)"
   ]
  },
  {
   "cell_type": "markdown",
   "id": "40891380-5fa9-4f44-9373-8c6e91db48db",
   "metadata": {},
   "source": [
    "이 키워드를 잘 쓰기 위해선 와일드카드를 잘 알아야 한다. \n",
    "\n",
    "* _는 해당 위치에 아무 문자나 와도 된다는 의미이다.\n",
    "* %는 해당 위치에는 임의 길이를 갖는 문자열이 들어가도 된다는 의미이다."
   ]
  },
  {
   "cell_type": "markdown",
   "id": "4bda8f82-f475-4fbd-ac66-d530d4470186",
   "metadata": {},
   "source": [
    "## IN\n",
    "WHERE과 함께 쓰여서 복수의 조건을 한번에 나타내기 위해 쓰인다."
   ]
  },
  {
   "cell_type": "code",
   "execution_count": null,
   "id": "31c733bf-57a9-4b3b-b491-0407f81a7b5d",
   "metadata": {},
   "outputs": [],
   "source": [
    "sql = \"SELECT * FROM Customers WHERE Country IN ('Germany', 'France', 'UK');\"\n",
    "sendQuery(sql)"
   ]
  },
  {
   "cell_type": "code",
   "execution_count": null,
   "id": "f7ba727a-fe02-47b6-9ef2-bb959d20a444",
   "metadata": {},
   "outputs": [],
   "source": [
    "sql = \"SELECT * FROM Customers WHERE CustomerID IN (SELECT CustomerID FROM Orders);\"\n",
    "sendQuery(sql)"
   ]
  },
  {
   "cell_type": "markdown",
   "id": "7947bb6b-602b-4dee-b526-893bf9ebde9d",
   "metadata": {},
   "source": [
    "NOT과 함께 쓰여서 부정을 취할수도 있고 내부 조건으로 다른 SELECT의 결과를 줄 수도 있다."
   ]
  },
  {
   "cell_type": "markdown",
   "id": "7326d09d-742f-4f1a-bc2d-6875f83a6eb5",
   "metadata": {},
   "source": [
    "## BETWEEN\n",
    "범위를 결정하는 키워드이다. 숫자뿐 아니라 문자열 날짜에도 사용가능하다."
   ]
  },
  {
   "cell_type": "code",
   "execution_count": null,
   "id": "73436b7c-0b20-49e4-a53d-48d894d8b733",
   "metadata": {},
   "outputs": [],
   "source": [
    "sql = \"SELECT * FROM Products WHERE Price BETWEEN 10 AND 20;\"\n",
    "sendQuery(sql)"
   ]
  },
  {
   "cell_type": "code",
   "execution_count": null,
   "id": "11ae5f1a-60e8-4000-a29a-42c2c7db29d0",
   "metadata": {},
   "outputs": [],
   "source": [
    "sql = \"\"\"SELECT * FROM Products\n",
    "         WHERE ProductName BETWEEN 'Carnarvon Tigers' AND 'Mozzarella di Giovanni'\n",
    "         ORDER BY ProductName;\"\"\"\n",
    "sendQuery(sql)"
   ]
  },
  {
   "cell_type": "code",
   "execution_count": null,
   "id": "3e9865e9-e8a2-4355-8c10-1e2b1bffcc61",
   "metadata": {},
   "outputs": [],
   "source": [
    "sql = \"SELECT * FROM Orders WHERE OrderDate BETWEEN '1996-07-01' AND '1996-07-31';\"\n",
    "sendQuery(sql)"
   ]
  },
  {
   "cell_type": "markdown",
   "id": "7fc2d124-a8bb-46f8-a957-5039da4af118",
   "metadata": {},
   "source": [
    "## AS (Aliases)\n",
    "테이블에서 불러오고자 하는 데이터의 column과 내가 다루고자 하는 데이터의 column이 다를 때 요긴하게 쓰인다. 쓰고자 하는 데이터 명에 스페이스 바, 공백문자가 들어가면 대괄호로 쳐서 해결하던가, 큰ㅈ따오포를 쳐서 해결해야 한다."
   ]
  },
  {
   "cell_type": "code",
   "execution_count": null,
   "id": "4d4cec34-7864-4097-8ccc-5f95df29da00",
   "metadata": {},
   "outputs": [],
   "source": [
    "sql = \"SELECT CustomerID AS ID, CustomerName AS Customer FROM Customers;\"\n",
    "sendQuery(sql)"
   ]
  },
  {
   "cell_type": "code",
   "execution_count": null,
   "id": "1bc9b131-d9af-4b3e-88cb-1c35e70605f6",
   "metadata": {},
   "outputs": [],
   "source": [
    "#sql =\"SELECT ProductName AS [My Great Products] FROM Products;\"\n",
    "sql =\"SELECT ProductName AS \"\"MyGreatProducts\"\" FROM Products;\"\n",
    "sendQuery(sql)"
   ]
  },
  {
   "cell_type": "markdown",
   "id": "8fa79247-f30d-4d5c-a056-ffe72aca9ea3",
   "metadata": {},
   "source": [
    "Table에도 가능하다."
   ]
  },
  {
   "cell_type": "code",
   "execution_count": null,
   "id": "867d42e6-0ead-417e-86a2-e6fb64269eb2",
   "metadata": {},
   "outputs": [],
   "source": [
    "sql = \"SELECT * FROM Customers AS Persons;\"\n",
    "sendQuery(sql)"
   ]
  },
  {
   "cell_type": "code",
   "execution_count": null,
   "id": "5e4d7812-a0ec-4e65-8f52-e934bc4acf25",
   "metadata": {},
   "outputs": [],
   "source": [
    "sql = \"SELECT CustomerName, (Address || ', ' || PostalCode || ' ' || City || ', ' || Country) AS Address FROM Customers;\"\n",
    "sendQuery(sql)"
   ]
  },
  {
   "cell_type": "markdown",
   "id": "53dd2dab-844d-4ad2-851c-c39b8d989ef6",
   "metadata": {},
   "source": [
    "## JOIN\n",
    "\n",
    "join은 연관된 column을 기준으로 여러 테이블의 행을 이어 붙이는 명령어이다.\n",
    "\n",
    "기본적으로 JOIN만 쓰면 각 테이블에 겹치는 column이 있는 행만 이어 붙이게 되고, LEFT/RIGHT/FULL JOIN등을 쓰게 되면 칼럼이 겹치지 않더라도 여러 테이블의 행을 이어 붙이게 된다."
   ]
  },
  {
   "cell_type": "code",
   "execution_count": null,
   "id": "81ee9d07-e05a-472f-bb74-a5a7999b5cfd",
   "metadata": {},
   "outputs": [],
   "source": [
    "sql = \"\"\"SELECT Orders.OrderID, Customers.CustomerName, Orders.OrderDate\n",
    "         FROM Orders\n",
    "         INNER JOIN Customers ON Orders.CustomerID=Customers.CustomerID;\"\"\"\n",
    "sendQuery(sql)"
   ]
  },
  {
   "cell_type": "code",
   "execution_count": null,
   "id": "7954d274-3d24-4d06-811a-ada05c775e4a",
   "metadata": {},
   "outputs": [],
   "source": [
    "sql = \"\"\"SELECT Customers.CustomerName, Orders.OrderID\n",
    "         FROM Customers\n",
    "         LEFT JOIN Orders ON Customers.CustomerID = Orders.CustomerID\n",
    "         ORDER BY Customers.CustomerName;\"\"\"\n",
    "sendQuery(sql)"
   ]
  },
  {
   "cell_type": "code",
   "execution_count": null,
   "id": "c1d1348d-a95b-4a36-9d2d-4c865ed44bcf",
   "metadata": {},
   "outputs": [],
   "source": [
    "sql = \"\"\"SELECT Orders.OrderID, Employees.LastName, Employees.FirstName\n",
    "         FROM Orders\n",
    "         RIGHT JOIN Employees ON Orders.EmployeeID = Employees.EmployeeID\n",
    "         ORDER BY Orders.OrderID;\"\"\"\n",
    "sendQuery(sql)"
   ]
  },
  {
   "cell_type": "code",
   "execution_count": null,
   "id": "ac05db5c-0e9c-4065-bbff-e04389321f6a",
   "metadata": {},
   "outputs": [],
   "source": [
    "sql = \"\"\"SELECT Customers.CustomerName, Orders.OrderID\n",
    "         FROM Customers\n",
    "         FULL OUTER JOIN Orders ON Customers.CustomerID=Orders.CustomerID\n",
    "         ORDER BY Customers.CustomerName;\"\"\"\n",
    "\n",
    "sendQuery(sql)"
   ]
  },
  {
   "cell_type": "code",
   "execution_count": null,
   "id": "a71cefe5-c059-43dc-8117-a1b93352e225",
   "metadata": {},
   "outputs": [],
   "source": [
    "sql = \"\"\"SELECT A.CustomerName AS CustomerName1, B.CustomerName AS CustomerName2, A.City\n",
    "         FROM Customers A, Customers B\n",
    "         WHERE A.CustomerID <> B.CustomerID\n",
    "         AND A.City = B.City \n",
    "         ORDER BY A.City;\"\"\"\n",
    "sendQuery(sql)"
   ]
  },
  {
   "cell_type": "markdown",
   "id": "94434124-e109-4a28-a05a-766bd5465ac7",
   "metadata": {},
   "source": [
    "inner join은 각 테이블에 column중 select하는 column이 있는 경우에만 row를 합쳐서 가져오고, outer join의 경우는 칼럼이 없더라도 LEFT RIGHT 조건에 부합하기만 한다면 row를 합쳐서 보여준다. SELF JOIN같은 경우엔 JOIN 명령을 안쓰더라도 작동한다."
   ]
  },
  {
   "cell_type": "markdown",
   "id": "f0499ce3-d1ca-4cd4-b9ae-6e4d4de48c44",
   "metadata": {},
   "source": [
    "## UNION\n",
    "\n",
    "SELECT해서 나온 결과를 이어붙여주는 문법이다. 제한사항은 다음과 같다:\n",
    "\n",
    "* 각 SELECT문의 COLUMN개수는 같아야 한다.\n",
    "* 각 COLUMN은 데이터 타입이 같아야 한다.\n",
    "* SELECT문 속 고르는 COLUMN의 순서 또한 같아야 한다.\n",
    "\n",
    "이렇게 하면 SELECT결과를 합쳐준다고 한다"
   ]
  },
  {
   "cell_type": "markdown",
   "id": "0d5a5a34-0513-4014-ac9a-51331d503e26",
   "metadata": {},
   "source": [
    "## GROUP BY\n",
    "\n",
    "pandas의 groyp by와 동일하게 데이터중 일부 column이 같은 부분을 모아서 각 부분마다 데이터 처리 함수를 실행한 뒤, 다시 모아서 보여주는 명령어이다."
   ]
  },
  {
   "cell_type": "code",
   "execution_count": null,
   "id": "717ead83-415b-4761-9775-2900fc58e859",
   "metadata": {},
   "outputs": [],
   "source": [
    "sql = \"\"\"SELECT COUNT(CustomerID), Country\n",
    "         FROM Customers\n",
    "         GROUP BY Country;\"\"\"\n",
    "sendQuery(sql)"
   ]
  },
  {
   "cell_type": "markdown",
   "id": "4e886740-5eb7-42d3-93d9-451711fb608f",
   "metadata": {},
   "source": [
    "위 함수의 실행 결과는 각 국적의 사람들의 수를 집계한 데이터가 나오게 된다. 조금 더 복잡하게는 다음과 같이 JOIN과 엮어서 쓸 수 있다."
   ]
  },
  {
   "cell_type": "code",
   "execution_count": null,
   "id": "82a5229f-097c-40e9-9805-114d4fe252dc",
   "metadata": {},
   "outputs": [],
   "source": [
    "sql = \"\"\"SELECT Shippers.ShipperName, COUNT(Orders.OrderID) AS NumberOfOrders FROM Orders\n",
    "         LEFT JOIN Shippers ON Orders.ShipperID = Shippers.ShipperID\n",
    "         GROUP BY ShipperName;\"\"\"\n",
    "sendQuery(sql)"
   ]
  },
  {
   "cell_type": "markdown",
   "id": "b17d107f-74ab-4106-ba24-2e308d548573",
   "metadata": {},
   "source": [
    "## HAVING\n",
    "\n",
    "WHERE문 안에서는 추가적인 데이터 처리 함수를 쓰지 못하기 때문에 HAVING을 써서 이를 해결한다."
   ]
  },
  {
   "cell_type": "code",
   "execution_count": null,
   "id": "c9203cdf-07f8-43cd-b6ba-0d87416d469e",
   "metadata": {},
   "outputs": [],
   "source": [
    "sql = \"\"\"SELECT COUNT(CustomerID), Country\n",
    "         FROM Customers\n",
    "         GROUP BY Country\n",
    "         HAVING COUNT(CustomerID) > 5;\n",
    "\"\"\"\n",
    "sendQuery(sql)"
   ]
  },
  {
   "cell_type": "code",
   "execution_count": null,
   "id": "1ad13df1",
   "metadata": {},
   "outputs": [],
   "source": [
    "sql = \"\"\"SELECT COUNT(CustomerID), Country\n",
    "         FROM Customers\n",
    "         GROUP BY Country\n",
    "         HAVING COUNT(CustomerID) > 5\n",
    "         ORDER BY COUNT(CustomerID) DESC;\n",
    "\"\"\"\n",
    "sendQuery(sql)"
   ]
  },
  {
   "cell_type": "markdown",
   "id": "08e10b75",
   "metadata": {},
   "source": [
    "위의 두 쿼리는 국가당 계정이 5개 있는 나라와 계정 수를 출력하는 쿼리였다. ORDER BY DESCENT로 역순 정렬도 하는 보습을 확인할 수 있다."
   ]
  },
  {
   "cell_type": "markdown",
   "id": "cb959e2c",
   "metadata": {},
   "source": [
    "## EXISTS\n",
    "서브 쿼리문의 결과에서 아이템이 존재하면 참이 된다."
   ]
  },
  {
   "cell_type": "code",
   "execution_count": null,
   "id": "8d29c426",
   "metadata": {},
   "outputs": [],
   "source": [
    "sql = \"\"\"SELECT SupplierName\n",
    "FROM Suppliers\n",
    "WHERE EXISTS (SELECT ProductName FROM Products WHERE Products.SupplierID = Suppliers.supplierID AND Price < 20);\n",
    "\"\"\"\n",
    "sendQuery(sql)"
   ]
  },
  {
   "cell_type": "markdown",
   "id": "02d68e39",
   "metadata": {},
   "source": [
    "위의 코드에서는 마트에 제품을 공급하는 사업자 중 20불보다 싼 물건을 납품하는 업자들의 명단이다."
   ]
  },
  {
   "cell_type": "markdown",
   "id": "b3b22830",
   "metadata": {},
   "source": [
    "# ANY and ALL\n",
    "\n",
    "이름 그대로 서브쿼리에 조건에 맞는 값이 하나라도/모두가 온다면 TRUE를 반환한다."
   ]
  },
  {
   "cell_type": "code",
   "execution_count": null,
   "id": "4f21f4ce",
   "metadata": {},
   "outputs": [],
   "source": [
    "sql = \"\"\"SELECT ProductName\n",
    "         FROM Products\n",
    "         WHERE ProductID = ANY\n",
    "         (SELECT ProductID\n",
    "         FROM OrderDetails\n",
    "         WHERE Quantity = 10);\n",
    "\"\"\"\n",
    "sendQuery(sql)"
   ]
  },
  {
   "cell_type": "code",
   "execution_count": null,
   "id": "bd4d6e31",
   "metadata": {},
   "outputs": [],
   "source": [
    "sql = \"\"\"SELECT ProductName\n",
    "         FROM Products\n",
    "         WHERE ProductID = ANY\n",
    "         (SELECT ProductID\n",
    "         FROM OrderDetails\n",
    "         WHERE Quantity > 1000);\n",
    "\"\"\"\n",
    "sendQuery(sql)"
   ]
  },
  {
   "cell_type": "code",
   "execution_count": null,
   "id": "f4444e96",
   "metadata": {},
   "outputs": [],
   "source": [
    "sql = \"\"\"SELECT ProductName\n",
    "         FROM Products\n",
    "         WHERE ProductID = ALL\n",
    "         (SELECT ProductID\n",
    "         FROM OrderDetails\n",
    "         WHERE Quantity = 10);\"\"\"\n",
    "sendQuery(sql)"
   ]
  },
  {
   "cell_type": "markdown",
   "id": "dca64222",
   "metadata": {},
   "source": [
    "ALL과 ANY는 작동하지 않았다."
   ]
  },
  {
   "cell_type": "markdown",
   "id": "76fa8dc5",
   "metadata": {},
   "source": [
    "# SELECT INTO\n",
    "해당 구문은 새로운 테이블에 고른 데이터를 넣을려고 사용한다"
   ]
  },
  {
   "cell_type": "code",
   "execution_count": null,
   "id": "84294a25",
   "metadata": {},
   "outputs": [],
   "source": [
    "sql = \"SELECT * INTO CustomersBackup2017 FROM Customers;\"\n",
    "sendQuery(sql)\n",
    "sql = \"SELECT * FROM CustomersBackup2017\"\n",
    "sendQuery(sql)"
   ]
  },
  {
   "cell_type": "markdown",
   "id": "f822a1c5",
   "metadata": {},
   "source": [
    "실행이 안되고 있는 모습을 보여준다"
   ]
  },
  {
   "cell_type": "markdown",
   "id": "14fe333f",
   "metadata": {},
   "source": [
    "# INSERT INTO SELECT\n",
    "뒤에서 SELECT에 의해 선택된 데이터를 INSERT INTO 뒤에 오는 테이블에 넣는다."
   ]
  },
  {
   "cell_type": "code",
   "execution_count": null,
   "id": "f530d3db",
   "metadata": {},
   "outputs": [],
   "source": [
    "sql = \"\"\"INSERT INTO Customers (CustomerName, City, Country)\n",
    "         SELECT SupplierName, City, Country FROM Suppliers;\"\"\"\n",
    "sendQuery(sql)\n",
    "sql = \"SELECT * FROM Customers\"\n",
    "sendQuery(sql)"
   ]
  },
  {
   "cell_type": "markdown",
   "id": "36f714b9",
   "metadata": {},
   "source": [
    "맨 뒤에 서플라이어 테이블로붜 일부가 커스토머에 추가된 것을 확인할 수 있다."
   ]
  },
  {
   "cell_type": "markdown",
   "id": "d462ebce",
   "metadata": {},
   "source": [
    "# CASE\n",
    "c 언어의 case문처럼 여러개의 조건을 다루기 위해 사용한다."
   ]
  },
  {
   "cell_type": "code",
   "execution_count": null,
   "id": "fa195375",
   "metadata": {},
   "outputs": [],
   "source": [
    "sql = \"\"\"SELECT OrderID, Quantity,\n",
    "         CASE\n",
    "             WHEN Quantity > 30 THEN 'The quantity is greater than 30'\n",
    "             WHEN Quantity = 30 THEN 'The quantity is 30'\n",
    "             ELSE 'The quantity is under 30'    \n",
    "         END AS QuantityText\n",
    "         FROM OrderDetails;\"\"\"\n",
    "sendQuery(sql)"
   ]
  },
  {
   "cell_type": "code",
   "execution_count": null,
   "id": "723f2bc8",
   "metadata": {},
   "outputs": [],
   "source": [
    "sql = \"\"\"SELECT CustomerName, City, Country\n",
    "         FROM Customers\n",
    "         ORDER BY\n",
    "         (CASE\n",
    "             WHEN City IS NULL THEN Country\n",
    "             ELSE City\n",
    "         END);\n",
    "\"\"\"\n",
    "sendQuery(sql)"
   ]
  },
  {
   "cell_type": "markdown",
   "id": "17f4930d",
   "metadata": {},
   "source": [
    "case문을 이용하여 여타 프로그래밍 언어의 if 문과도 같은 사용을 할 수 있다."
   ]
  },
  {
   "cell_type": "markdown",
   "id": "1f4402a0",
   "metadata": {},
   "source": [
    "# NULL\n",
    "NULL값이 왔을 때 다른 값으로 처리하는 함수를 다룬다."
   ]
  },
  {
   "cell_type": "code",
   "execution_count": null,
   "id": "3a730225",
   "metadata": {},
   "outputs": [],
   "source": [
    "sql = \"\"\"SELECT ProductName, UnitPrice * (UnitsInStock + IFNULL(UnitsOnOrder, 0))\n",
    "         FROM Products;\"\"\"\n",
    "sendQuery(sql)"
   ]
  },
  {
   "cell_type": "code",
   "execution_count": null,
   "id": "785a157c",
   "metadata": {},
   "outputs": [],
   "source": [
    "sql = \"\"\"SELECT ProductName, UnitPrice * (UnitsInStock + ISNULL(UnitsOnOrder, 0))\n",
    "         FROM Products;\"\"\"\n",
    "sendQuery(sql)"
   ]
  },
  {
   "cell_type": "code",
   "execution_count": null,
   "id": "54805d57",
   "metadata": {},
   "outputs": [],
   "source": [
    "sql = \"\"\"SELECT ProductName, UnitPrice * (UnitsInStock + IIF(IsNull(UnitsOnOrder), 0, UnitsOnOrder))\n",
    "         FROM Products;\"\"\"\n",
    "sendQuery(sql)"
   ]
  },
  {
   "cell_type": "code",
   "execution_count": null,
   "id": "d0ac16b4",
   "metadata": {},
   "outputs": [],
   "source": [
    "sql = \"\"\"SELECT ProductName, UnitPrice * (UnitsInStock + NVL(UnitsOnOrder, 0))\n",
    "         FROM Products;\"\"\"\n",
    "sendQuery(sql)"
   ]
  },
  {
   "cell_type": "code",
   "execution_count": null,
   "id": "5ba37de4",
   "metadata": {},
   "outputs": [],
   "source": [
    "sql = \"\"\"SELECT ProductName, UnitPrice * (UnitsInStock + COALESCE(UnitsOnOrder, 0))\n",
    "         FROM Products;\"\"\"\n",
    "sendQuery(sql)"
   ]
  },
  {
   "cell_type": "markdown",
   "id": "ea3a0913",
   "metadata": {},
   "source": [
    "뭔가 작동은 잘 안하지만 sqlite3에서는 IFNULL, NVM, COALESCE 함수만 작동하는것을 확인할 수 있었다."
   ]
  },
  {
   "cell_type": "markdown",
   "id": "400a1ebc",
   "metadata": {},
   "source": [
    "# Stored Procedures\n",
    "프로그래밍 언어의 함수처럼, 자주 사용하는 쿼리문이 있다면, 저장해서 사용할 수 있는 기능이다."
   ]
  },
  {
   "cell_type": "code",
   "execution_count": null,
   "id": "d2b6f30b",
   "metadata": {},
   "outputs": [],
   "source": [
    "sql = \"\"\"CREATE PROCEDURE SelectAllCustomers\n",
    "         AS\n",
    "         SELECT * FROM Customers\n",
    "         GO;\n",
    "\"\"\"\n",
    "sendQuery(sql)\n",
    "\n",
    "sql = \"EXEC SelectAllCustormer\"\n",
    "sendQuery(sql)"
   ]
  },
  {
   "cell_type": "markdown",
   "id": "f1525427",
   "metadata": {},
   "source": [
    "그러나 sqlite3에서는 작동하지 않는다. 댜음과 같이 매개변수를 이용할 수도 있다."
   ]
  },
  {
   "cell_type": "code",
   "execution_count": null,
   "id": "3aca1678",
   "metadata": {},
   "outputs": [],
   "source": [
    "sql = \"\"\"CREATE PROCEDURE SelectAllCustomers @City nvarchar(30), @PostalCode nvarchar(10)\n",
    "         AS\n",
    "         SELECT * FROM Customers WHERE City = @City AND PostalCode = @PostalCode\n",
    "         GO;\"\"\"\n",
    "sendQuery(sql)\n",
    "\n",
    "sql = \"EXEC SelectAllCustomers @City = 'London', @PostalCode = 'WA1 1DP'\"\n",
    "sendQuery(sql)"
   ]
  },
  {
   "cell_type": "markdown",
   "id": "8d777bc7",
   "metadata": {},
   "source": [
    "아무튼 작동하지는 않지만 위와같은 문법으로 사용할 수 있다."
   ]
  },
  {
   "cell_type": "markdown",
   "id": "9a39953a",
   "metadata": {},
   "source": [
    "# Comments\n",
    "\"--\" 대쉬 두개를 그은 후에 주석을 달 수 있다."
   ]
  },
  {
   "cell_type": "markdown",
   "id": "b961c284",
   "metadata": {},
   "source": [
    "# Operators\n",
    "Sql에서 사용할 수 있는 많은 연산자가 있다. + - * / % 와 같이 기본 사칙연산과 관련된 연산자, & | ^ 와 같이 c에서 비트 단위로 연산해주는 연산자, = > < >= <= <> 연산자와 같이 조건에 관한 연산자를 쓸 수 있다. c와 다른 점은 c의 == 대신에 =, c의 != 대신에 <>를 쓴다는 점이다.\n",
    "\n",
    "계속해서 += -= *= /- %= &= ^-=, |*= 연산자가 있는데, 다른건 c와 같지만 ^-=, |*=연산자 사용에 주의하자. 각각 bitwise xor equals, bitwise OR equals이다.\n",
    "\n",
    "마지막으로 지금까지 봤던 문자열 형식의 연산자도 연산자이다. ALL, AND, ANY, BETWEEN, EXISTS, IN, LIKE, NOT, OR, SOME이 있다."
   ]
  }
 ],
 "metadata": {
  "kernelspec": {
   "display_name": "Python [conda env:base] *",
   "language": "python",
   "name": "conda-base-py"
  },
  "language_info": {
   "codemirror_mode": {
    "name": "ipython",
    "version": 3
   },
   "file_extension": ".py",
   "mimetype": "text/x-python",
   "name": "python",
   "nbconvert_exporter": "python",
   "pygments_lexer": "ipython3",
   "version": "3.12.7"
  }
 },
 "nbformat": 4,
 "nbformat_minor": 5
}
