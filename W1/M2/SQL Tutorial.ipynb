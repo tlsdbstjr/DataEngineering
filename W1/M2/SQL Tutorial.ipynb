{
 "cells": [
  {
   "cell_type": "markdown",
   "id": "da61e2f2-dcb6-404c-bb01-e11bfbe3f09e",
   "metadata": {},
   "source": [
    "# Making Database\n",
    "sqlite서버와 연결 후 Demo Database는 같은 디렉토리에 있는 Northwind.db로 합니다."
   ]
  },
  {
   "cell_type": "markdown",
   "id": "d3388762-cf22-4791-ba04-927d82df3562",
   "metadata": {},
   "source": [
    "## base Variables and functions"
   ]
  },
  {
   "cell_type": "code",
   "execution_count": null,
   "id": "36008858-08bb-4a0f-b3e1-0f8fd7afd452",
   "metadata": {},
   "outputs": [
    {
     "name": "stdout",
     "output_type": "stream",
     "text": [
      "/Users/admin/Documents/GitHub/DataEngineering/W1/M2\n",
      "Northwind.db       Northwind_Ori.db   SQL Tutorial.ipynb my.db\n"
     ]
    }
   ],
   "source": [
    "# reset database\n",
    "!pwd\n",
    "!rm Northwind.db\n",
    "!cp Northwind_Ori.db Northwind.db\n",
    "!ls"
   ]
  },
  {
   "cell_type": "code",
   "execution_count": 3,
   "id": "5415de91-bedd-49b2-a671-5d761fe1ed99",
   "metadata": {},
   "outputs": [],
   "source": [
    "import sqlite3\n",
    "\n",
    "#database = 'my.db'\n",
    "database = 'Northwind.db'\n",
    "def sendQuery(sql):\n",
    "    try:\n",
    "        with sqlite3.connect(database) as conn:\n",
    "            cursor = conn.cursor()\n",
    "            cursor.execute(sql)\n",
    "            conn.commit()\n",
    "            return cursor.fetchall()\n",
    "        \n",
    "    except sqlite3.Error as e:\n",
    "        print(e)\n",
    "\n",
    "def sendQueryWithData(sql, data):\n",
    "    try:\n",
    "        with sqlite3.connect(database) as conn:\n",
    "            cursor = conn.cursor()\n",
    "            for date in data:\n",
    "                cursor.execute(sql, date)\n",
    "            conn.commit()\n",
    "        \n",
    "        return cursor.fetchall()\n",
    "        \n",
    "    except sqlite3.Error as e:\n",
    "        print(e)\n",
    "    "
   ]
  },
  {
   "cell_type": "markdown",
   "id": "7e36eb24-9936-44e3-aba5-19191f0c45cb",
   "metadata": {},
   "source": [
    "# main tutorials"
   ]
  },
  {
   "cell_type": "markdown",
   "id": "124ab66b-c96e-4cd0-988d-e0cb9f9f5b43",
   "metadata": {},
   "source": [
    "## SELECT\n",
    "SELECT는 원하는 테이블에서 원하는 Column에 해당하는 데이터를 반환하는 쿼리문이다."
   ]
  },
  {
   "cell_type": "code",
   "execution_count": null,
   "id": "de7653de-1275-433a-b33c-d837c11d8f0c",
   "metadata": {},
   "outputs": [],
   "source": [
    "sql = \"SELECT * FROM Customers;\"\n",
    "sendQuery(sql)"
   ]
  },
  {
   "cell_type": "code",
   "execution_count": null,
   "id": "b0b04bb2-265a-449d-b6c4-021e5ac33f12",
   "metadata": {},
   "outputs": [],
   "source": [
    "sql = \"SELECT CustomerName, City FROM Customers;\"\n",
    "sendQuery(sql)"
   ]
  },
  {
   "cell_type": "code",
   "execution_count": null,
   "id": "7fc76e9a-f44c-438d-8807-11a328921276",
   "metadata": {},
   "outputs": [],
   "source": [
    "sql = \"SELECT DISTINCT Country FROM Customers;\"\n",
    "sendQuery(sql)"
   ]
  },
  {
   "cell_type": "code",
   "execution_count": null,
   "id": "6e5b6821-4ada-4dd5-ad16-f998920c5d17",
   "metadata": {},
   "outputs": [],
   "source": [
    "sql = \"SELECT Country FROM Customers;\"\n",
    "sendQuery(sql)"
   ]
  },
  {
   "cell_type": "markdown",
   "id": "6638d148-e02d-4139-bca4-70ff6ecca736",
   "metadata": {},
   "source": [
    "DISTINCT는 처음본다. 실행해보면 중복되는 데이터는 지우고 준다는 것을 알 수 있다."
   ]
  },
  {
   "cell_type": "markdown",
   "id": "973d58aa-9382-4941-8adb-7ec297f5d969",
   "metadata": {},
   "source": [
    "## WHERE\n",
    "조건을 거는 구문이다."
   ]
  },
  {
   "cell_type": "code",
   "execution_count": null,
   "id": "d3e93a2a-be93-4cec-9947-b9d13fc4300f",
   "metadata": {},
   "outputs": [],
   "source": [
    "sql = \"SELECT * FROM Customers WHERE Country='Mexico';\"\n",
    "sendQuery(sql)"
   ]
  },
  {
   "cell_type": "code",
   "execution_count": null,
   "id": "3702853f-2ce5-40b8-9ad1-a77bdfa70e68",
   "metadata": {},
   "outputs": [],
   "source": [
    "sql = \"\"\"SELECT * FROM Customers\n",
    "         WHERE CustomerID=1;\"\"\"\n",
    "sendQuery(sql)"
   ]
  },
  {
   "cell_type": "code",
   "execution_count": null,
   "id": "03353a9f-7a00-46a2-a9ee-6c1561b0e196",
   "metadata": {},
   "outputs": [],
   "source": [
    "sql = \"\"\"SELECT * FROM Customers\n",
    "         WHERE CustomerID > 80;\"\"\"\n",
    "sendQuery(sql)"
   ]
  },
  {
   "cell_type": "markdown",
   "id": "a7fe05a6-fcbe-4b88-8815-edcc737032fa",
   "metadata": {},
   "source": [
    "WHERE과 쓰일 수 있는 연산자는 =, >, <, >=, <=, <>, BETWEEN, LIKE, IN이 있다."
   ]
  },
  {
   "cell_type": "markdown",
   "id": "5b98db89-9097-4331-878d-336659d63e82",
   "metadata": {},
   "source": [
    "## ORDER BY\n",
    "ORDER BY는 데이터를 정렬해주는 쿼리문이다."
   ]
  },
  {
   "cell_type": "code",
   "execution_count": null,
   "id": "a7ed320c-a57f-4e68-a676-404e48750992",
   "metadata": {},
   "outputs": [],
   "source": [
    "sql = \"SELECT * FROM Products ORDER BY Price;\"\n",
    "sendQuery(sql)"
   ]
  },
  {
   "cell_type": "code",
   "execution_count": null,
   "id": "09006036-1bcc-4e65-928f-54f1d5b7b58b",
   "metadata": {},
   "outputs": [],
   "source": [
    "sql = \"SELECT * FROM Products ORDER BY Price DESC;\"\n",
    "sendQuery(sql)"
   ]
  },
  {
   "cell_type": "code",
   "execution_count": null,
   "id": "fb8a3f46-10cc-4a98-aca2-fb22437f700b",
   "metadata": {},
   "outputs": [],
   "source": [
    "sql = \"SELECT * FROM Customers ORDER BY Country, CustomerName;\"\n",
    "sendQuery(sql)"
   ]
  },
  {
   "cell_type": "code",
   "execution_count": null,
   "id": "db8c4c70-34a8-4b7d-aadb-38c9a149fea1",
   "metadata": {},
   "outputs": [],
   "source": [
    "sql = \"SELECT * FROM Customers ORDER BY Country ASC, CustomerName DESC;\"\n",
    "sendQuery(sql)"
   ]
  },
  {
   "cell_type": "markdown",
   "id": "11923677-6960-4f92-a4fd-deeff57e550c",
   "metadata": {},
   "source": [
    "특징으로는 ASC, DESC를 뒤에 써줄 수 있다. 숫자뿐만 아니라 알파벳 문자열에도 사용 가능하며, 여러 column을 붙이면 맨 처음 입력한 칼럼부터 우선순위를 가지고 정렬한다. "
   ]
  },
  {
   "cell_type": "markdown",
   "id": "c40ff574-0d2b-4f2d-a5bc-49c93c27a50a",
   "metadata": {},
   "source": [
    "## AND / OR / NOT\n",
    "논리 연산자이다. AND, OR는 각 논리식을 연결하는데 사용된다. NOT은 이미 논리연산을 한 조건을 뒤집을 때 사용한다."
   ]
  },
  {
   "cell_type": "code",
   "execution_count": null,
   "id": "f3ed7233-d5be-4748-8e2f-f69b82c30fea",
   "metadata": {},
   "outputs": [],
   "source": [
    "sql = \"\"\" SELECT *\n",
    "          FROM Customers\n",
    "          WHERE Country = 'Spain' AND CustomerName Like 'G%'; \"\"\"\n",
    "sendQuery(sql)"
   ]
  },
  {
   "cell_type": "code",
   "execution_count": null,
   "id": "224bc6e2-b7e4-4426-ab59-1cb3e150ccf6",
   "metadata": {},
   "outputs": [],
   "source": [
    "sql = \"\"\" SELECT *\n",
    "          FROM Customers\n",
    "          WHERE Country = 'Spain' OR Country = 'Germany'; \"\"\"\n",
    "sendQuery(sql)"
   ]
  },
  {
   "cell_type": "code",
   "execution_count": null,
   "id": "07d49b66-494f-4db3-aff4-750207495f10",
   "metadata": {},
   "outputs": [],
   "source": [
    "sql = \"\"\" SELECT DISTINCT Country FROM Customers\n",
    "          WHERE NOT Country = 'Spain';\"\"\"\n",
    "sendQuery(sql)"
   ]
  },
  {
   "cell_type": "markdown",
   "id": "09884c2d-e6a4-4804-989f-a9390845d4c0",
   "metadata": {},
   "source": [
    "AND OR NOT을 섞어 쓸 수 있다. 연산자 우선순위는 AND가 OR보다 높다. NOT은 대부분의 경우에 연산자로 대체가 가능하다. 또, LIKE, BETWEEN, IN 앞에도 쓸 수 있다"
   ]
  },
  {
   "cell_type": "markdown",
   "id": "cc039d17-8c64-42f4-8d53-3f3095379af8",
   "metadata": {},
   "source": [
    "## INSERT INTO\n",
    "Table에 row를 추가하는 구문이다."
   ]
  },
  {
   "cell_type": "code",
   "execution_count": null,
   "id": "0032ef9d-b79c-4f39-bab1-d19ac5123d21",
   "metadata": {},
   "outputs": [],
   "source": [
    "sql = \"\"\" INSERT INTO Customers (CustomerName, ContactName, Address, City, PostalCode, Country)\n",
    "VALUES ('Cardinal', 'Tom B. Erichsen', 'Skagen 21', 'Stavanger', '4006', 'Norway'); \"\"\"\n",
    "sendQuery(sql)"
   ]
  },
  {
   "cell_type": "code",
   "execution_count": null,
   "id": "7e1cfc07-bc99-4328-85d8-c2cabe081107",
   "metadata": {},
   "outputs": [],
   "source": [
    "sql = \"SELECT * FROM Customers WHERE CustomerName='Cardinal';\"\n",
    "sendQuery(sql)"
   ]
  },
  {
   "cell_type": "markdown",
   "id": "19118f19-2794-454d-b98b-9b1a89670312",
   "metadata": {},
   "source": [
    "Cardinal씨가 리스트에 잘 추가되었다."
   ]
  },
  {
   "cell_type": "markdown",
   "id": "1a2515a0-f220-4a57-bb41-05cfbf838620",
   "metadata": {},
   "source": [
    "## NUlL, IS NULL, IS NOT NULL\n",
    "NULL 값은 아무 것도 입력이 안된 값이다."
   ]
  },
  {
   "cell_type": "code",
   "execution_count": null,
   "id": "7a05d1dd-ad4a-4603-806a-43a10a80e2a6",
   "metadata": {},
   "outputs": [],
   "source": [
    "sql = \"\"\"SELECT CustomerName, ContactName, Address\n",
    "         FROM Customers\n",
    "         WHERE Address IS NULL;\"\"\"\n",
    "sendQuery(sql)"
   ]
  },
  {
   "cell_type": "code",
   "execution_count": null,
   "id": "d8989672-175d-4375-8b98-fe24422ed612",
   "metadata": {},
   "outputs": [],
   "source": [
    "sql = \"\"\"SELECT CustomerName, ContactName, Address\n",
    "         FROM Customers\n",
    "         WHERE Address IS NOT NULL;\"\"\"\n",
    "sendQuery(sql)"
   ]
  },
  {
   "cell_type": "markdown",
   "id": "965efa5a-ca57-41f4-bf01-3f73d82a4e6e",
   "metadata": {},
   "source": [
    "Customer 테이블에 주소가 등록되지 않은 사람은 아무도 없는 모양이다."
   ]
  },
  {
   "cell_type": "markdown",
   "id": "7bc10c1b-42dc-4299-abdc-2e0ce263cebc",
   "metadata": {},
   "source": [
    "## UPDATE\n",
    "데이터 값을 바꾸는(갱신하는) 쿼리문이다."
   ]
  },
  {
   "cell_type": "code",
   "execution_count": null,
   "id": "91e2cc14-f1c0-4d37-9b23-9c3236776642",
   "metadata": {},
   "outputs": [],
   "source": [
    "sql = \"\"\"UPDATE Customers\n",
    "         SET ContactName = 'Alfred Schmidt', City= 'Frankfurt'\n",
    "         WHERE CustomerID = 1;\"\"\"\n",
    "sendQuery(sql)"
   ]
  },
  {
   "cell_type": "code",
   "execution_count": null,
   "id": "2e4021d0-1f9c-4802-bff7-0f7cd56639e5",
   "metadata": {},
   "outputs": [],
   "source": [
    "sql = \"\"\"SELECT *\n",
    "         FROM Customers\n",
    "         WHERE CustomerID = 1;\"\"\"\n",
    "sendQuery(sql)"
   ]
  },
  {
   "cell_type": "markdown",
   "id": "a03f511c-c28b-4311-ac26-8d8eff3bb78b",
   "metadata": {},
   "source": [
    "알프레드씨의 정보가 잘 업데이트 되었다. UPDATE를 쓸 때는 WHERE로 조건을 꼭 걸어주자. 그렇지 않으면 모든 데이터가 업데이트 될 수 있다."
   ]
  },
  {
   "cell_type": "markdown",
   "id": "448240ba-e157-425f-a916-f124e483a311",
   "metadata": {},
   "source": [
    "## DELETE, DROP\n",
    "무언가를 삭제하는 쿼리문이다. 이하는 예문이다. 이하는 실행하지 않는 것을 추천한다. 다음에도 계속해서 Customer를 사용한다."
   ]
  },
  {
   "cell_type": "code",
   "execution_count": null,
   "id": "f27cd768-2d1d-49d1-b5d1-7332e418a24c",
   "metadata": {},
   "outputs": [],
   "source": [
    "#sql = \"DELETE FROM Customers WHERE CustomerName='Alfreds Futterkiste';\"\n",
    "sendQuery(sql)"
   ]
  },
  {
   "cell_type": "code",
   "execution_count": null,
   "id": "fc135ffc-3cbd-4cb5-b1d5-9477f829eba5",
   "metadata": {},
   "outputs": [],
   "source": [
    "#sql = \"SELECT CustomerName FROM Customers;\"\n",
    "sendQuery(sql)"
   ]
  },
  {
   "cell_type": "code",
   "execution_count": null,
   "id": "43543c3e-ef8f-4957-9677-c8039034c67d",
   "metadata": {},
   "outputs": [],
   "source": [
    "#sql = \"DELETE FROM Customers;\"\n",
    "sendQuery(sql)"
   ]
  },
  {
   "cell_type": "code",
   "execution_count": null,
   "id": "3e4b068e-8881-4440-adc2-48edd8baff07",
   "metadata": {},
   "outputs": [],
   "source": [
    "#sql = \"DROP TABLE Customers;\"\n",
    "sendQuery(sql)"
   ]
  },
  {
   "cell_type": "markdown",
   "id": "e20e8489-cc7a-4885-945d-fa2a1c7fad76",
   "metadata": {},
   "source": [
    "WHERE 조건문을 꼭 달자. 안그럼 테이블 전체가 다 지워진다."
   ]
  },
  {
   "cell_type": "markdown",
   "id": "e92cc052-636d-4715-88d9-57de2e7c0c4c",
   "metadata": {},
   "source": [
    "## TOP, LIMIT, FETCH FIRST, ROWNUM\n",
    "맨 위의 몇개의 row만 가져오게 제한을 거는 구문이다\n"
   ]
  },
  {
   "cell_type": "code",
   "execution_count": null,
   "id": "54af497e-3b02-4de3-9477-4461936955fe",
   "metadata": {},
   "outputs": [],
   "source": [
    "#sql = \"SELECT TOP 3 * FROM Customers;\"\n",
    "sql = \"SELECT * FROM Customers LIMIT 3;\"\n",
    "#sql = \"SELECT * FROM Customers FETCH FIRST 3 ONLY;\"\n",
    "sendQuery(sql)"
   ]
  },
  {
   "cell_type": "markdown",
   "id": "3b9d6a36-40dc-4475-b41f-dda708aeb442",
   "metadata": {},
   "source": [
    "sql = \"SELECT TOP 3 * FROM Customers;\"\n",
    "sql = \"SELECT * FROM Customers LIMIT 3;\"\n",
    "sql = \"SELECT * FROM Customers FETCH FIRST 3;\"\n",
    "다 같은 내용의 쿼리문이지만 두번째 LIMIT만 작동을 한다. 추측해보건데 PERCENT를 막기 위해 이렇게 된것이 아닐까 싶다."
   ]
  },
  {
   "cell_type": "code",
   "execution_count": null,
   "id": "28549eeb-961b-4693-b942-18519b34f95f",
   "metadata": {},
   "outputs": [],
   "source": [
    "sql = \"\"\"SELECT * FROM Customers LIMIT 3\n",
    "         ORDER BY CustomerName DESC;\"\"\"\n",
    "sendQuery(sql)"
   ]
  },
  {
   "cell_type": "code",
   "execution_count": null,
   "id": "16cad989-88be-479d-ad3d-9d853b87451b",
   "metadata": {},
   "outputs": [],
   "source": [
    "sql = \"\"\"SELECT * FROM Customers\n",
    "         ORDER BY CustomerName DESC\n",
    "         LIMIT 3;\"\"\"\n",
    "sendQuery(sql)"
   ]
  },
  {
   "cell_type": "markdown",
   "id": "d43dfa4b-f795-4cdb-8a30-2fe0406b16ff",
   "metadata": {},
   "source": [
    "sql = \"SELECT * FROM Customers LIMIT 3 ORDER BY CustomerName DESC;\"가 되지 않았다. LIMIT로 조금 받아온 데이터를 정렬하고 싶으면 어떻게 해야 하는가? 라는 질문이 생긴다."
   ]
  },
  {
   "cell_type": "markdown",
   "id": "e10c8354-6020-4f35-b590-d4e64dc8e9b6",
   "metadata": {},
   "source": [
    "## Aggregate Functions"
   ]
  },
  {
   "cell_type": "markdown",
   "id": "ff22e877-7752-41dd-b789-788c3cf12a8f",
   "metadata": {},
   "source": [
    "### MIN, MAX (AS, GROUP BY)\n",
    "지정한 Column의 최대, 최소를 반환한다."
   ]
  },
  {
   "cell_type": "code",
   "execution_count": null,
   "id": "9fc31dc6-54d2-4f50-b721-f43a5850d70f",
   "metadata": {},
   "outputs": [],
   "source": [
    "sql = \"SELECT MIN(Price) FROM Products\"\n",
    "sendQuery(sql)"
   ]
  },
  {
   "cell_type": "code",
   "execution_count": null,
   "id": "4aeee1a2-3fdc-4826-b168-c06c7642b550",
   "metadata": {},
   "outputs": [],
   "source": [
    "sql = \"SELECT MAX(Price) FROM Products\"\n",
    "sendQuery(sql)"
   ]
  },
  {
   "cell_type": "code",
   "execution_count": null,
   "id": "460a6fa8-cd53-4c90-9b19-2dd9daee90fd",
   "metadata": {},
   "outputs": [],
   "source": [
    "sendQuery(\"\"\"SELECT MIN(Price) AS SmallestPrice, CategoryID\n",
    "             FROM Products;\n",
    "             GROUP BY CategoryID;\"\"\")"
   ]
  },
  {
   "cell_type": "markdown",
   "id": "76b5fbf9-11f5-4eab-8a37-8ea86ab50545",
   "metadata": {},
   "source": [
    "AS와 GROUP BY가 등장했다. AS는 TABLE의 칼럼 레이블을 원하는 다른 이름으로 바꿔서 SELECT의 결과로 보내주는 역할을 한다. 또한 Group by는 pandas의 그것과 같이 같은 값을 가진 row끼리 모아서 연산시키는 함수이다."
   ]
  },
  {
   "cell_type": "markdown",
   "id": "d5c47a15-4e28-4b2a-b9d0-bd28c3073f83",
   "metadata": {},
   "source": [
    "### COUNT\n",
    "엑셀의 count 함수처럼 개수를 세준다"
   ]
  },
  {
   "cell_type": "code",
   "execution_count": null,
   "id": "a346534d-1578-4495-9d38-78c7ea022577",
   "metadata": {},
   "outputs": [],
   "source": [
    "sql = \"SELECT COUNT(*) FROM Products\"\n",
    "sendQuery(sql)"
   ]
  },
  {
   "cell_type": "markdown",
   "id": "922c7564-bb8e-48f9-8e06-26d8100d89cb",
   "metadata": {},
   "source": [
    "where함수와 적절이 섞어 쓰면 엑셀의 countif함수처럼 사용할 수 있다."
   ]
  },
  {
   "cell_type": "markdown",
   "id": "8935f5f5-7e21-4c0e-9792-dcd9c177586b",
   "metadata": {},
   "source": [
    "### SUM"
   ]
  },
  {
   "cell_type": "code",
   "execution_count": null,
   "id": "e6c1ac56-5554-48e8-a27c-3f26cf78389f",
   "metadata": {},
   "outputs": [],
   "source": [
    "sql = \"SELECT SUM(Quantity) FROM OrderDetails;\"\n",
    "sendQuery(sql)"
   ]
  },
  {
   "cell_type": "code",
   "execution_count": null,
   "id": "58990b8a-0374-4999-a174-33a6b993b2b0",
   "metadata": {},
   "outputs": [],
   "source": [
    "sql = \"SELECT OrderID, SUM(Quantity) AS [Total Quantity] FROM OrderDetails GROUP BY OrderID;\"\n",
    "sendQuery(sql)"
   ]
  },
  {
   "cell_type": "code",
   "execution_count": null,
   "id": "d156ecce-5d26-4661-86b6-0a54da7d72b6",
   "metadata": {},
   "outputs": [],
   "source": [
    "sql = \"\"\"SELECT SUM(Price * Quantity)\n",
    "FROM OrderDetails\n",
    "LEFT JOIN Products ON OrderDetails.ProductID = Products.ProductID;\"\"\"\n",
    "sendQuery(sql)"
   ]
  },
  {
   "cell_type": "markdown",
   "id": "9a88dfd3-9ff2-4aa7-a2df-ce10ff653c68",
   "metadata": {},
   "source": [
    "Where을 섞어 쓰면 sumif함수를 엑셀에서 쓰듯이 쓸 수 있고, GROUP BY를 이용하면 같은 값에 대한 다른 칼럼의 합을 구할 수 있다."
   ]
  },
  {
   "cell_type": "markdown",
   "id": "d6bd1853-4a8f-42c3-b360-7ad1f75015f8",
   "metadata": {},
   "source": [
    "### AVG\n",
    "말 그대로 평균을 구하는 함수이다."
   ]
  },
  {
   "cell_type": "code",
   "execution_count": null,
   "id": "4bac6e4d-b452-4474-a885-524c2f93e784",
   "metadata": {},
   "outputs": [],
   "source": [
    "sql = \"SELECT AVG(Price) FROM Products;\"\n",
    "sendQuery(sql)"
   ]
  },
  {
   "cell_type": "code",
   "execution_count": null,
   "id": "17d01417-d9c6-431c-bb94-9861d624ca99",
   "metadata": {},
   "outputs": [],
   "source": [
    "sql = \"SELECT * FROM Products WHERE price > (SELECT AVG(price) FROM Products);\"\n",
    "sendQuery(sql)"
   ]
  },
  {
   "cell_type": "markdown",
   "id": "f7fe756b-ea7c-44eb-bfea-65eca1b9f1b6",
   "metadata": {},
   "source": [
    "sum과 마찬가지로 where과 같이 쓰면 조건에 부합하는 데이터의 평균이 구해지고, group by를 쓰면 해당 값과 동일한 값끼리 평균을 구하는 연산을 하게 된다. 특이한 쓰임세로는 where문 내부에 avg를 넣어서 평균보다 높은/낮은 값을 갖는 데이터를 불러올수도 있다."
   ]
  },
  {
   "cell_type": "markdown",
   "id": "3796f68c-2340-4366-9722-1b648acf836d",
   "metadata": {},
   "source": [
    "## LIKE, wild card\n",
    "정규 표현문을 사용하듯이 쓸 수 있는 키워드이다\n"
   ]
  },
  {
   "cell_type": "code",
   "execution_count": null,
   "id": "4a9ba9c9-ef91-4ea0-8c31-c865f2de2678",
   "metadata": {},
   "outputs": [],
   "source": [
    "sql = \"SELECT * FROM Customers WHERE CustomerName LIKE 'a%';\"\n",
    "sendQuery(sql)"
   ]
  },
  {
   "cell_type": "markdown",
   "id": "40891380-5fa9-4f44-9373-8c6e91db48db",
   "metadata": {},
   "source": [
    "이 키워드를 잘 쓰기 위해선 와일드카드를 잘 알아야 한다. \n",
    "\n",
    "* _는 해당 위치에 아무 문자나 와도 된다는 의미이다.\n",
    "* %는 해당 위치에는 임의 길이를 갖는 문자열이 들어가도 된다는 의미이다."
   ]
  },
  {
   "cell_type": "markdown",
   "id": "4bda8f82-f475-4fbd-ac66-d530d4470186",
   "metadata": {},
   "source": [
    "## IN\n",
    "WHERE과 함께 쓰여서 복수의 조건을 한번에 나타내기 위해 쓰인다."
   ]
  },
  {
   "cell_type": "code",
   "execution_count": null,
   "id": "31c733bf-57a9-4b3b-b491-0407f81a7b5d",
   "metadata": {},
   "outputs": [],
   "source": [
    "sql = \"SELECT * FROM Customers WHERE Country IN ('Germany', 'France', 'UK');\"\n",
    "sendQuery(sql)"
   ]
  },
  {
   "cell_type": "code",
   "execution_count": null,
   "id": "f7ba727a-fe02-47b6-9ef2-bb959d20a444",
   "metadata": {},
   "outputs": [],
   "source": [
    "sql = \"SELECT * FROM Customers WHERE CustomerID IN (SELECT CustomerID FROM Orders);\"\n",
    "sendQuery(sql)"
   ]
  },
  {
   "cell_type": "markdown",
   "id": "7947bb6b-602b-4dee-b526-893bf9ebde9d",
   "metadata": {},
   "source": [
    "NOT과 함께 쓰여서 부정을 취할수도 있고 내부 조건으로 다른 SELECT의 결과를 줄 수도 있다."
   ]
  },
  {
   "cell_type": "markdown",
   "id": "7326d09d-742f-4f1a-bc2d-6875f83a6eb5",
   "metadata": {},
   "source": [
    "## BETWEEN\n",
    "범위를 결정하는 키워드이다. 숫자뿐 아니라 문자열 날짜에도 사용가능하다."
   ]
  },
  {
   "cell_type": "code",
   "execution_count": null,
   "id": "73436b7c-0b20-49e4-a53d-48d894d8b733",
   "metadata": {},
   "outputs": [],
   "source": [
    "sql = \"SELECT * FROM Products WHERE Price BETWEEN 10 AND 20;\"\n",
    "sendQuery(sql)"
   ]
  },
  {
   "cell_type": "code",
   "execution_count": null,
   "id": "11ae5f1a-60e8-4000-a29a-42c2c7db29d0",
   "metadata": {},
   "outputs": [],
   "source": [
    "sql = \"\"\"SELECT * FROM Products\n",
    "         WHERE ProductName BETWEEN 'Carnarvon Tigers' AND 'Mozzarella di Giovanni'\n",
    "         ORDER BY ProductName;\"\"\"\n",
    "sendQuery(sql)"
   ]
  },
  {
   "cell_type": "code",
   "execution_count": null,
   "id": "3e9865e9-e8a2-4355-8c10-1e2b1bffcc61",
   "metadata": {},
   "outputs": [],
   "source": [
    "sql = \"SELECT * FROM Orders WHERE OrderDate BETWEEN '1996-07-01' AND '1996-07-31';\"\n",
    "sendQuery(sql)"
   ]
  },
  {
   "cell_type": "markdown",
   "id": "7fc2d124-a8bb-46f8-a957-5039da4af118",
   "metadata": {},
   "source": [
    "## AS (Aliases)\n",
    "테이블에서 불러오고자 하는 데이터의 column과 내가 다루고자 하는 데이터의 column이 다를 때 요긴하게 쓰인다. 쓰고자 하는 데이터 명에 스페이스 바, 공백문자가 들어가면 대괄호로 쳐서 해결하던가, 큰ㅈ따오포를 쳐서 해결해야 한다."
   ]
  },
  {
   "cell_type": "code",
   "execution_count": null,
   "id": "4d4cec34-7864-4097-8ccc-5f95df29da00",
   "metadata": {},
   "outputs": [],
   "source": [
    "sql = \"SELECT CustomerID AS ID, CustomerName AS Customer FROM Customers;\"\n",
    "sendQuery(sql)"
   ]
  },
  {
   "cell_type": "code",
   "execution_count": null,
   "id": "1bc9b131-d9af-4b3e-88cb-1c35e70605f6",
   "metadata": {},
   "outputs": [],
   "source": [
    "#sql =\"SELECT ProductName AS [My Great Products] FROM Products;\"\n",
    "sql =\"SELECT ProductName AS \"\"My Great Products\"\" FROM Products;\"\n",
    "sendQuery(sql)"
   ]
  },
  {
   "cell_type": "markdown",
   "id": "8fa79247-f30d-4d5c-a056-ffe72aca9ea3",
   "metadata": {},
   "source": [
    "Table에도 가능하다."
   ]
  },
  {
   "cell_type": "code",
   "execution_count": null,
   "id": "867d42e6-0ead-417e-86a2-e6fb64269eb2",
   "metadata": {},
   "outputs": [],
   "source": [
    "sql = \"SELECT * FROM Customers AS Persons;\"\n",
    "sendQuery(sql)"
   ]
  },
  {
   "cell_type": "code",
   "execution_count": null,
   "id": "5e4d7812-a0ec-4e65-8f52-e934bc4acf25",
   "metadata": {},
   "outputs": [],
   "source": [
    "sql = \"SELECT CustomerName, (Address || ', ' || PostalCode || ' ' || City || ', ' || Country) AS Address FROM Customers;\"\n",
    "sendQuery(sql)"
   ]
  },
  {
   "cell_type": "markdown",
   "id": "53dd2dab-844d-4ad2-851c-c39b8d989ef6",
   "metadata": {},
   "source": [
    "## JOIN\n",
    "\n",
    "join은 연관된 column을 기준으로 여러 테이블의 행을 이어 붙이는 명령어이다.\n",
    "\n",
    "기본적으로 JOIN만 쓰면 각 테이블에 겹치는 column이 있는 행만 이어 붙이게 되고, LEFT/RIGHT/FULL JOIN등을 쓰게 되면 칼럼이 겹치지 않더라도 여러 테이블의 행을 이어 붙이게 된다."
   ]
  },
  {
   "cell_type": "code",
   "execution_count": null,
   "id": "81ee9d07-e05a-472f-bb74-a5a7999b5cfd",
   "metadata": {},
   "outputs": [],
   "source": [
    "sql = \"\"\"SELECT Orders.OrderID, Customers.CustomerName, Orders.OrderDate\n",
    "         FROM Orders\n",
    "         INNER JOIN Customers ON Orders.CustomerID=Customers.CustomerID;\"\"\"\n",
    "sendQuery(sql)"
   ]
  },
  {
   "cell_type": "code",
   "execution_count": null,
   "id": "7954d274-3d24-4d06-811a-ada05c775e4a",
   "metadata": {},
   "outputs": [],
   "source": [
    "sql = \"\"\"SELECT Customers.CustomerName, Orders.OrderID\n",
    "         FROM Customers\n",
    "         LEFT JOIN Orders ON Customers.CustomerID = Orders.CustomerID\n",
    "         ORDER BY Customers.CustomerName;\"\"\"\n",
    "sendQuery(sql)"
   ]
  },
  {
   "cell_type": "code",
   "execution_count": null,
   "id": "c1d1348d-a95b-4a36-9d2d-4c865ed44bcf",
   "metadata": {},
   "outputs": [],
   "source": [
    "sql = \"\"\"SELECT Orders.OrderID, Employees.LastName, Employees.FirstName\n",
    "         FROM Orders\n",
    "         RIGHT JOIN Employees ON Orders.EmployeeID = Employees.EmployeeID\n",
    "         ORDER BY Orders.OrderID;\"\"\"\n",
    "sendQuery(sql)"
   ]
  },
  {
   "cell_type": "code",
   "execution_count": 113,
   "id": "ac05db5c-0e9c-4065-bbff-e04389321f6a",
   "metadata": {},
   "outputs": [
    {
     "data": {
      "text/plain": [
       "[('Alfreds Futterkiste', None),\n",
       " ('Blauer See Delikatessen', None),\n",
       " ('Cactus Comidas para llevar', None),\n",
       " ('FISSA Fabrica Inter. Salchichas S.A.', None),\n",
       " ('France restauration', None),\n",
       " ('Great Lakes Food Market', None),\n",
       " (\"La corne d''abondance\", None),\n",
       " ('Laughing Bacchus Wine Cellars', None),\n",
       " ('Lazy K Kountry Store', None),\n",
       " (\"Let''s Stop N Shop\", None),\n",
       " ('Maison Dewey', None),\n",
       " ('North/South', None),\n",
       " ('Paris spécialités', None),\n",
       " ('Rancho grande', None),\n",
       " ('Spécialités du monde', None),\n",
       " ('The Cracker Box', None),\n",
       " (\"Trail''s Head Gourmet Provisioners\", None),\n",
       " ('Wilman Kala', 10248),\n",
       " ('Tradição Hipermercados', 10249),\n",
       " ('Hanari Carnes', 10250),\n",
       " ('Victuailles en stock', 10251),\n",
       " ('Suprêmes délices', 10252),\n",
       " ('Hanari Carnes', 10253),\n",
       " ('Chop-suey Chinese', 10254),\n",
       " ('Richter Supermarkt', 10255),\n",
       " ('Wellington Importadora', 10256),\n",
       " ('HILARIÓN-Abastos', 10257),\n",
       " ('Ernst Handel', 10258),\n",
       " ('Centro comercial Moctezuma', 10259),\n",
       " ('Old World Delicatessen', 10260),\n",
       " ('Que Delícia', 10261),\n",
       " ('Rattlesnake Canyon Grocery', 10262),\n",
       " ('Ernst Handel', 10263),\n",
       " ('Folk och fä HB', 10264),\n",
       " ('Blondel père et fils', 10265),\n",
       " ('Wartian Herkku', 10266),\n",
       " ('Frankenversand', 10267),\n",
       " ('GROSELLA-Restaurante', 10268),\n",
       " ('White Clover Markets', 10269),\n",
       " ('Wartian Herkku', 10270),\n",
       " ('Split Rail Beer & Ale', 10271),\n",
       " ('Rattlesnake Canyon Grocery', 10272),\n",
       " ('QUICK-Stop', 10273),\n",
       " ('Vins et alcools Chevalier', 10274),\n",
       " ('Magazzini Alimentari Riuniti', 10275),\n",
       " ('Tortuga Restaurante', 10276),\n",
       " ('Morgenstern Gesundkost', 10277),\n",
       " ('Berglunds snabbköp', 10278),\n",
       " ('Lehmanns Marktstand', 10279),\n",
       " ('Berglunds snabbköp', 10280),\n",
       " ('Romero y tomillo', 10281),\n",
       " ('Romero y tomillo', 10282),\n",
       " ('LILA-Supermercado', 10283),\n",
       " ('Lehmanns Marktstand', 10284),\n",
       " ('QUICK-Stop', 10285),\n",
       " ('QUICK-Stop', 10286),\n",
       " ('Ricardo Adocicados', 10287),\n",
       " ('Reggiani Caseifici', 10288),\n",
       " (\"B''s Beverages\", 10289),\n",
       " ('Comércio Mineiro', 10290),\n",
       " ('Que Delícia', 10291),\n",
       " ('Tradição Hipermercados', 10292),\n",
       " ('Tortuga Restaurante', 10293),\n",
       " ('Rattlesnake Canyon Grocery', 10294),\n",
       " ('Vins et alcools Chevalier', 10295),\n",
       " ('LILA-Supermercado', 10296),\n",
       " ('Blondel père et fils', 10297),\n",
       " ('Hungry Owl All-Night Grocers', 10298),\n",
       " ('Ricardo Adocicados', 10299),\n",
       " ('Magazzini Alimentari Riuniti', 10300),\n",
       " ('Die Wandernde Kuh', 10301),\n",
       " ('Suprêmes délices', 10302),\n",
       " ('Godos Cocina Típica', 10303),\n",
       " ('Tortuga Restaurante', 10304),\n",
       " ('Old World Delicatessen', 10305),\n",
       " ('Romero y tomillo', 10306),\n",
       " ('Lonesome Pine Restaurant', 10307),\n",
       " ('Ana Trujillo Emparedados y helados', 10308),\n",
       " ('Hungry Owl All-Night Grocers', 10309),\n",
       " ('The Big Cheese', 10310),\n",
       " ('Du monde entier', 10311),\n",
       " ('Die Wandernde Kuh', 10312),\n",
       " ('QUICK-Stop', 10313),\n",
       " ('Rattlesnake Canyon Grocery', 10314),\n",
       " ('Island Trading', 10315),\n",
       " ('Rattlesnake Canyon Grocery', 10316),\n",
       " ('Lonesome Pine Restaurant', 10317),\n",
       " ('Island Trading', 10318),\n",
       " ('Tortuga Restaurante', 10319),\n",
       " ('Wartian Herkku', 10320),\n",
       " ('Island Trading', 10321),\n",
       " ('Pericles Comidas clásicas', 10322),\n",
       " ('Königlich Essen', 10323),\n",
       " ('Save-a-lot Markets', 10324),\n",
       " ('Königlich Essen', 10325),\n",
       " ('Bólido Comidas preparadas', 10326),\n",
       " ('Folk och fä HB', 10327),\n",
       " ('Furia Bacalhau e Frutos do Mar', 10328),\n",
       " ('Split Rail Beer & Ale', 10329),\n",
       " ('LILA-Supermercado', 10330),\n",
       " (\"Bon app''\", 10331),\n",
       " ('Mère Paillarde', 10332),\n",
       " ('Wartian Herkku', 10333),\n",
       " ('Victuailles en stock', 10334),\n",
       " ('Hungry Owl All-Night Grocers', 10335),\n",
       " ('Princesa Isabel Vinhoss', 10336),\n",
       " ('Frankenversand', 10337),\n",
       " ('Old World Delicatessen', 10338),\n",
       " ('Mère Paillarde', 10339),\n",
       " (\"Bon app''\", 10340),\n",
       " ('Simons bistro', 10341),\n",
       " ('Frankenversand', 10342),\n",
       " ('Lehmanns Marktstand', 10343),\n",
       " ('White Clover Markets', 10344),\n",
       " ('QUICK-Stop', 10345),\n",
       " ('Rattlesnake Canyon Grocery', 10346),\n",
       " ('Familia Arquibaldo', 10347),\n",
       " ('Die Wandernde Kuh', 10348),\n",
       " ('Split Rail Beer & Ale', 10349),\n",
       " (\"La maison d''Asie\", 10350),\n",
       " ('Ernst Handel', 10351),\n",
       " ('Furia Bacalhau e Frutos do Mar', 10352),\n",
       " ('Piccolo und mehr', 10353),\n",
       " ('Pericles Comidas clásicas', 10354),\n",
       " ('Around the Horn', 10355),\n",
       " ('Die Wandernde Kuh', 10356),\n",
       " ('LILA-Supermercado', 10357),\n",
       " (\"La maison d''Asie\", 10358),\n",
       " ('Seven Seas Imports', 10359),\n",
       " ('Blondel père et fils', 10360),\n",
       " ('QUICK-Stop', 10361),\n",
       " (\"Bon app''\", 10362),\n",
       " ('Drachenblut Delikatessend', 10363),\n",
       " ('Eastern Connection', 10364),\n",
       " ('Antonio Moreno Taquería', 10365),\n",
       " ('Galería del gastrónomo', 10366),\n",
       " ('Vaffeljernet', 10367),\n",
       " ('Ernst Handel', 10368),\n",
       " ('Split Rail Beer & Ale', 10369),\n",
       " ('Chop-suey Chinese', 10370),\n",
       " (\"La maison d''Asie\", 10371),\n",
       " ('Queen Cozinha', 10372),\n",
       " ('Hungry Owl All-Night Grocers', 10373),\n",
       " ('Wolski', 10374),\n",
       " ('Hungry Coyote Import Store', 10375),\n",
       " ('Mère Paillarde', 10376),\n",
       " ('Seven Seas Imports', 10377),\n",
       " ('Folk och fä HB', 10378),\n",
       " ('Que Delícia', 10379),\n",
       " ('Hungry Owl All-Night Grocers', 10380),\n",
       " ('LILA-Supermercado', 10381),\n",
       " ('Ernst Handel', 10382),\n",
       " ('Around the Horn', 10383),\n",
       " ('Berglunds snabbköp', 10384),\n",
       " ('Split Rail Beer & Ale', 10385),\n",
       " ('Familia Arquibaldo', 10386),\n",
       " ('Santé Gourmet', 10387),\n",
       " ('Seven Seas Imports', 10388),\n",
       " ('Bottom-Dollar Marketse', 10389),\n",
       " ('Ernst Handel', 10390),\n",
       " ('Drachenblut Delikatessend', 10391),\n",
       " ('Piccolo und mehr', 10392),\n",
       " ('Save-a-lot Markets', 10393),\n",
       " ('Hungry Coyote Import Store', 10394),\n",
       " ('HILARIÓN-Abastos', 10395),\n",
       " ('Frankenversand', 10396),\n",
       " ('Princesa Isabel Vinhoss', 10397),\n",
       " ('Save-a-lot Markets', 10398),\n",
       " ('Vaffeljernet', 10399),\n",
       " ('Eastern Connection', 10400),\n",
       " ('Rattlesnake Canyon Grocery', 10401),\n",
       " ('Ernst Handel', 10402),\n",
       " ('Ernst Handel', 10403),\n",
       " ('Magazzini Alimentari Riuniti', 10404),\n",
       " ('LINO-Delicateses', 10405),\n",
       " ('Queen Cozinha', 10406),\n",
       " ('Ottilies Käseladen', 10407),\n",
       " ('Folies gourmandes', 10408),\n",
       " ('Océano Atlántico Ltda.', 10409),\n",
       " ('Bottom-Dollar Marketse', 10410),\n",
       " ('Bottom-Dollar Marketse', 10411),\n",
       " ('Wartian Herkku', 10412),\n",
       " (\"La maison d''Asie\", 10413),\n",
       " ('Familia Arquibaldo', 10414),\n",
       " ('Hungry Coyote Import Store', 10415),\n",
       " ('Wartian Herkku', 10416),\n",
       " ('Simons bistro', 10417),\n",
       " ('QUICK-Stop', 10418),\n",
       " ('Richter Supermarkt', 10419),\n",
       " ('Wellington Importadora', 10420),\n",
       " ('Que Delícia', 10421),\n",
       " ('Franchi S.p.A.', 10422),\n",
       " ('Gourmet Lanchonetes', 10423),\n",
       " ('Mère Paillarde', 10424),\n",
       " (\"La maison d''Asie\", 10425),\n",
       " ('Galería del gastrónomo', 10426),\n",
       " ('Piccolo und mehr', 10427),\n",
       " ('Reggiani Caseifici', 10428),\n",
       " ('Hungry Owl All-Night Grocers', 10429),\n",
       " ('Ernst Handel', 10430),\n",
       " ('Bottom-Dollar Marketse', 10431),\n",
       " ('Split Rail Beer & Ale', 10432),\n",
       " ('Princesa Isabel Vinhoss', 10433),\n",
       " ('Folk och fä HB', 10434),\n",
       " ('Consolidated Holdings', 10435),\n",
       " ('Blondel père et fils', 10436),\n",
       " ('Wartian Herkku', 10437),\n",
       " ('Toms Spezialitäten', 10438),\n",
       " ('Mère Paillarde', 10439),\n",
       " ('Save-a-lot Markets', 10440),\n",
       " ('Old World Delicatessen', 10441),\n",
       " ('Ernst Handel', 10442),\n",
       " ('Reggiani Caseifici', 10443)]"
      ]
     },
     "execution_count": 113,
     "metadata": {},
     "output_type": "execute_result"
    }
   ],
   "source": [
    "sql = \"\"\"SELECT Customers.CustomerName, Orders.OrderID\n",
    "         FROM Customers\n",
    "         FULL OUTER JOIN Orders ON Customers.CustomerID=Orders.CustomerID\n",
    "         ORDER BY Customers.CustomerName;\"\"\"\n",
    "\n",
    "sendQuery(sql)"
   ]
  },
  {
   "cell_type": "code",
   "execution_count": null,
   "id": "a71cefe5-c059-43dc-8117-a1b93352e225",
   "metadata": {},
   "outputs": [],
   "source": [
    "sql = \"\"\"SELECT A.CustomerName AS CustomerName1, B.CustomerName AS CustomerName2, A.City\n",
    "         FROM Customers A, Customers B\n",
    "         WHERE A.CustomerID <> B.CustomerID\n",
    "         AND A.City = B.City \n",
    "         ORDER BY A.City;\"\"\"\n",
    "sendQuery(sql)"
   ]
  },
  {
   "cell_type": "markdown",
   "id": "94434124-e109-4a28-a05a-766bd5465ac7",
   "metadata": {},
   "source": [
    "inner join은 각 테이블에 column중 select하는 column이 있는 경우에만 row를 합쳐서 가져오고, outer join의 경우는 칼럼이 없더라도 LEFT RIGHT 조건에 부합하기만 한다면 row를 합쳐서 보여준다. SELF JOIN같은 경우엔 JOIN 명령을 안쓰더라도 작동한다."
   ]
  },
  {
   "cell_type": "markdown",
   "id": "f0499ce3-d1ca-4cd4-b9ae-6e4d4de48c44",
   "metadata": {},
   "source": [
    "## UNION\n",
    "\n",
    "SELECT해서 나온 결과를 이어붙여주는 문법이다. 제한사항은 다음과 같다:\n",
    "\n",
    "* 각 SELECT문의 COLUMN개수는 같아야 한다.\n",
    "* 각 COLUMN은 데이터 타입이 같아야 한다.\n",
    "* SELECT문 속 고르는 COLUMN의 순서 또한 같아야 한다.\n",
    "\n",
    "이렇게 하면 SELECT결과를 합쳐준다고 한다"
   ]
  },
  {
   "cell_type": "markdown",
   "id": "0d5a5a34-0513-4014-ac9a-51331d503e26",
   "metadata": {},
   "source": [
    "## GROUP BY\n",
    "\n",
    "pandas의 groyp by와 동일하게 데이터중 일부 column이 같은 부분을 모아서 각 부분마다 데이터 처리 함수를 실행한 뒤, 다시 모아서 보여주는 명령어이다."
   ]
  },
  {
   "cell_type": "code",
   "execution_count": null,
   "id": "717ead83-415b-4761-9775-2900fc58e859",
   "metadata": {},
   "outputs": [],
   "source": [
    "sql = \"\"\"SELECT COUNT(CustomerID), Country\n",
    "         FROM Customers\n",
    "         GROUP BY Country;\"\"\"\n",
    "sendQuery(sql)"
   ]
  },
  {
   "cell_type": "markdown",
   "id": "4e886740-5eb7-42d3-93d9-451711fb608f",
   "metadata": {},
   "source": [
    "위 함수의 실행 결과는 각 국적의 사람들의 수를 집계한 데이터가 나오게 된다. 조금 더 복잡하게는 다음과 같이 JOIN과 엮어서 쓸 수 있다."
   ]
  },
  {
   "cell_type": "code",
   "execution_count": null,
   "id": "82a5229f-097c-40e9-9805-114d4fe252dc",
   "metadata": {},
   "outputs": [],
   "source": [
    "sql = \"\"\"SELECT Shippers.ShipperName, COUNT(Orders.OrderID) AS NumberOfOrders FROM Orders\n",
    "         LEFT JOIN Shippers ON Orders.ShipperID = Shippers.ShipperID\n",
    "         GROUP BY ShipperName;\"\"\"\n",
    "sendQuery(sql)"
   ]
  },
  {
   "cell_type": "markdown",
   "id": "b17d107f-74ab-4106-ba24-2e308d548573",
   "metadata": {},
   "source": [
    "## HAVING\n",
    "\n",
    "WHERE문 안에서는 추가적인 데이터 처리 함수를 쓰지 못하기 때문에 HAVING을 써서 이를 해결한다."
   ]
  },
  {
   "cell_type": "code",
   "execution_count": 3,
   "id": "c9203cdf-07f8-43cd-b6ba-0d87416d469e",
   "metadata": {},
   "outputs": [
    {
     "data": {
      "text/plain": [
       "[(9, 'Brazil'), (11, 'France'), (11, 'Germany'), (7, 'UK'), (13, 'USA')]"
      ]
     },
     "execution_count": 3,
     "metadata": {},
     "output_type": "execute_result"
    }
   ],
   "source": [
    "sql = \"\"\"SELECT COUNT(CustomerID), Country\n",
    "         FROM Customers\n",
    "         GROUP BY Country\n",
    "         HAVING COUNT(CustomerID) > 5;\n",
    "\"\"\"\n",
    "sendQuery(sql)"
   ]
  },
  {
   "cell_type": "code",
   "execution_count": 5,
   "id": "1ad13df1",
   "metadata": {},
   "outputs": [
    {
     "data": {
      "text/plain": [
       "[(13, 'USA'), (11, 'Germany'), (11, 'France'), (9, 'Brazil'), (7, 'UK')]"
      ]
     },
     "execution_count": 5,
     "metadata": {},
     "output_type": "execute_result"
    }
   ],
   "source": [
    "sql = \"\"\"SELECT COUNT(CustomerID), Country\n",
    "         FROM Customers\n",
    "         GROUP BY Country\n",
    "         HAVING COUNT(CustomerID) > 5\n",
    "         ORDER BY COUNT(CustomerID) DESC;\n",
    "\"\"\"\n",
    "sendQuery(sql)"
   ]
  },
  {
   "cell_type": "markdown",
   "id": "08e10b75",
   "metadata": {},
   "source": [
    "위의 두 쿼리는 국가당 계정이 5개 있는 나라와 계정 수를 출력하는 쿼리였다. ORDER BY DESCENT로 역순 정렬도 하는 보습을 확인할 수 있다."
   ]
  },
  {
   "cell_type": "markdown",
   "id": "cb959e2c",
   "metadata": {},
   "source": [
    "## EXISTS\n",
    "서브 쿼리문의 결과에서 아이템이 존재하면 참이 된다."
   ]
  },
  {
   "cell_type": "code",
   "execution_count": 6,
   "id": "8d29c426",
   "metadata": {},
   "outputs": [
    {
     "data": {
      "text/plain": [
       "[('Exotic Liquid',),\n",
       " ('New Orleans Cajun Delights',),\n",
       " ('Tokyo Traders',),\n",
       " (\"Mayumi's\",),\n",
       " ('Pavlova, Ltd.',),\n",
       " ('Specialty Biscuits, Ltd.',),\n",
       " ('PB Knäckebröd AB',),\n",
       " ('Refrescos Americanas LTDA',),\n",
       " ('Heli Süßwaren GmbH & Co. KG',),\n",
       " ('Plutzer Lebensmittelgroßmärkte AG',),\n",
       " ('Formaggi Fortini s.r.l.',),\n",
       " ('Norske Meierier',),\n",
       " ('Bigfoot Breweries',),\n",
       " ('Svensk Sjöföda AB',),\n",
       " ('Aux joyeux ecclésiastiques',),\n",
       " ('New England Seafood Cannery',),\n",
       " ('Leka Trading',),\n",
       " ('Lyngbysild',),\n",
       " ('Zaanse Snoepfabriek',),\n",
       " ('Karkki Oy',),\n",
       " (\"G'day, Mate\",),\n",
       " ('Ma Maison',),\n",
       " ('Pasta Buttini s.r.l.',),\n",
       " ('Escargots Nouveaux',)]"
      ]
     },
     "execution_count": 6,
     "metadata": {},
     "output_type": "execute_result"
    }
   ],
   "source": [
    "sql = \"\"\"SELECT SupplierName\n",
    "FROM Suppliers\n",
    "WHERE EXISTS (SELECT ProductName FROM Products WHERE Products.SupplierID = Suppliers.supplierID AND Price < 20);\n",
    "\"\"\"\n",
    "sendQuery(sql)"
   ]
  },
  {
   "cell_type": "code",
   "execution_count": 109,
   "id": "bba548d2",
   "metadata": {},
   "outputs": [
    {
     "name": "stdout",
     "output_type": "stream",
     "text": [
      "no such column: Suppliers.supplierID\n"
     ]
    }
   ],
   "source": [
    "sql = \n",
    "sendQuery(sql)"
   ]
  },
  {
   "cell_type": "markdown",
   "id": "02d68e39",
   "metadata": {},
   "source": [
    "위의 코드에서는 마트에 제푸믈 공갑하는 사업자 중 20불보다 싼 물건을 납품하는 업자들의 명단이다."
   ]
  },
  {
   "cell_type": "markdown",
   "id": "b3b22830",
   "metadata": {},
   "source": [
    "# ANY and ALL\n",
    "\n",
    "이름 그대로 서브쿼리에 조건에 맞는 값이 하나라도/모두가 온다면 TRUE를 반환한다."
   ]
  },
  {
   "cell_type": "code",
   "execution_count": 10,
   "id": "4f21f4ce",
   "metadata": {},
   "outputs": [
    {
     "name": "stdout",
     "output_type": "stream",
     "text": [
      "near \"SELECT\": syntax error\n"
     ]
    }
   ],
   "source": [
    "sql = \"\"\"SELECT ProductName\n",
    "         FROM Products\n",
    "         WHERE ProductID = ANY\n",
    "         (SELECT ProductID\n",
    "         FROM OrderDetails\n",
    "         WHERE Quantity = 10);\n",
    "\"\"\"\n",
    "sendQuery(sql)"
   ]
  },
  {
   "cell_type": "code",
   "execution_count": 11,
   "id": "bd4d6e31",
   "metadata": {},
   "outputs": [
    {
     "name": "stdout",
     "output_type": "stream",
     "text": [
      "near \"SELECT\": syntax error\n"
     ]
    }
   ],
   "source": [
    "sql = \"\"\"SELECT ProductName\n",
    "         FROM Products\n",
    "         WHERE ProductID = ANY\n",
    "         (SELECT ProductID\n",
    "         FROM OrderDetails\n",
    "         WHERE Quantity > 1000);\n",
    "\"\"\"\n",
    "sendQuery(sql)"
   ]
  },
  {
   "cell_type": "code",
   "execution_count": 12,
   "id": "f4444e96",
   "metadata": {},
   "outputs": [
    {
     "name": "stdout",
     "output_type": "stream",
     "text": [
      "near \"ALL\": syntax error\n"
     ]
    }
   ],
   "source": [
    "sql = \"\"\"SELECT ProductName\n",
    "         FROM Products\n",
    "         WHERE ProductID = ALL\n",
    "         (SELECT ProductID\n",
    "         FROM OrderDetails\n",
    "         WHERE Quantity = 10);\"\"\"\n",
    "sendQuery(sql)"
   ]
  },
  {
   "cell_type": "markdown",
   "id": "dca64222",
   "metadata": {},
   "source": [
    "ALL과 ANY는 작동하지 않았다."
   ]
  },
  {
   "cell_type": "markdown",
   "id": "76fa8dc5",
   "metadata": {},
   "source": [
    "# SELECT INTO\n",
    "해당 구문은 새로운 테이블에 고른 데이터를 넣을려고 사용한다"
   ]
  },
  {
   "cell_type": "code",
   "execution_count": 6,
   "id": "84294a25",
   "metadata": {},
   "outputs": [
    {
     "name": "stdout",
     "output_type": "stream",
     "text": [
      "near \"INTO\": syntax error\n",
      "no such table: CustomersBackup2017\n"
     ]
    }
   ],
   "source": [
    "sql = \"SELECT * INTO CustomersBackup2017 FROM Customers;\"\n",
    "sendQuery(sql)\n",
    "sql = \"SELECT * FROM CustomersBackup2017\"\n",
    "sendQuery(sql)"
   ]
  },
  {
   "cell_type": "markdown",
   "id": "f822a1c5",
   "metadata": {},
   "source": [
    "실행이 안되고 있는 모습을 보여준다"
   ]
  },
  {
   "cell_type": "markdown",
   "id": "14fe333f",
   "metadata": {},
   "source": [
    "# INSERT INTO SELECT\n",
    "뒤에서 SELECT에 의해 선택된 데이터를 INSERT INTO 뒤에 오는 테이블에 넣는다."
   ]
  },
  {
   "cell_type": "code",
   "execution_count": null,
   "id": "f530d3db",
   "metadata": {},
   "outputs": [],
   "source": [
    "sql = \"\"\"INSERT INTO Customers (CustomerName, City, Country)\n",
    "         SELECT SupplierName, City, Country FROM Suppliers;\"\"\"\n",
    "sendQuery(sql)\n",
    "sql = \"SELECT * FROM Customers\"\n",
    "sendQuery(sql)"
   ]
  },
  {
   "cell_type": "markdown",
   "id": "36f714b9",
   "metadata": {},
   "source": [
    "맨 뒤에 서플라이어 테이블로붜 일부가 커스토머에 추가된 것을 확인할 수 있다."
   ]
  },
  {
   "cell_type": "markdown",
   "id": "d462ebce",
   "metadata": {},
   "source": [
    "# CASE\n",
    "c 언어의 case문처럼 여러개의 조건을 다루기 위해 사용한다."
   ]
  },
  {
   "cell_type": "code",
   "execution_count": null,
   "id": "fa195375",
   "metadata": {},
   "outputs": [],
   "source": [
    "sql = \"\"\"SELECT OrderID, Quantity,\n",
    "         CASE\n",
    "             WHEN Quantity > 30 THEN 'The quantity is greater than 30'\n",
    "             WHEN Quantity = 30 THEN 'The quantity is 30'\n",
    "             ELSE 'The quantity is under 30'    \n",
    "         END AS QuantityText\n",
    "         FROM OrderDetails;\"\"\"\n",
    "sendQuery(sql)"
   ]
  },
  {
   "cell_type": "code",
   "execution_count": null,
   "id": "723f2bc8",
   "metadata": {},
   "outputs": [],
   "source": [
    "sql = \"\"\"SELECT CustomerName, City, Country\n",
    "         FROM Customers\n",
    "         ORDER BY\n",
    "         (CASE\n",
    "             WHEN City IS NULL THEN Country\n",
    "             ELSE City\n",
    "         END);\n",
    "\"\"\"\n",
    "sendQuery(sql)"
   ]
  },
  {
   "cell_type": "markdown",
   "id": "17f4930d",
   "metadata": {},
   "source": [
    "case문을 이용하여 여타 프로그래밍 언어의 if 문과도 같은 사용을 할 수 있다."
   ]
  },
  {
   "cell_type": "markdown",
   "id": "1f4402a0",
   "metadata": {},
   "source": [
    "# NULL\n",
    "NULL값이 왔을 때 다른 값으로 처리하는 함수를 다룬다."
   ]
  },
  {
   "cell_type": "code",
   "execution_count": 10,
   "id": "3a730225",
   "metadata": {},
   "outputs": [
    {
     "name": "stdout",
     "output_type": "stream",
     "text": [
      "no such column: UnitPrice\n"
     ]
    }
   ],
   "source": [
    "sql = \"\"\"SELECT ProductName, UnitPrice * (UnitsInStock + IFNULL(UnitsOnOrder, 0))\n",
    "         FROM Products;\"\"\"\n",
    "sendQuery(sql)"
   ]
  },
  {
   "cell_type": "code",
   "execution_count": 11,
   "id": "785a157c",
   "metadata": {},
   "outputs": [
    {
     "name": "stdout",
     "output_type": "stream",
     "text": [
      "near \"ISNULL\": syntax error\n"
     ]
    }
   ],
   "source": [
    "sql = \"\"\"SELECT ProductName, UnitPrice * (UnitsInStock + ISNULL(UnitsOnOrder, 0))\n",
    "         FROM Products;\"\"\"\n",
    "sendQuery(sql)"
   ]
  },
  {
   "cell_type": "code",
   "execution_count": 12,
   "id": "54805d57",
   "metadata": {},
   "outputs": [
    {
     "name": "stdout",
     "output_type": "stream",
     "text": [
      "near \"IsNull\": syntax error\n"
     ]
    }
   ],
   "source": [
    "sql = \"\"\"SELECT ProductName, UnitPrice * (UnitsInStock + IIF(IsNull(UnitsOnOrder), 0, UnitsOnOrder))\n",
    "         FROM Products;\"\"\"\n",
    "sendQuery(sql)"
   ]
  },
  {
   "cell_type": "code",
   "execution_count": 13,
   "id": "d0ac16b4",
   "metadata": {},
   "outputs": [
    {
     "name": "stdout",
     "output_type": "stream",
     "text": [
      "no such column: UnitPrice\n"
     ]
    }
   ],
   "source": [
    "sql = \"\"\"SELECT ProductName, UnitPrice * (UnitsInStock + NVL(UnitsOnOrder, 0))\n",
    "         FROM Products;\"\"\"\n",
    "sendQuery(sql)"
   ]
  },
  {
   "cell_type": "code",
   "execution_count": 14,
   "id": "5ba37de4",
   "metadata": {},
   "outputs": [
    {
     "name": "stdout",
     "output_type": "stream",
     "text": [
      "no such column: UnitPrice\n"
     ]
    }
   ],
   "source": [
    "sql = \"\"\"SELECT ProductName, UnitPrice * (UnitsInStock + COALESCE(UnitsOnOrder, 0))\n",
    "         FROM Products;\"\"\"\n",
    "sendQuery(sql)"
   ]
  },
  {
   "cell_type": "markdown",
   "id": "ea3a0913",
   "metadata": {},
   "source": [
    "뭔가 작동은 잘 안하지만 sqlite3에서는 IFNULL, NVM, COALESCE 함수만 작동하는것을 확인할 수 있었다."
   ]
  },
  {
   "cell_type": "markdown",
   "id": "400a1ebc",
   "metadata": {},
   "source": [
    "# Stored Procedures\n",
    "프로그래밍 언어의 함수처럼, 자주 사용하는 쿼리문이 있다면, 저장해서 사용할 수 있는 기능이다."
   ]
  },
  {
   "cell_type": "code",
   "execution_count": 17,
   "id": "d2b6f30b",
   "metadata": {},
   "outputs": [
    {
     "name": "stdout",
     "output_type": "stream",
     "text": [
      "near \"PROCEDURE\": syntax error\n",
      "near \"EXEC\": syntax error\n"
     ]
    }
   ],
   "source": [
    "sql = \"\"\"CREATE PROCEDURE SelectAllCustomers\n",
    "         AS\n",
    "         SELECT * FROM Customers\n",
    "         GO;\n",
    "\"\"\"\n",
    "sendQuery(sql)\n",
    "\n",
    "sql = \"EXEC SelectAllCustormer\"\n",
    "sendQuery(sql)"
   ]
  },
  {
   "cell_type": "markdown",
   "id": "f1525427",
   "metadata": {},
   "source": [
    "그러나 sqlite3에서는 작동하지 않는다. 댜음과 같이 매개변수를 이용할 수도 있다."
   ]
  },
  {
   "cell_type": "code",
   "execution_count": 18,
   "id": "3aca1678",
   "metadata": {},
   "outputs": [
    {
     "name": "stdout",
     "output_type": "stream",
     "text": [
      "near \"PROCEDURE\": syntax error\n",
      "near \"EXEC\": syntax error\n"
     ]
    }
   ],
   "source": [
    "sql = \"\"\"CREATE PROCEDURE SelectAllCustomers @City nvarchar(30), @PostalCode nvarchar(10)\n",
    "         AS\n",
    "         SELECT * FROM Customers WHERE City = @City AND PostalCode = @PostalCode\n",
    "         GO;\"\"\"\n",
    "sendQuery(sql)\n",
    "\n",
    "sql = \"EXEC SelectAllCustomers @City = 'London', @PostalCode = 'WA1 1DP'\"\n",
    "sendQuery(sql)"
   ]
  },
  {
   "cell_type": "markdown",
   "id": "8d777bc7",
   "metadata": {},
   "source": [
    "아무튼 작동하지는 않지만 위와같은 문법으로 사용할 수 있다."
   ]
  },
  {
   "cell_type": "markdown",
   "id": "9a39953a",
   "metadata": {},
   "source": [
    "# Comments\n",
    "\"--\" 대쉬 두개를 그은 후에 주석을 달 수 있다."
   ]
  },
  {
   "cell_type": "markdown",
   "id": "b961c284",
   "metadata": {},
   "source": [
    "# Operators\n",
    "Sql에서 사용할 수 있는 많은 연산자가 있다. + - * / % 와 같이 기본 사칙연산과 관련된 연산자, & | ^ 와 같이 c에서 비트 단위로 연산해주는 연산자, = > < >= <= <> 연산자와 같이 조건에 관한 연산자를 쓸 수 있다. c와 다른 점은 c의 == 대신에 =, c의 != 대신에 <>를 쓴다는 점이다.\n",
    "\n",
    "계속해서 += -= *= /- %= &= ^-=, |*= 연산자가 있는데, 다른건 c와 같지만 ^-=, |*=연산자 사용에 주의하자. 각각 bitwise xor equals, bitwise OR equals이다.\n",
    "\n",
    "마지막으로 지금까지 봤던 문자열 형식의 연산자도 연산자이다. ALL, AND, ANY, BETWEEN, EXISTS, IN, LIKE, NOT, OR, SOME이 있다."
   ]
  },
  {
   "cell_type": "markdown",
   "id": "91b08395",
   "metadata": {},
   "source": [
    "# Database Operating\n",
    "데이터베이스를 다루는 함수들이다."
   ]
  },
  {
   "cell_type": "markdown",
   "id": "07d3ed09",
   "metadata": {},
   "source": [
    "## CREATE DATABASE\n",
    "데이터베이스를 만든다."
   ]
  },
  {
   "cell_type": "code",
   "execution_count": 19,
   "id": "21daa6ed",
   "metadata": {},
   "outputs": [
    {
     "name": "stdout",
     "output_type": "stream",
     "text": [
      "near \"DATABASE\": syntax error\n"
     ]
    }
   ],
   "source": [
    "sql = \"CREATE DATABASE testDB\"\n",
    "sendQuery(sql)"
   ]
  },
  {
   "cell_type": "markdown",
   "id": "119a476b",
   "metadata": {},
   "source": [
    "## DROP DATABASE\n",
    "데이터베이스를 지운다."
   ]
  },
  {
   "cell_type": "code",
   "execution_count": 20,
   "id": "ac79ddf0",
   "metadata": {},
   "outputs": [
    {
     "name": "stdout",
     "output_type": "stream",
     "text": [
      "near \"DATABASE\": syntax error\n"
     ]
    }
   ],
   "source": [
    "sql = \"DROP DATABASE testDB\"\n",
    "sendQuery(sql)"
   ]
  },
  {
   "cell_type": "markdown",
   "id": "75d7299e",
   "metadata": {},
   "source": [
    "## BACKUP DATABASE\n",
    "데이터베이스를 파일로 출력한다."
   ]
  },
  {
   "cell_type": "code",
   "execution_count": 22,
   "id": "6a0765df",
   "metadata": {},
   "outputs": [
    {
     "name": "stdout",
     "output_type": "stream",
     "text": [
      "near \"BACKUP\": syntax error\n"
     ]
    }
   ],
   "source": [
    "sql = \"\"\"BACKUP DATABASE testDB\n",
    "         TO DISK = \"./testDB.bak\"\n",
    "\"\"\"\n",
    "sendQuery(sql)"
   ]
  },
  {
   "cell_type": "code",
   "execution_count": 23,
   "id": "a9bac0c6",
   "metadata": {},
   "outputs": [
    {
     "name": "stdout",
     "output_type": "stream",
     "text": [
      "near \"BACKUP\": syntax error\n"
     ]
    }
   ],
   "source": [
    "sql = \"\"\"BACKUP DATABASE testDB\n",
    "         TO DISK = \"./testDB.bak\"\n",
    "         WITH DIFFERENTIAL\"\"\"\n",
    "sendQuery(sql)"
   ]
  },
  {
   "cell_type": "markdown",
   "id": "5888fc18",
   "metadata": {},
   "source": [
    "with differential 옵션을 붙이면 기록 시간은 제외하고 저장된다.\n",
    "\n",
    "위의 세 함수는 실행이 되지 않지만 아무튼 저런 기능이 있다고 한다."
   ]
  },
  {
   "cell_type": "markdown",
   "id": "b855069e",
   "metadata": {},
   "source": [
    "# Table Operating\n",
    "데이터베이스 내부의 테이블을 다루는 명령어를 다룬다."
   ]
  },
  {
   "cell_type": "markdown",
   "id": "c45cc148",
   "metadata": {},
   "source": [
    "## CREATE TABLE\n",
    "새로운 테이블을 만든다."
   ]
  },
  {
   "cell_type": "code",
   "execution_count": null,
   "id": "19e921e5",
   "metadata": {},
   "outputs": [],
   "source": [
    "sql = \"\"\"CREATE TABLE Persons (\n",
    "         PersonID int,\n",
    "         LastName varchar(255),\n",
    "         FirstName varchar(255),\n",
    "         Address varchar(255),\n",
    "         City varchar(255) \n",
    "         );\n",
    "      \"\"\"\n",
    "sendQuery(sql)"
   ]
  },
  {
   "cell_type": "code",
   "execution_count": null,
   "id": "2beb744c",
   "metadata": {},
   "outputs": [],
   "source": [
    "sql = \"\"\"CREATE TABLE TestTable AS\n",
    "         SELECT customername, contactname\n",
    "         FROM customers;\n",
    "      \"\"\"\n",
    "sendQuery(sql)\n",
    "sql = \"SELECT * FROM TestTable\"\n",
    "sendQuery(sql)"
   ]
  },
  {
   "cell_type": "markdown",
   "id": "361910c6",
   "metadata": {},
   "source": [
    "AS SELECT를 이용하여 새로운 테이블을 만들 수도 있다. 이때는, 선택된 column에 데이터가 있다면, 해당 데이터도 같이 복사된다."
   ]
  },
  {
   "cell_type": "markdown",
   "id": "dbb17c26",
   "metadata": {},
   "source": [
    "## DROP TABLE\n",
    "테이블을 삭제한다."
   ]
  },
  {
   "cell_type": "code",
   "execution_count": 27,
   "id": "a1040e2f",
   "metadata": {},
   "outputs": [
    {
     "data": {
      "text/plain": [
       "[]"
      ]
     },
     "execution_count": 27,
     "metadata": {},
     "output_type": "execute_result"
    }
   ],
   "source": [
    "sql = \"DROP TABLE Persons\"\n",
    "sendQuery(sql)"
   ]
  },
  {
   "cell_type": "code",
   "execution_count": 29,
   "id": "c0c05caa",
   "metadata": {},
   "outputs": [
    {
     "name": "stdout",
     "output_type": "stream",
     "text": [
      "near \"TRUNCATE\": syntax error\n"
     ]
    },
    {
     "data": {
      "text/plain": [
       "[]"
      ]
     },
     "execution_count": 29,
     "metadata": {},
     "output_type": "execute_result"
    }
   ],
   "source": [
    "sql = \"TRUNCATE TABLE TestTable\"\n",
    "sendQuery(sql)\n",
    "sql = \"SELECT * FROM TestTable\"\n",
    "sendQuery(sql)\n",
    "sql = \"DROP TABLE TestTable\"\n",
    "sendQuery(sql)"
   ]
  },
  {
   "cell_type": "markdown",
   "id": "1e60e2eb",
   "metadata": {},
   "source": [
    "TRUNCATE TABLE 함수를 이용하여 테이블 내부 데이터를 삭제할 수 있다고 하는데 삭제가 안된다. 아무래도 DROP * FROM table을 사용해야 할 것 같다."
   ]
  },
  {
   "cell_type": "markdown",
   "id": "d272fe87",
   "metadata": {},
   "source": [
    "## ALTER TABLE\n",
    "기존 테이블에 열을 추가하거나 삭제하기 위해 사용한다. 그 외에도 제약조건을 걸거나 삭제하는데에도 사용할 수 있다."
   ]
  },
  {
   "cell_type": "code",
   "execution_count": 34,
   "id": "bd717a46",
   "metadata": {},
   "outputs": [
    {
     "name": "stdout",
     "output_type": "stream",
     "text": [
      "[(1, 'Alfreds Futterkiste', 'Maria Anders', 'Obere Str. 57', 'Berlin', '12209', 'Germany', None)]\n",
      "[(1, 'Alfreds Futterkiste', 'Maria Anders', 'Obere Str. 57', 'Berlin', '12209', 'Germany')]\n"
     ]
    }
   ],
   "source": [
    "sql = \"\"\"ALTER TABLE Customers\n",
    "         ADD Email varchar(255);\"\"\"\n",
    "sendQuery(sql)\n",
    "sql = \"SELECT * FROM Customers LIMIT 1\"\n",
    "print(sendQuery(sql))\n",
    "sql = \"\"\"ALTER TABLE Customers\n",
    "         DROP COLUMN Email;\"\"\"\n",
    "sendQuery(sql)\n",
    "sql = \"SELECT * FROM Customers LIMIT 1\"\n",
    "print(sendQuery(sql))\n"
   ]
  },
  {
   "cell_type": "code",
   "execution_count": 37,
   "id": "25fd7922",
   "metadata": {},
   "outputs": [
    {
     "name": "stdout",
     "output_type": "stream",
     "text": [
      "[('Berlin',)]\n"
     ]
    },
    {
     "data": {
      "text/plain": [
       "[]"
      ]
     },
     "execution_count": 37,
     "metadata": {},
     "output_type": "execute_result"
    }
   ],
   "source": [
    "sql = \"ALTER TABLE Customers RENAME COLUMN City to city\"\n",
    "sendQuery(sql)\n",
    "sql = \"SELECT city FROM Customers LIMIT 1\"\n",
    "print(sendQuery(sql))\n",
    "sql = \"ALTER TABLE Customers RENAME COLUMN City to city\"\n",
    "sendQuery(sql)"
   ]
  },
  {
   "cell_type": "code",
   "execution_count": 38,
   "id": "b26d145a",
   "metadata": {},
   "outputs": [],
   "source": [
    "sql = \"\"\"ALTER TABLE table_name\n",
    "         MODIFY COLUMN column_name datatype;\n",
    "\"\"\"\n",
    "# or\n",
    "sql = \"\"\"ALTER TABLE table_name\n",
    "         MODIFY column_name datatype;\n",
    "\"\"\""
   ]
  },
  {
   "cell_type": "markdown",
   "id": "5661c691",
   "metadata": {},
   "source": [
    "위와 같은 방법으로 column의 데이터 형식을 바꿀 수 있다."
   ]
  },
  {
   "cell_type": "markdown",
   "id": "abe6244f",
   "metadata": {},
   "source": [
    "# Constrains\n",
    "table을 만들 때, 각 column의 제약 조건을 설정할 수 있다. 제약조건으로는 다음과 같이 걸 수 있다.\n",
    "\n",
    "* NOT NULL: NULL값이 데이터로 올 수 없음.\n",
    "* UNIQUE: 데이터가 중복될 수 없음\n",
    "* PRIMARY KEY (NOT NULL): 해당 column의 데이터로 테이블의 각 행을 식별함. UNIQUE해야한다.\n",
    "* FOREIGN KEY: 테이블 간 링크를 파괴하는 작업을 방지한다.\n",
    "* CHECK: 열의 값이 특정 조건을 만족하는지 확인한다.\n",
    "* DEFAULT: 값이 지정되지 않은 경우 열에 대한 기본값을 설정한다.\n",
    "* CREATE INDEX: 데이터베이스에서 매우 빠르게 데이터를 생성하고 검색하는데 사용됨."
   ]
  },
  {
   "cell_type": "markdown",
   "id": "b735914f",
   "metadata": {},
   "source": [
    "## NOT NULL"
   ]
  },
  {
   "cell_type": "code",
   "execution_count": 22,
   "id": "ec271d15",
   "metadata": {},
   "outputs": [
    {
     "name": "stdout",
     "output_type": "stream",
     "text": [
      "NOT NULL constraint failed: TestTable.FirstName\n",
      "[(1, 'kim', 'babo', 26), (2, 'Lee', 'Jeongsang', 7), (3, 'Park', 'Daegi', 40), (4, 'test', 'no age', None)]\n"
     ]
    }
   ],
   "source": [
    "sql = \"\"\"\n",
    "    CREATE TABLE TestTable (\n",
    "        ID int NOT NULL,\n",
    "        LastName varchar(255) NOT NULL,\n",
    "        FirstName varchar(255) NOT NULL,\n",
    "        Age int\n",
    "    );\n",
    "\"\"\"\n",
    "sendQuery(sql)\n",
    "sql = \"\"\"INSERT INTO TestTable(ID, LastName, FirstName, Age)\n",
    "         VALUES (?,?,?,?)\"\"\"\n",
    "data = [[1,\"kim\",\"babo\", 26], [2,\"Lee\",\"Jeongsang\", 7], [3, \"Park\", \"Daegi\", 40]]\n",
    "sendQueryWithData(sql, data)\n",
    "sql = \"\"\"INSERT INTO TestTable(ID, LastName, FirstName)\n",
    "         VALUES (4,\"test\", \"no age\")\"\"\"\n",
    "sendQuery(sql)\n",
    "sql = \"\"\"INSERT INTO TestTable(ID, LastName)\n",
    "         VALUES (4,\"No First name\")\"\"\"\n",
    "sendQuery(sql)\n",
    "sql = \"SELECT * FROM TestTable\"\n",
    "print(sendQuery(sql))\n",
    "#sql = \"DROP TABLE TestTable\"\n",
    "#sendQuery(sql)"
   ]
  },
  {
   "cell_type": "markdown",
   "id": "2ba54015",
   "metadata": {},
   "source": [
    "## UNIQUE"
   ]
  },
  {
   "cell_type": "code",
   "execution_count": 25,
   "id": "c2baf358",
   "metadata": {},
   "outputs": [
    {
     "name": "stdout",
     "output_type": "stream",
     "text": [
      "near \"CONSTRAINT\": syntax error\n"
     ]
    }
   ],
   "source": [
    "#sql = \"\"\"INSERT INTO TestTable(ID, LastName, FirstName)\n",
    "#         VALUES (4,\"test\", \"no unique id\")\"\"\"\n",
    "#sendQuery(sql)\n",
    "#sql = \"ALTER TABLE TestTable ADD CONSTRAINT UNIQUE (ID)\"\n",
    "sql = \"ALTER TABLE TestTable ADD CONSTRAINT UC_Person UNIQUE (ID, LastName)\"\n",
    "sendQuery(sql)\n",
    "\n"
   ]
  },
  {
   "cell_type": "markdown",
   "id": "3e19cc14",
   "metadata": {},
   "source": [
    "안된다... 테이블을 삭제하고 다시 생성해서 시도해 본다."
   ]
  },
  {
   "cell_type": "code",
   "execution_count": 27,
   "id": "7a6f77cc",
   "metadata": {},
   "outputs": [
    {
     "name": "stdout",
     "output_type": "stream",
     "text": [
      "UNIQUE constraint failed: TestTable.ID\n",
      "[(1, 'kim', 'babo', 26), (2, 'Lee', 'Jeongsang', 7), (3, 'Park', 'Daegi', 40), (4, 'test', 'no age', None)]\n"
     ]
    }
   ],
   "source": [
    "sql = \"DROP TABLE TestTable\"\n",
    "sendQuery(sql)\n",
    "\n",
    "sql = \"\"\"\n",
    "    CREATE TABLE TestTable (\n",
    "        ID int NOT NULL,\n",
    "        LastName varchar(255) NOT NULL,\n",
    "        FirstName varchar(255) NOT NULL,\n",
    "        Age int,\n",
    "        UNIQUE (ID)\n",
    "    );\n",
    "\"\"\"\n",
    "sendQuery(sql)\n",
    "sql = \"\"\"INSERT INTO TestTable(ID, LastName, FirstName, Age)\n",
    "         VALUES (?,?,?,?)\"\"\"\n",
    "data = [[1,\"kim\",\"babo\", 26], [2,\"Lee\",\"Jeongsang\", 7], [3, \"Park\", \"Daegi\", 40]]\n",
    "sendQueryWithData(sql, data)\n",
    "sql = \"\"\"INSERT INTO TestTable(ID, LastName, FirstName)\n",
    "         VALUES (4,\"test\", \"no age\")\"\"\"\n",
    "sendQuery(sql)\n",
    "sql = \"\"\"INSERT INTO TestTable(ID, LastName, FirstName)\n",
    "         VALUES (4,\"No Unique\", \"ID\")\"\"\"\n",
    "sendQuery(sql)\n",
    "sql = \"SELECT * FROM TestTable\"\n",
    "print(sendQuery(sql))"
   ]
  },
  {
   "cell_type": "markdown",
   "id": "172111cd",
   "metadata": {},
   "source": [
    "## PRIMARY KEY"
   ]
  },
  {
   "cell_type": "code",
   "execution_count": 88,
   "id": "c36d7565",
   "metadata": {},
   "outputs": [
    {
     "name": "stdout",
     "output_type": "stream",
     "text": [
      "UNIQUE constraint failed: TestTable.ID\n",
      "[(1, 'kim', 'babo', 26), (2, 'Lee', 'Jeongsang', 7), (3, 'Park', 'Daegi', 40), (4, 'test', 'no age', None)]\n"
     ]
    }
   ],
   "source": [
    "sql = \"DROP TABLE TestTable\"\n",
    "sendQuery(sql)\n",
    "\n",
    "sql = \"\"\"\n",
    "    CREATE TABLE TestTable (\n",
    "        ID integer NOT NULL PRIMARY KEY,\n",
    "        LastName varchar(255) NOT NULL,\n",
    "        FirstName varchar(255) NOT NULL,\n",
    "        Age integer,\n",
    "        UNIQUE (ID)\n",
    "    );\n",
    "\"\"\"\n",
    "sendQuery(sql)\n",
    "sql = \"\"\"INSERT INTO TestTable(ID, LastName, FirstName, Age)\n",
    "         VALUES (?,?,?,?)\"\"\"\n",
    "data = [[1,\"kim\",\"babo\", 26], [2,\"Lee\",\"Jeongsang\", 7], [3, \"Park\", \"Daegi\", 40]]\n",
    "sendQueryWithData(sql, data)\n",
    "sql = \"\"\"INSERT INTO TestTable(ID, LastName, FirstName)\n",
    "         VALUES (4,\"test\", \"no age\")\"\"\"\n",
    "sendQuery(sql)\n",
    "sql = \"\"\"INSERT INTO TestTable(ID, LastName, FirstName)\n",
    "         VALUES (4,\"No Unique\", \"ID\")\"\"\"\n",
    "sendQuery(sql)\n",
    "sql = \"SELECT * FROM TestTable\"\n",
    "print(sendQuery(sql))"
   ]
  },
  {
   "cell_type": "markdown",
   "id": "208254f2",
   "metadata": {},
   "source": [
    "UNIQUE 키워드를 붙이지 않아도 자동으로 중복을 파악해 준다."
   ]
  },
  {
   "cell_type": "markdown",
   "id": "43540cfd",
   "metadata": {},
   "source": [
    "## FOREIGN KEY"
   ]
  },
  {
   "cell_type": "code",
   "execution_count": 89,
   "id": "f2715475",
   "metadata": {},
   "outputs": [
    {
     "name": "stdout",
     "output_type": "stream",
     "text": [
      "no such table: TestTable2\n"
     ]
    },
    {
     "data": {
      "text/plain": [
       "[(1, 13245, 1), (2, 13245, 10000)]"
      ]
     },
     "execution_count": 89,
     "metadata": {},
     "output_type": "execute_result"
    }
   ],
   "source": [
    "sql = \"DROP TABLE TestTable2\"\n",
    "sendQuery(sql)\n",
    "sql = \"PRAGMA foreign_keys = 1;\"\n",
    "sendQuery(sql)\n",
    "sql = \"\"\"\n",
    "    CREATE TABLE TestTable2 (\n",
    "        OrderID integer NOT NULL,\n",
    "        OrderNum integer NOT NULL,\n",
    "        PersonID int,\n",
    "        PRIMARY KEY (OrderID),\n",
    "        CONSTRAINT FK_PeronOrder FOREIGN KEY (PersonID)\n",
    "        REFERENCES TestTable(ID)\n",
    "    );\n",
    "\"\"\"\n",
    "sendQuery(sql)\n",
    "sql = \"\"\"INSERT INTO TestTable2(OrderID, OrderNum, PersonID)\n",
    "         VALUES (1, 13245, 1)\"\"\"\n",
    "sendQuery(sql)\n",
    "sql = \"\"\"INSERT INTO TestTable2(OrderID, OrderNum, PersonID)\n",
    "         VALUES (2, 13245, 10000)\"\"\"\n",
    "sendQuery(sql)\n",
    "sql = \"SELECT * FROM TestTable2\"\n",
    "sendQuery(sql)"
   ]
  },
  {
   "cell_type": "markdown",
   "id": "f03babe3",
   "metadata": {},
   "source": [
    "원리는 TestTable의 ID 외의 값이 PersonID 값으로 오면 테이블에 INSERT가 되면 안되는데 된다... 무엇이 문제인지 모르겠다. 마지막으로 TestTable을 지운다."
   ]
  },
  {
   "cell_type": "code",
   "execution_count": 56,
   "id": "9696bbb4",
   "metadata": {},
   "outputs": [
    {
     "name": "stdout",
     "output_type": "stream",
     "text": [
      "no such table: TestTable2\n"
     ]
    },
    {
     "data": {
      "text/plain": [
       "[[], None]"
      ]
     },
     "execution_count": 56,
     "metadata": {},
     "output_type": "execute_result"
    }
   ],
   "source": [
    "sql = [\"DROP TABLE TestTable\",\"DROP TABLE TestTable2\"]\n",
    "[sendQuery(s) for s in sql]"
   ]
  },
  {
   "cell_type": "markdown",
   "id": "350cb993",
   "metadata": {},
   "source": [
    "## CHECK"
   ]
  },
  {
   "cell_type": "code",
   "execution_count": 87,
   "id": "ed6c9534",
   "metadata": {},
   "outputs": [
    {
     "name": "stdout",
     "output_type": "stream",
     "text": [
      "UNIQUE constraint failed: TestTable.ID\n",
      "[(1, 'kim', 'babo', 26, '2025-01-08'), (2, 'Lee', 'Jeongsang', 67, '2025-01-08'), (3, 'Park', 'Daegi', 40, '2025-01-08'), (4, 'No Unique', 'ID', 18, '2025-01-08')]\n"
     ]
    }
   ],
   "source": [
    "sql = \"DROP TABLE TestTable\"\n",
    "sendQuery(sql)\n",
    "\n",
    "sql = \"\"\"\n",
    "    CREATE TABLE TestTable (\n",
    "        ID integer NOT NULL PRIMARY KEY,\n",
    "        LastName varchar(255) NOT NULL,\n",
    "        FirstName varchar(255) NOT NULL,\n",
    "        Age integer,\n",
    "        CreatedAt date DEFAULT (date('now'))\n",
    "    );\n",
    "\"\"\"\n",
    "sendQuery(sql)\n",
    "sql = \"\"\"INSERT INTO TestTable(ID, LastName, FirstName, Age)\n",
    "         VALUES (?,?,?,?)\"\"\"\n",
    "data = [[1,\"kim\",\"babo\", 26], [2,\"Lee\",\"Jeongsang\", 67], [3, \"Park\", \"Daegi\", 40]]\n",
    "sendQueryWithData(sql, data)\n",
    "sql = \"\"\"INSERT INTO TestTable(ID, LastName, FirstName, Age)\n",
    "         VALUES (1,\"test\", \"no age\", 4)\"\"\"\n",
    "sendQuery(sql)\n",
    "sql = \"\"\"INSERT INTO TestTable(ID, LastName, FirstName, Age)\n",
    "         VALUES (4,\"No Unique\", \"ID\", 18)\"\"\"\n",
    "sendQuery(sql)\n",
    "\n",
    "sql = \"SELECT * FROM TestTable\"\n",
    "print(sendQuery(sql))"
   ]
  },
  {
   "cell_type": "markdown",
   "id": "59574f94",
   "metadata": {},
   "source": [
    "해당 필드의 값이 비었을 때 자동으로 채워주는 조건이다."
   ]
  },
  {
   "cell_type": "markdown",
   "id": "3dcf1dc1",
   "metadata": {},
   "source": [
    "## CREATE INDEX\n",
    "복수개의 Column이 허용된다."
   ]
  },
  {
   "cell_type": "code",
   "execution_count": 73,
   "id": "916f9e2c",
   "metadata": {},
   "outputs": [
    {
     "data": {
      "text/plain": [
       "[]"
      ]
     },
     "execution_count": 73,
     "metadata": {},
     "output_type": "execute_result"
    }
   ],
   "source": [
    "sql = \"CREATE INDEX idx_lastname ON TestTable(ID);\"\n",
    "sendQuery(sql)"
   ]
  },
  {
   "cell_type": "markdown",
   "id": "a40a5290",
   "metadata": {},
   "source": [
    "인덱스는 데이터베이스를 빠르게 탐색하게 해준다고 한다. 사용자는 인덱스를 볼 수 없으며, 인덱스가 있는 테이블은 업데이트시 시간이 더 많이 걸림에 주의해야 한다."
   ]
  },
  {
   "cell_type": "markdown",
   "id": "7e446257",
   "metadata": {},
   "source": [
    "## AUTO INCREMENT\n",
    "테이블 생성 시, 자동으로 증가하는 필드로 설정한다."
   ]
  },
  {
   "cell_type": "code",
   "execution_count": 91,
   "id": "fff78520",
   "metadata": {},
   "outputs": [
    {
     "name": "stdout",
     "output_type": "stream",
     "text": [
      "UNIQUE constraint failed: TestTable.Id\n",
      "[(1, 'kim', 'babo', 26, '2025-01-08 02:37:28'), (2, 'Lee', 'Jeongsang', 67, '2025-01-08 02:37:28'), (3, 'Park', 'Daegi', 40, '2025-01-08 02:37:28'), (4, 'test', 'no age', 4, '2025-01-08 02:37:28')]\n"
     ]
    }
   ],
   "source": [
    "sql = \"DROP TABLE TestTable\"\n",
    "sendQuery(sql)\n",
    "\n",
    "sql = \"\"\"\n",
    "    CREATE TABLE TestTable (\n",
    "        Id integer PRIMARY KEY AUTOINCREMENT,\n",
    "        LastName varchar(255) NOT NULL,\n",
    "        FirstName varchar(255) NOT NULL,\n",
    "        Age int,\n",
    "        CreatedAt date DEFAULT (datetime('now'))\n",
    "    );\n",
    "\"\"\"\n",
    "sendQuery(sql)\n",
    "sql = \"\"\"INSERT INTO TestTable(LastName, FirstName, Age)\n",
    "         VALUES (?,?,?)\"\"\"\n",
    "data = [[\"kim\",\"babo\", 26], [\"Lee\",\"Jeongsang\", 67], [\"Park\", \"Daegi\", 40]]\n",
    "sendQueryWithData(sql, data)\n",
    "sql = \"\"\"INSERT INTO TestTable(LastName, FirstName, Age)\n",
    "         VALUES (\"test\", \"no age\", 4)\"\"\"\n",
    "sendQuery(sql)\n",
    "sql = \"\"\"INSERT INTO TestTable(Id, LastName, FirstName, Age)\n",
    "         VALUES (1,\"No Unique\", \"ID\", 18)\"\"\"\n",
    "sendQuery(sql)\n",
    "\n",
    "\n",
    "sql = \"SELECT * FROM TestTable\"\n",
    "print(sendQuery(sql))"
   ]
  },
  {
   "cell_type": "markdown",
   "id": "d84e938d",
   "metadata": {},
   "source": [
    "# Dates\n",
    "날짜를 다룬다.\n",
    "\n",
    "MySQL에서의 형식은 다음과 같다:\n",
    "\n",
    "* DATE: YYYY-MM-DD\n",
    "* DATETIME: YYYY-MM-DD HH:MI:SS\n",
    "* TIMESTAMP: YYYY-MM-DD HH:MI:SS\n",
    "* YEAR: YYYY 혹은 YY\n",
    "\n",
    "SQL Server에서는 다음과 같다:\n",
    "\n",
    "* DATE: YYYY-MM-DD\n",
    "* DATETIME: YYYY-MM-DD HH:MI:SS\n",
    "* SMALLDATETIME: YYYY-MM-DD HH:MI:SS\n",
    "* TIMESTAMP: 고유 번호\n",
    "\n",
    "홈페이지에 적힌 팁으로는 꼭 필요한 경우가 아니라면 날짜에 시간 구성요소를 사용하지 말라고 한다. 하루 단위로 조작하는 데이터가 많지 시/분/초 단위로 조작하는 데이터가 많지 않아서 그런 것 같다. 그것이 아니더라도 일자까지는 비교를 잘 해주는 것 같다."
   ]
  },
  {
   "cell_type": "markdown",
   "id": "a4c531a9",
   "metadata": {},
   "source": [
    "# VIEW\n",
    "view는 이름을 재명명한 듯한 느낌이다. 원하는 테이블에서 필요한 데이터만을 모아 뷰로 설정할 수 있다. 원래 테이블을 업데이트 하면 뷰도 자동으로 업데이트 된다고 한다."
   ]
  },
  {
   "cell_type": "code",
   "execution_count": 92,
   "id": "011bb79f",
   "metadata": {},
   "outputs": [
    {
     "data": {
      "text/plain": [
       "[('Comércio Mineiro', 'Pedro Afonso'),\n",
       " ('Familia Arquibaldo', 'Aria Cruz'),\n",
       " ('Gourmet Lanchonetes', 'André Fonseca'),\n",
       " ('Hanari Carnes', 'Mario Pontes'),\n",
       " ('Que Delícia', 'Bernardo Batista'),\n",
       " ('Queen Cozinha', 'Lúcia Carvalho'),\n",
       " ('Ricardo Adocicados', 'Janete Limeira'),\n",
       " ('Tradição Hipermercados', 'Anabela Domingues'),\n",
       " ('Wellington Importadora', 'Paula Parente')]"
      ]
     },
     "execution_count": 92,
     "metadata": {},
     "output_type": "execute_result"
    }
   ],
   "source": [
    "sql = \"\"\"\n",
    "    CREATE VIEW [Brazil Customers] AS\n",
    "    SELECT CustomerName, ContactName\n",
    "    FROM Customers\n",
    "    WHERE Country = 'Brazil';\n",
    "\"\"\"\n",
    "sendQuery(sql)\n",
    "sql = \"SELECT * FROM [Brazil Customers]\"\n",
    "sendQuery(sql)"
   ]
  },
  {
   "cell_type": "markdown",
   "id": "78fc3790",
   "metadata": {},
   "source": [
    "CREATE OR REPLACE 문으로 재구성 할 수 있다."
   ]
  },
  {
   "cell_type": "code",
   "execution_count": 96,
   "id": "1396b872",
   "metadata": {},
   "outputs": [
    {
     "name": "stdout",
     "output_type": "stream",
     "text": [
      "near \"OR\": syntax error\n"
     ]
    },
    {
     "data": {
      "text/plain": [
       "[('Comércio Mineiro', 'Pedro Afonso'),\n",
       " ('Familia Arquibaldo', 'Aria Cruz'),\n",
       " ('Gourmet Lanchonetes', 'André Fonseca'),\n",
       " ('Hanari Carnes', 'Mario Pontes'),\n",
       " ('Que Delícia', 'Bernardo Batista'),\n",
       " ('Queen Cozinha', 'Lúcia Carvalho'),\n",
       " ('Ricardo Adocicados', 'Janete Limeira'),\n",
       " ('Tradição Hipermercados', 'Anabela Domingues'),\n",
       " ('Wellington Importadora', 'Paula Parente')]"
      ]
     },
     "execution_count": 96,
     "metadata": {},
     "output_type": "execute_result"
    }
   ],
   "source": [
    "sql = \"\"\"\n",
    "    CREATE OR REPLACE VIEW [Brazil Customers] AS\n",
    "    SELECT CustomerName, ContactName, City\n",
    "    FROM Customers\n",
    "    WHERE Country = 'Brazil';\n",
    "\"\"\"\n",
    "sendQuery(sql)\n",
    "sql = \"SELECT * FROM [Brazil Customers]\"\n",
    "sendQuery(sql)"
   ]
  },
  {
   "cell_type": "markdown",
   "id": "9424787b",
   "metadata": {},
   "source": [
    "잘 안된다..."
   ]
  },
  {
   "cell_type": "code",
   "execution_count": 97,
   "id": "1fe9925d",
   "metadata": {},
   "outputs": [
    {
     "data": {
      "text/plain": [
       "[]"
      ]
     },
     "execution_count": 97,
     "metadata": {},
     "output_type": "execute_result"
    }
   ],
   "source": [
    "sql = \"DROP VIEW [Brazil Customers]\"\n",
    "sendQuery(sql)"
   ]
  },
  {
   "cell_type": "markdown",
   "id": "672c2cb0",
   "metadata": {},
   "source": [
    "# Injection\n",
    "\n",
    "인젝션은 해킹 기술이며 데이터 베이스를 파괴하거나 악성코드를 삽입할 수 있다.\n",
    "\n",
    "가장 쉬운 방법은 사용자 입력을 그대로 쿼리문으로 사용하는 것이다. 예를 들면 다음과 같다:"
   ]
  },
  {
   "cell_type": "code",
   "execution_count": 103,
   "id": "d71785d6",
   "metadata": {},
   "outputs": [
    {
     "name": "stdout",
     "output_type": "stream",
     "text": [
      "near \"OR\": syntax error\n"
     ]
    }
   ],
   "source": [
    "userId = input(\"press user id: \")\n",
    "sql = \"SELECT * FROM Customers WHERE CustomerName = \"+userId\n",
    "sendQuery(sql)"
   ]
  },
  {
   "cell_type": "markdown",
   "id": "f23b3bf5",
   "metadata": {},
   "source": [
    "사용자 입력에서 아무 문자열을 넣고 \"OR 1 = 1\"을 넣으면 테이블의 모든 정보를 볼 수 있다.\n",
    "\n",
    "\"\" OR 1 = 1\n",
    "\n",
    "을 입력해보자"
   ]
  },
  {
   "cell_type": "markdown",
   "id": "589d83fd",
   "metadata": {},
   "source": [
    "마찬가지로 다음의 쿼리문도 위험하다."
   ]
  },
  {
   "cell_type": "code",
   "execution_count": 105,
   "id": "2b823ecb",
   "metadata": {},
   "outputs": [
    {
     "data": {
      "text/plain": [
       "[(1,\n",
       "  'Alfreds Futterkiste',\n",
       "  'Maria Anders',\n",
       "  'Obere Str. 57',\n",
       "  'Berlin',\n",
       "  '12209',\n",
       "  'Germany'),\n",
       " (2,\n",
       "  'Ana Trujillo Emparedados y helados',\n",
       "  'Ana Trujillo',\n",
       "  'Avda. de la Constitución 2222',\n",
       "  'México D.F.',\n",
       "  '5021',\n",
       "  'Mexico'),\n",
       " (3,\n",
       "  'Antonio Moreno Taquería',\n",
       "  'Antonio Moreno',\n",
       "  'Mataderos 2312',\n",
       "  'México D.F.',\n",
       "  '5023',\n",
       "  'Mexico'),\n",
       " (4,\n",
       "  'Around the Horn',\n",
       "  'Thomas Hardy',\n",
       "  '120 Hanover Sq.',\n",
       "  'London',\n",
       "  'WA1 1DP',\n",
       "  'UK'),\n",
       " (5,\n",
       "  'Berglunds snabbköp',\n",
       "  'Christina Berglund',\n",
       "  'Berguvsvägen 8',\n",
       "  'Luleå',\n",
       "  'S-958 22',\n",
       "  'Sweden'),\n",
       " (6,\n",
       "  'Blauer See Delikatessen',\n",
       "  'Hanna Moos',\n",
       "  'Forsterstr. 57',\n",
       "  'Mannheim',\n",
       "  '68306',\n",
       "  'Germany'),\n",
       " (7,\n",
       "  'Blondel père et fils',\n",
       "  'Frédérique Citeaux',\n",
       "  '24, place Kléber',\n",
       "  'Strasbourg',\n",
       "  '67000',\n",
       "  'France'),\n",
       " (8,\n",
       "  'Bólido Comidas preparadas',\n",
       "  'Martín Sommer',\n",
       "  'C/ Araquil, 67',\n",
       "  'Madrid',\n",
       "  '28023',\n",
       "  'Spain'),\n",
       " (9,\n",
       "  \"Bon app''\",\n",
       "  'Laurence Lebihans',\n",
       "  '12, rue des Bouchers',\n",
       "  'Marseille',\n",
       "  '13008',\n",
       "  'France'),\n",
       " (10,\n",
       "  'Bottom-Dollar Marketse',\n",
       "  'Elizabeth Lincoln',\n",
       "  '23 Tsawassen Blvd.',\n",
       "  'Tsawassen',\n",
       "  'T2F 8M4',\n",
       "  'Canada'),\n",
       " (11,\n",
       "  \"B''s Beverages\",\n",
       "  'Victoria Ashworth',\n",
       "  'Fauntleroy Circus',\n",
       "  'London',\n",
       "  'EC2 5NT',\n",
       "  'UK'),\n",
       " (12,\n",
       "  'Cactus Comidas para llevar',\n",
       "  'Patricio Simpson',\n",
       "  'Cerrito 333',\n",
       "  'Buenos Aires',\n",
       "  '1010',\n",
       "  'Argentina'),\n",
       " (13,\n",
       "  'Centro comercial Moctezuma',\n",
       "  'Francisco Chang',\n",
       "  'Sierras de Granada 9993',\n",
       "  'México D.F.',\n",
       "  '5022',\n",
       "  'Mexico'),\n",
       " (14,\n",
       "  'Chop-suey Chinese',\n",
       "  'Yang Wang',\n",
       "  'Hauptstr. 29',\n",
       "  'Bern',\n",
       "  '3012',\n",
       "  'Switzerland'),\n",
       " (15,\n",
       "  'Comércio Mineiro',\n",
       "  'Pedro Afonso',\n",
       "  'Av. dos Lusíadas, 23',\n",
       "  'São Paulo',\n",
       "  '05432-043',\n",
       "  'Brazil'),\n",
       " (16,\n",
       "  'Consolidated Holdings',\n",
       "  'Elizabeth Brown',\n",
       "  'Berkeley Gardens 12 Brewery',\n",
       "  'London',\n",
       "  'WX1 6LT',\n",
       "  'UK'),\n",
       " (17,\n",
       "  'Drachenblut Delikatessend',\n",
       "  'Sven Ottlieb',\n",
       "  'Walserweg 21',\n",
       "  'Aachen',\n",
       "  '52066',\n",
       "  'Germany'),\n",
       " (18,\n",
       "  'Du monde entier',\n",
       "  'Janine Labrune',\n",
       "  '67, rue des Cinquante Otages',\n",
       "  'Nantes',\n",
       "  '44000',\n",
       "  'France'),\n",
       " (19,\n",
       "  'Eastern Connection',\n",
       "  'Ann Devon',\n",
       "  '35 King George',\n",
       "  'London',\n",
       "  'WX3 6FW',\n",
       "  'UK'),\n",
       " (20,\n",
       "  'Ernst Handel',\n",
       "  'Roland Mendel',\n",
       "  'Kirchgasse 6',\n",
       "  'Graz',\n",
       "  '8010',\n",
       "  'Austria'),\n",
       " (21,\n",
       "  'Familia Arquibaldo',\n",
       "  'Aria Cruz',\n",
       "  'Rua Orós, 92',\n",
       "  'São Paulo',\n",
       "  '05442-030',\n",
       "  'Brazil'),\n",
       " (22,\n",
       "  'FISSA Fabrica Inter. Salchichas S.A.',\n",
       "  'Diego Roel',\n",
       "  'C/ Moralzarzal, 86',\n",
       "  'Madrid',\n",
       "  '28034',\n",
       "  'Spain'),\n",
       " (23,\n",
       "  'Folies gourmandes',\n",
       "  'Martine Rancé',\n",
       "  '184, chaussée de Tournai',\n",
       "  'Lille',\n",
       "  '59000',\n",
       "  'France'),\n",
       " (24,\n",
       "  'Folk och fä HB',\n",
       "  'Maria Larsson',\n",
       "  'Åkergatan 24',\n",
       "  'Bräcke',\n",
       "  'S-844 67',\n",
       "  'Sweden'),\n",
       " (25,\n",
       "  'Frankenversand',\n",
       "  'Peter Franken',\n",
       "  'Berliner Platz 43',\n",
       "  'München',\n",
       "  '80805',\n",
       "  'Germany'),\n",
       " (26,\n",
       "  'France restauration',\n",
       "  'Carine Schmitt',\n",
       "  '54, rue Royale',\n",
       "  'Nantes',\n",
       "  '44000',\n",
       "  'France'),\n",
       " (27,\n",
       "  'Franchi S.p.A.',\n",
       "  'Paolo Accorti',\n",
       "  'Via Monte Bianco 34',\n",
       "  'Torino',\n",
       "  '10100',\n",
       "  'Italy'),\n",
       " (28,\n",
       "  'Furia Bacalhau e Frutos do Mar',\n",
       "  'Lino Rodriguez',\n",
       "  'Jardim das rosas n. 32',\n",
       "  'Lisboa',\n",
       "  '1675',\n",
       "  'Portugal'),\n",
       " (29,\n",
       "  'Galería del gastrónomo',\n",
       "  'Eduardo Saavedra',\n",
       "  'Rambla de Cataluña, 23',\n",
       "  'Barcelona',\n",
       "  '8022',\n",
       "  'Spain'),\n",
       " (30,\n",
       "  'Godos Cocina Típica',\n",
       "  'José Pedro Freyre',\n",
       "  'C/ Romero, 33',\n",
       "  'Sevilla',\n",
       "  '41101',\n",
       "  'Spain'),\n",
       " (31,\n",
       "  'Gourmet Lanchonetes',\n",
       "  'André Fonseca',\n",
       "  'Av. Brasil, 442',\n",
       "  'Campinas',\n",
       "  '04876-786',\n",
       "  'Brazil'),\n",
       " (32,\n",
       "  'Great Lakes Food Market',\n",
       "  'Howard Snyder',\n",
       "  '2732 Baker Blvd.',\n",
       "  'Eugene',\n",
       "  '97403',\n",
       "  'USA'),\n",
       " (33,\n",
       "  'GROSELLA-Restaurante',\n",
       "  'Manuel Pereira',\n",
       "  '5ª Ave. Los Palos Grandes',\n",
       "  'Caracas',\n",
       "  '1081',\n",
       "  'Venezuela'),\n",
       " (34,\n",
       "  'Hanari Carnes',\n",
       "  'Mario Pontes',\n",
       "  'Rua do Paço, 67',\n",
       "  'Rio de Janeiro',\n",
       "  '05454-876',\n",
       "  'Brazil'),\n",
       " (35,\n",
       "  'HILARIÓN-Abastos',\n",
       "  'Carlos Hernández',\n",
       "  'Carrera 22 con Ave. Carlos Soublette #8-35',\n",
       "  'San Cristóbal',\n",
       "  '5022',\n",
       "  'Venezuela'),\n",
       " (36,\n",
       "  'Hungry Coyote Import Store',\n",
       "  'Yoshi Latimer',\n",
       "  'City Center Plaza 516 Main St.',\n",
       "  'Elgin',\n",
       "  '97827',\n",
       "  'USA'),\n",
       " (37,\n",
       "  'Hungry Owl All-Night Grocers',\n",
       "  'Patricia McKenna',\n",
       "  '8 Johnstown Road',\n",
       "  'Cork',\n",
       "  '',\n",
       "  'Ireland'),\n",
       " (38,\n",
       "  'Island Trading',\n",
       "  'Helen Bennett',\n",
       "  'Garden House Crowther Way',\n",
       "  'Cowes',\n",
       "  'PO31 7PJ',\n",
       "  'UK'),\n",
       " (39,\n",
       "  'Königlich Essen',\n",
       "  'Philip Cramer',\n",
       "  'Maubelstr. 90',\n",
       "  'Brandenburg',\n",
       "  '14776',\n",
       "  'Germany'),\n",
       " (40,\n",
       "  \"La corne d''abondance\",\n",
       "  'Daniel Tonini',\n",
       "  \"67, avenue de l''Europe\",\n",
       "  'Versailles',\n",
       "  '78000',\n",
       "  'France'),\n",
       " (41,\n",
       "  \"La maison d''Asie\",\n",
       "  'Annette Roulet',\n",
       "  '1 rue Alsace-Lorraine',\n",
       "  'Toulouse',\n",
       "  '31000',\n",
       "  'France'),\n",
       " (42,\n",
       "  'Laughing Bacchus Wine Cellars',\n",
       "  'Yoshi Tannamuri',\n",
       "  '1900 Oak St.',\n",
       "  'Vancouver',\n",
       "  'V3F 2K1',\n",
       "  'Canada'),\n",
       " (43,\n",
       "  'Lazy K Kountry Store',\n",
       "  'John Steel',\n",
       "  '12 Orchestra Terrace',\n",
       "  'Walla Walla',\n",
       "  '99362',\n",
       "  'USA'),\n",
       " (44,\n",
       "  'Lehmanns Marktstand',\n",
       "  'Renate Messner',\n",
       "  'Magazinweg 7',\n",
       "  'Frankfurt a.M.',\n",
       "  '60528',\n",
       "  'Germany'),\n",
       " (45,\n",
       "  \"Let''s Stop N Shop\",\n",
       "  'Jaime Yorres',\n",
       "  '87 Polk St. Suite 5',\n",
       "  'San Francisco',\n",
       "  '94117',\n",
       "  'USA'),\n",
       " (46,\n",
       "  'LILA-Supermercado',\n",
       "  'Carlos González',\n",
       "  'Carrera 52 con Ave. Bolívar #65-98 Llano Largo',\n",
       "  'Barquisimeto',\n",
       "  '3508',\n",
       "  'Venezuela'),\n",
       " (47,\n",
       "  'LINO-Delicateses',\n",
       "  'Felipe Izquierdo',\n",
       "  'Ave. 5 de Mayo Porlamar',\n",
       "  'I. de Margarita',\n",
       "  '4980',\n",
       "  'Venezuela'),\n",
       " (48,\n",
       "  'Lonesome Pine Restaurant',\n",
       "  'Fran Wilson',\n",
       "  '89 Chiaroscuro Rd.',\n",
       "  'Portland',\n",
       "  '97219',\n",
       "  'USA'),\n",
       " (49,\n",
       "  'Magazzini Alimentari Riuniti',\n",
       "  'Giovanni Rovelli',\n",
       "  'Via Ludovico il Moro 22',\n",
       "  'Bergamo',\n",
       "  '24100',\n",
       "  'Italy'),\n",
       " (50,\n",
       "  'Maison Dewey',\n",
       "  'Catherine Dewey',\n",
       "  'Rue Joseph-Bens 532',\n",
       "  'Bruxelles',\n",
       "  'B-1180',\n",
       "  'Belgium'),\n",
       " (51,\n",
       "  'Mère Paillarde',\n",
       "  'Jean Fresnière',\n",
       "  '43 rue St. Laurent',\n",
       "  'Montréal',\n",
       "  'H1J 1C3',\n",
       "  'Canada'),\n",
       " (52,\n",
       "  'Morgenstern Gesundkost',\n",
       "  'Alexander Feuer',\n",
       "  'Heerstr. 22',\n",
       "  'Leipzig',\n",
       "  '4179',\n",
       "  'Germany'),\n",
       " (53,\n",
       "  'North/South',\n",
       "  'Simon Crowther',\n",
       "  'South House 300 Queensbridge',\n",
       "  'London',\n",
       "  'SW7 1RZ',\n",
       "  'UK'),\n",
       " (54,\n",
       "  'Océano Atlántico Ltda.',\n",
       "  'Yvonne Moncada',\n",
       "  'Ing. Gustavo Moncada 8585 Piso 20-A',\n",
       "  'Buenos Aires',\n",
       "  '1010',\n",
       "  'Argentina'),\n",
       " (55,\n",
       "  'Old World Delicatessen',\n",
       "  'Rene Phillips',\n",
       "  '2743 Bering St.',\n",
       "  'Anchorage',\n",
       "  '99508',\n",
       "  'USA'),\n",
       " (56,\n",
       "  'Ottilies Käseladen',\n",
       "  'Henriette Pfalzheim',\n",
       "  'Mehrheimerstr. 369',\n",
       "  'Köln',\n",
       "  '50739',\n",
       "  'Germany'),\n",
       " (57,\n",
       "  'Paris spécialités',\n",
       "  'Marie Bertrand',\n",
       "  '265, boulevard Charonne',\n",
       "  'Paris',\n",
       "  '75012',\n",
       "  'France'),\n",
       " (58,\n",
       "  'Pericles Comidas clásicas',\n",
       "  'Guillermo Fernández',\n",
       "  'Calle Dr. Jorge Cash 321',\n",
       "  'México D.F.',\n",
       "  '5033',\n",
       "  'Mexico'),\n",
       " (59,\n",
       "  'Piccolo und mehr',\n",
       "  'Georg Pipps',\n",
       "  'Geislweg 14',\n",
       "  'Salzburg',\n",
       "  '5020',\n",
       "  'Austria'),\n",
       " (60,\n",
       "  'Princesa Isabel Vinhoss',\n",
       "  'Isabel de Castro',\n",
       "  'Estrada da saúde n. 58',\n",
       "  'Lisboa',\n",
       "  '1756',\n",
       "  'Portugal'),\n",
       " (61,\n",
       "  'Que Delícia',\n",
       "  'Bernardo Batista',\n",
       "  'Rua da Panificadora, 12',\n",
       "  'Rio de Janeiro',\n",
       "  '02389-673',\n",
       "  'Brazil'),\n",
       " (62,\n",
       "  'Queen Cozinha',\n",
       "  'Lúcia Carvalho',\n",
       "  'Alameda dos Canàrios, 891',\n",
       "  'São Paulo',\n",
       "  '05487-020',\n",
       "  'Brazil'),\n",
       " (63,\n",
       "  'QUICK-Stop',\n",
       "  'Horst Kloss',\n",
       "  'Taucherstraße 10',\n",
       "  'Cunewalde',\n",
       "  '1307',\n",
       "  'Germany'),\n",
       " (64,\n",
       "  'Rancho grande',\n",
       "  'Sergio Gutiérrez',\n",
       "  'Av. del Libertador 900',\n",
       "  'Buenos Aires',\n",
       "  '1010',\n",
       "  'Argentina'),\n",
       " (65,\n",
       "  'Rattlesnake Canyon Grocery',\n",
       "  'Paula Wilson',\n",
       "  '2817 Milton Dr.',\n",
       "  'Albuquerque',\n",
       "  '87110',\n",
       "  'USA'),\n",
       " (66,\n",
       "  'Reggiani Caseifici',\n",
       "  'Maurizio Moroni',\n",
       "  'Strada Provinciale 124',\n",
       "  'Reggio Emilia',\n",
       "  '42100',\n",
       "  'Italy'),\n",
       " (67,\n",
       "  'Ricardo Adocicados',\n",
       "  'Janete Limeira',\n",
       "  'Av. Copacabana, 267',\n",
       "  'Rio de Janeiro',\n",
       "  '02389-890',\n",
       "  'Brazil'),\n",
       " (68,\n",
       "  'Richter Supermarkt',\n",
       "  'Michael Holz',\n",
       "  'Grenzacherweg 237',\n",
       "  'Genève',\n",
       "  '1203',\n",
       "  'Switzerland'),\n",
       " (69,\n",
       "  'Romero y tomillo',\n",
       "  'Alejandra Camino',\n",
       "  'Gran Vía, 1',\n",
       "  'Madrid',\n",
       "  '28001',\n",
       "  'Spain'),\n",
       " (70,\n",
       "  'Santé Gourmet',\n",
       "  'Jonas Bergulfsen',\n",
       "  'Erling Skakkes gate 78',\n",
       "  'Stavern',\n",
       "  '4110',\n",
       "  'Norway'),\n",
       " (71,\n",
       "  'Save-a-lot Markets',\n",
       "  'Jose Pavarotti',\n",
       "  '187 Suffolk Ln.',\n",
       "  'Boise',\n",
       "  '83720',\n",
       "  'USA'),\n",
       " (72,\n",
       "  'Seven Seas Imports',\n",
       "  'Hari Kumar',\n",
       "  '90 Wadhurst Rd.',\n",
       "  'London',\n",
       "  'OX15 4NB',\n",
       "  'UK'),\n",
       " (73,\n",
       "  'Simons bistro',\n",
       "  'Jytte Petersen',\n",
       "  'Vinbæltet 34',\n",
       "  'København',\n",
       "  '1734',\n",
       "  'Denmark'),\n",
       " (74,\n",
       "  'Spécialités du monde',\n",
       "  'Dominique Perrier',\n",
       "  '25, rue Lauriston',\n",
       "  'Paris',\n",
       "  '75016',\n",
       "  'France'),\n",
       " (75,\n",
       "  'Split Rail Beer & Ale',\n",
       "  'Art Braunschweiger',\n",
       "  'P.O. Box 555',\n",
       "  'Lander',\n",
       "  '82520',\n",
       "  'USA'),\n",
       " (76,\n",
       "  'Suprêmes délices',\n",
       "  'Pascale Cartrain',\n",
       "  'Boulevard Tirou, 255',\n",
       "  'Charleroi',\n",
       "  'B-6000',\n",
       "  'Belgium'),\n",
       " (77,\n",
       "  'The Big Cheese',\n",
       "  'Liz Nixon',\n",
       "  '89 Jefferson Way Suite 2',\n",
       "  'Portland',\n",
       "  '97201',\n",
       "  'USA'),\n",
       " (78,\n",
       "  'The Cracker Box',\n",
       "  'Liu Wong',\n",
       "  '55 Grizzly Peak Rd.',\n",
       "  'Butte',\n",
       "  '59801',\n",
       "  'USA'),\n",
       " (79,\n",
       "  'Toms Spezialitäten',\n",
       "  'Karin Josephs',\n",
       "  'Luisenstr. 48',\n",
       "  'Münster',\n",
       "  '44087',\n",
       "  'Germany'),\n",
       " (80,\n",
       "  'Tortuga Restaurante',\n",
       "  'Miguel Angel Paolino',\n",
       "  'Avda. Azteca 123',\n",
       "  'México D.F.',\n",
       "  '5033',\n",
       "  'Mexico'),\n",
       " (81,\n",
       "  'Tradição Hipermercados',\n",
       "  'Anabela Domingues',\n",
       "  'Av. Inês de Castro, 414',\n",
       "  'São Paulo',\n",
       "  '05634-030',\n",
       "  'Brazil'),\n",
       " (82,\n",
       "  \"Trail''s Head Gourmet Provisioners\",\n",
       "  'Helvetius Nagy',\n",
       "  '722 DaVinci Blvd.',\n",
       "  'Kirkland',\n",
       "  '98034',\n",
       "  'USA'),\n",
       " (83,\n",
       "  'Vaffeljernet',\n",
       "  'Palle Ibsen',\n",
       "  'Smagsløget 45',\n",
       "  'Århus',\n",
       "  '8200',\n",
       "  'Denmark'),\n",
       " (84,\n",
       "  'Victuailles en stock',\n",
       "  'Mary Saveley',\n",
       "  '2, rue du Commerce',\n",
       "  'Lyon',\n",
       "  '69004',\n",
       "  'France'),\n",
       " (85,\n",
       "  'Vins et alcools Chevalier',\n",
       "  'Paul Henriot',\n",
       "  \"59 rue de l''Abbaye\",\n",
       "  'Reims',\n",
       "  '51100',\n",
       "  'France'),\n",
       " (86,\n",
       "  'Die Wandernde Kuh',\n",
       "  'Rita Müller',\n",
       "  'Adenauerallee 900',\n",
       "  'Stuttgart',\n",
       "  '70563',\n",
       "  'Germany'),\n",
       " (87,\n",
       "  'Wartian Herkku',\n",
       "  'Pirkko Koskitalo',\n",
       "  'Torikatu 38',\n",
       "  'Oulu',\n",
       "  '90110',\n",
       "  'Finland'),\n",
       " (88,\n",
       "  'Wellington Importadora',\n",
       "  'Paula Parente',\n",
       "  'Rua do Mercado, 12',\n",
       "  'Resende',\n",
       "  '08737-363',\n",
       "  'Brazil'),\n",
       " (89,\n",
       "  'White Clover Markets',\n",
       "  'Karl Jablonski',\n",
       "  '305 - 14th Ave. S. Suite 3B',\n",
       "  'Seattle',\n",
       "  '98128',\n",
       "  'USA'),\n",
       " (90,\n",
       "  'Wilman Kala',\n",
       "  'Matti Karttunen',\n",
       "  'Keskuskatu 45',\n",
       "  'Helsinki',\n",
       "  '21240',\n",
       "  'Finland'),\n",
       " (91, 'Wolski', 'Zbyszek', 'ul. Filtrowa 68', 'Walla', '01-012', 'Poland')]"
      ]
     },
     "execution_count": 105,
     "metadata": {},
     "output_type": "execute_result"
    }
   ],
   "source": [
    "customerName = input(\"press user name: \")\n",
    "customerCity = input(\"press user living city: \")\n",
    "sql = 'SELECT * FROM Customers WHERE CustomerName =\"' + customerName + '\" AND City =\"' + customerCity + '\"'\n",
    "sendQuery(sql)"
   ]
  },
  {
   "cell_type": "markdown",
   "id": "be06decb",
   "metadata": {},
   "source": [
    "위의 예시문 역시도 모든 질문에 \" OR \"\" = \"을 대입하면 데이터 베이스의 모든 정보를 뽑아올 수 있다."
   ]
  },
  {
   "cell_type": "markdown",
   "id": "d0f73841",
   "metadata": {},
   "source": [
    "혹은 악의적으로 ;, 세미콜론을 붙여서 쿼리문을 마무리하고 원하는 쿼리문을 붙일수도 있다. 예를 들면 DROP TABLE ~~~. 내부 테이블 이름을 알아야만 가능한 방법이지만 가능성은 열려있다."
   ]
  },
  {
   "cell_type": "markdown",
   "id": "7954234b",
   "metadata": {},
   "source": [
    "따라서 보호를 위한 매개변수를 이용해야 한다. 여러가지 방법이 있지만 맨 위의 sendQueryWithData함수가 예시가 될 수 있다. 다시 가져와 보겠다."
   ]
  },
  {
   "cell_type": "code",
   "execution_count": null,
   "id": "c59218ea",
   "metadata": {},
   "outputs": [],
   "source": [
    "def sendQueryWithData(sql, data):\n",
    "    try:\n",
    "        with sqlite3.connect(database) as conn:\n",
    "            cursor = conn.cursor()\n",
    "            for date in data:\n",
    "                cursor.execute(sql, date)\n",
    "            conn.commit()\n",
    "        \n",
    "        return cursor.fetchall()\n",
    "        \n",
    "    except sqlite3.Error as e:\n",
    "        print(e)\n",
    "\n",
    "sql = \"\"\"INSERT INTO TestTable(LastName, FirstName, Age)\n",
    "         VALUES (?,?,?)\"\"\"\n",
    "data = [[\"kim\",\"babo\", 26], [\"Lee\",\"Jeongsang\", 67], [\"Park\", \"Daegi\", 40]]\n",
    "sendQueryWithData(sql, data)"
   ]
  },
  {
   "cell_type": "markdown",
   "id": "9802aa86",
   "metadata": {},
   "source": [
    "위와 같이 쿼리문을 ?로 뚫어놓고 데이터를 주면 알아서 채워주는 형태이다. 이런 식으로 하면 문자열로 처리해서 sql injection에서 보다 안전할 수 있다."
   ]
  }
 ],
 "metadata": {
  "kernelspec": {
   "display_name": "base",
   "language": "python",
   "name": "python3"
  },
  "language_info": {
   "codemirror_mode": {
    "name": "ipython",
    "version": 3
   },
   "file_extension": ".py",
   "mimetype": "text/x-python",
   "name": "python",
   "nbconvert_exporter": "python",
   "pygments_lexer": "ipython3",
   "version": "3.12.7"
  }
 },
 "nbformat": 4,
 "nbformat_minor": 5
}
