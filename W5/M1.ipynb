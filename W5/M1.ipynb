{
 "cells": [
  {
   "cell_type": "code",
   "execution_count": 33,
   "id": "0ff1d45f-db7c-4a30-bfe2-680aca96985d",
   "metadata": {},
   "outputs": [
    {
     "name": "stderr",
     "output_type": "stream",
     "text": [
      "25/02/05 11:58:59 WARN Client: Neither spark.yarn.jars nor spark.yarn.archive is set, falling back to uploading libraries under SPARK_HOME.\n"
     ]
    },
    {
     "data": {
      "text/html": [
       "\n",
       "            <div>\n",
       "                <p><b>SparkSession - in-memory</b></p>\n",
       "                \n",
       "        <div>\n",
       "            <p><b>SparkContext</b></p>\n",
       "\n",
       "            <p><a href=\"http://master:4040\">Spark UI</a></p>\n",
       "\n",
       "            <dl>\n",
       "              <dt>Version</dt>\n",
       "                <dd><code>v3.5.4</code></dd>\n",
       "              <dt>Master</dt>\n",
       "                <dd><code>yarn</code></dd>\n",
       "              <dt>AppName</dt>\n",
       "                <dd><code>PySparkShell</code></dd>\n",
       "            </dl>\n",
       "        </div>\n",
       "        \n",
       "            </div>\n",
       "        "
      ],
      "text/plain": [
       "<pyspark.sql.session.SparkSession at 0xffff85c117f0>"
      ]
     },
     "execution_count": 33,
     "metadata": {},
     "output_type": "execute_result"
    }
   ],
   "source": [
    "from pyspark.sql import SparkSession\n",
    "from datetime import datetime\n",
    "\n",
    "if spark is not None:\n",
    "    spark.stop()\n",
    "spark = SparkSession \\\n",
    "        .builder \\\n",
    "        .getOrCreate()\n",
    "spark\n"
   ]
  },
  {
   "cell_type": "markdown",
   "id": "25974528-0be9-4d35-ae24-54424f5dcd43",
   "metadata": {},
   "source": [
    "# W5M1\n",
    "우선 hdfs에 파일을 업로드 합니다."
   ]
  },
  {
   "cell_type": "code",
   "execution_count": 17,
   "id": "b3cb098b-928e-4d51-be3f-1f06348bfaf4",
   "metadata": {
    "scrolled": true
   },
   "outputs": [
    {
     "name": "stdout",
     "output_type": "stream",
     "text": [
      "/usr\n",
      "--2025-02-04 16:03:56--  https://d37ci6vzurychx.cloudfront.net/trip-data/yellow_tripdata_2024-03.parquet\n",
      "Resolving d37ci6vzurychx.cloudfront.net (d37ci6vzurychx.cloudfront.net)... 108.138.245.16, 108.138.245.225, 108.138.245.96, ...\n",
      "connected. to d37ci6vzurychx.cloudfront.net (d37ci6vzurychx.cloudfront.net)|108.138.245.16|:443... \n",
      "HTTP request sent, awaiting response... 200 OK\n",
      "Length: 60078280 (57M) [binary/octet-stream]\n",
      "Saving to: ‘yellow_tripdata_2024-03.parquet’\n",
      "\n",
      "yellow_tripdata_202 100%[===================>]  57.29M  11.0MB/s    in 6.0s    \n",
      "\n",
      "2025-02-04 16:04:02 (9.62 MB/s) - ‘yellow_tripdata_2024-03.parquet’ saved [60078280/60078280]\n",
      "\n",
      "Picked up _JAVA_OPTIONS: -Xms512m -Xmx8g\n",
      "2025-02-04 16:04:03,357 WARN util.NativeCodeLoader: Unable to load native-hadoop library for your platform... using builtin-java classes where applicable\n",
      "mkdir: `/yellow_texi': File exists\n",
      "Picked up _JAVA_OPTIONS: -Xms512m -Xmx8g\n",
      "2025-02-04 16:04:04,319 WARN util.NativeCodeLoader: Unable to load native-hadoop library for your platform... using builtin-java classes where applicable\n"
     ]
    }
   ],
   "source": [
    "!pwd\n",
    "!wget https://d37ci6vzurychx.cloudfront.net/trip-data/yellow_tripdata_2024-03.parquet\n",
    "!hdfs dfs -mkdir /yellow_texi\n",
    "!hdfs dfs -put ./yellow_tripdata_2024-03.parquet /yellow_texi/2024-03.parquet\n",
    "!rm ./yellow_tripdata_2024-03.parquet"
   ]
  },
  {
   "cell_type": "code",
   "execution_count": 34,
   "id": "5c15321e-8ba2-46bb-a5ff-95b5aa4c7d06",
   "metadata": {},
   "outputs": [
    {
     "name": "stderr",
     "output_type": "stream",
     "text": [
      "                                                                                "
     ]
    },
    {
     "data": {
      "text/plain": [
       "[('VendorID', 'int'),\n",
       " ('tpep_pickup_datetime', 'timestamp_ntz'),\n",
       " ('tpep_dropoff_datetime', 'timestamp_ntz'),\n",
       " ('passenger_count', 'bigint'),\n",
       " ('trip_distance', 'double'),\n",
       " ('RatecodeID', 'bigint'),\n",
       " ('store_and_fwd_flag', 'string'),\n",
       " ('PULocationID', 'int'),\n",
       " ('DOLocationID', 'int'),\n",
       " ('payment_type', 'bigint'),\n",
       " ('fare_amount', 'double'),\n",
       " ('extra', 'double'),\n",
       " ('mta_tax', 'double'),\n",
       " ('tip_amount', 'double'),\n",
       " ('tolls_amount', 'double'),\n",
       " ('improvement_surcharge', 'double'),\n",
       " ('total_amount', 'double'),\n",
       " ('congestion_surcharge', 'double'),\n",
       " ('Airport_fee', 'double')]"
      ]
     },
     "execution_count": 34,
     "metadata": {},
     "output_type": "execute_result"
    }
   ],
   "source": [
    "df = spark.read.parquet(\"hdfs://master:9000/yellow_texi/2024-03.parquet\")\n",
    "rdd = df.rdd\n",
    "df.columns\n",
    "df.dtypes"
   ]
  },
  {
   "cell_type": "markdown",
   "id": "7390791d-8cc8-421a-920a-4c288677b42c",
   "metadata": {},
   "source": [
    "## Data Cleaning\n",
    "다음으로는 결측치가 있는 행을 제거합니다."
   ]
  },
  {
   "cell_type": "code",
   "execution_count": 35,
   "id": "20c49cfc-c38a-4d7f-a454-caaf13decde0",
   "metadata": {},
   "outputs": [],
   "source": [
    "rdd_no_null = rdd.filter(lambda row: all(value is not None for value in row))"
   ]
  },
  {
   "cell_type": "markdown",
   "id": "2184bffc-2c92-4d16-876a-abee76cffd75",
   "metadata": {},
   "source": [
    "## Transformation Logic\n",
    "다음으로는 Transformation을 수행합니다.\n",
    "* 이동하는데 0원이나 음수인 금액을 지불한 행은 제거\n",
    "* MAP & Reduce: 총 수익과 총 여행횟수를 계산\n",
    "* 날짜별로 그룹화 하여 일일 지표를 계산\n",
    "\n",
    "우선 날짜별로 groupby를 한 뒤, 일일 지표를 계산하고, 일일지표를 다시 모아 reduce해서 총 수익과 총 여행횟수를 계산한다.\n"
   ]
  },
  {
   "cell_type": "code",
   "execution_count": 36,
   "id": "7d4f7b26-f1bd-4c42-b61e-52eedb774d78",
   "metadata": {},
   "outputs": [
    {
     "name": "stderr",
     "output_type": "stream",
     "text": [
      "                                                                                "
     ]
    }
   ],
   "source": [
    "# 금액이 0원 이하인 행을 필터링\n",
    "rdd_filtered = rdd_no_null.filter(lambda row: row['total_amount'] > 0)\n",
    "\n",
    "# (날짜, 원하는 데이터) 형식으로 변환\n",
    "count_mapped = rdd_filtered.map(lambda row: (row['tpep_dropoff_datetime'].date(), 1))\n",
    "revenue_mapped = rdd_filtered.map(lambda row: (row['tpep_dropoff_datetime'].date(), row['total_amount']))\n",
    "distance_mapped = rdd_filtered.map(lambda row: (row['tpep_dropoff_datetime'].date(), row['trip_distance']))\n",
    "\n",
    "# get daily trip count and total amount\n",
    "daily_count = count_mapped.reduceByKey(lambda x, y: x + y).sortByKey()\n",
    "daily_revenue = revenue_mapped.reduceByKey(lambda x, y: x + y).sortByKey()\n",
    "\n",
    "\n",
    "\n"
   ]
  },
  {
   "cell_type": "markdown",
   "id": "00eb1679-26d3-4f95-8367-0f5dcd365940",
   "metadata": {},
   "source": [
    "## Aggregation Logic\n",
    "다음을 계산하고 출력합니다:\n",
    "* 총 운송 수\n",
    "* 운송으로 인한 이익 총합\n",
    "* 평균 운행 거리\n",
    "* 일간 평균 운송 수\n",
    "* 일간 평균 이익"
   ]
  },
  {
   "cell_type": "code",
   "execution_count": 37,
   "id": "040cdbb7-a280-4f4b-9983-b48e60e8f8b3",
   "metadata": {},
   "outputs": [
    {
     "name": "stderr",
     "output_type": "stream",
     "text": [
      "                                                                                "
     ]
    },
    {
     "name": "stdout",
     "output_type": "stream",
     "text": [
      "total number of trips:  3111733\n",
      "total revenue generated from the trips:  88379924.18011408\n",
      "average trip distance 3.5320004190589693\n",
      "\n",
      "trips per day, average: 103724.43333333333\n",
      "2002-12-31 : 1\n",
      "2003-01-01 : 1\n",
      "2024-02-29 : 3\n",
      "2024-03-01 : 105907\n",
      "2024-03-02 : 104370\n",
      "2024-03-03 : 87344\n",
      "2024-03-04 : 88873\n",
      "2024-03-05 : 103073\n",
      "2024-03-06 : 111461\n",
      "2024-03-07 : 109783\n",
      "2024-03-08 : 106869\n",
      "2024-03-09 : 111700\n",
      "2024-03-10 : 88513\n",
      "2024-03-11 : 90463\n",
      "2024-03-12 : 101398\n",
      "2024-03-13 : 108226\n",
      "2024-03-14 : 117946\n",
      "2024-03-15 : 111582\n",
      "2024-03-16 : 109949\n",
      "2024-03-17 : 88955\n",
      "2024-03-18 : 87868\n",
      "2024-03-19 : 101086\n",
      "2024-03-20 : 106045\n",
      "2024-03-21 : 112693\n",
      "2024-03-22 : 101946\n",
      "2024-03-23 : 97287\n",
      "2024-03-24 : 85914\n",
      "2024-03-25 : 85013\n",
      "2024-03-26 : 99088\n",
      "2024-03-27 : 105486\n",
      "2024-03-28 : 106968\n",
      "2024-03-29 : 99464\n",
      "2024-03-30 : 94313\n",
      "2024-03-31 : 81546\n",
      "2024-04-01 : 597\n",
      "2024-04-02 : 2\n",
      "\n",
      "total revenue per day, average: 2945997.472670469\n",
      "2002-12-31 : 18.0\n",
      "2003-01-01 : 25.15\n",
      "2024-02-29 : 60.91\n",
      "2024-03-01 : 2917914.009999908\n",
      "2024-03-02 : 2673720.9999999534\n",
      "2024-03-03 : 2532306.649999871\n",
      "2024-03-04 : 2575319.1599999117\n",
      "2024-03-05 : 2859046.4599999627\n",
      "2024-03-06 : 3066272.459999868\n",
      "2024-03-07 : 3119038.999999833\n",
      "2024-03-08 : 2999395.089999888\n",
      "2024-03-09 : 2816633.47999989\n",
      "2024-03-10 : 2555421.819999891\n",
      "2024-03-11 : 2648121.1799999177\n",
      "2024-03-12 : 2945785.4999999013\n",
      "2024-03-13 : 3109478.8799998136\n",
      "2024-03-14 : 3425958.4799998\n",
      "2024-03-15 : 3183665.8099997565\n",
      "2024-03-16 : 2956987.8199998355\n",
      "2024-03-17 : 2704577.469999785\n",
      "2024-03-18 : 2665906.7299998384\n",
      "2024-03-19 : 2883878.8499998515\n",
      "2024-03-20 : 3029549.979999865\n",
      "2024-03-21 : 3246140.089999946\n",
      "2024-03-22 : 2923390.609999836\n",
      "2024-03-23 : 2558823.8999999026\n",
      "2024-03-24 : 2577273.4699998656\n",
      "2024-03-25 : 2571055.5999998753\n",
      "2024-03-26 : 2849933.989999838\n",
      "2024-03-27 : 3041370.4999998654\n",
      "2024-03-28 : 3196816.149999793\n",
      "2024-03-29 : 2826789.329999834\n",
      "2024-03-30 : 2501489.0299998727\n",
      "2024-03-31 : 2383842.0399998985\n",
      "2024-04-01 : 33837.07999999999\n",
      "2024-04-02 : 78.5\n"
     ]
    }
   ],
   "source": [
    "_, trip_count = count_mapped.reduce(lambda x, y: (0, x[1] + y[1]))\n",
    "_, total_amount = revenue_mapped.reduce(lambda x, y: (0, x[1] + y[1]))\n",
    "_, total_trip_dist = distance_mapped.reduce(lambda x, y: (0, x[1] + y[1]))\n",
    "avg_trip_dist = total_trip_dist / trip_count\n",
    "daily_count_list = daily_count.collect()\n",
    "daily_revenue_list = daily_revenue.collect()\n",
    "\n",
    "print(\"total number of trips: \", trip_count)\n",
    "print(\"total revenue generated from the trips: \", total_amount)\n",
    "print(\"average trip distance\", avg_trip_dist)\n",
    "\n",
    "print(\"\\ntrips per day, average:\", trip_count / 30)\n",
    "for row in daily_count_list:\n",
    "    print(row[0], \":\", row[1])\n",
    "\n",
    "print(\"\\ntotal revenue per day, average:\", total_amount / 30)\n",
    "for row in daily_revenue_list:\n",
    "    print(row[0], \":\", row[1])\n",
    "\n",
    "\n"
   ]
  },
  {
   "cell_type": "code",
   "execution_count": null,
   "id": "abf61906-c4a2-46cf-a945-61af4d766cab",
   "metadata": {},
   "outputs": [],
   "source": []
  }
 ],
 "metadata": {
  "kernelspec": {
   "display_name": "Python 3 (ipykernel)",
   "language": "python",
   "name": "python3"
  },
  "language_info": {
   "codemirror_mode": {
    "name": "ipython",
    "version": 3
   },
   "file_extension": ".py",
   "mimetype": "text/x-python",
   "name": "python",
   "nbconvert_exporter": "python",
   "pygments_lexer": "ipython3",
   "version": "3.8.10"
  }
 },
 "nbformat": 4,
 "nbformat_minor": 5
}
