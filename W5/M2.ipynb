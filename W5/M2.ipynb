{
 "cells": [
  {
   "cell_type": "code",
   "execution_count": 3,
   "id": "f6edfec6-b30e-4e43-a3ae-46152953f1eb",
   "metadata": {},
   "outputs": [
    {
     "name": "stderr",
     "output_type": "stream",
     "text": [
      "25/02/10 13:30:12 WARN SparkContext: Another SparkContext is being constructed (or threw an exception in its constructor). This may indicate an error, since only one SparkContext should be running in this JVM (see SPARK-2243). The other SparkContext was created at:\n",
      "org.apache.spark.api.java.JavaSparkContext.<init>(JavaSparkContext.scala:58)\n",
      "sun.reflect.NativeConstructorAccessorImpl.newInstance0(Native Method)\n",
      "sun.reflect.NativeConstructorAccessorImpl.newInstance(NativeConstructorAccessorImpl.java:62)\n",
      "sun.reflect.DelegatingConstructorAccessorImpl.newInstance(DelegatingConstructorAccessorImpl.java:45)\n",
      "java.lang.reflect.Constructor.newInstance(Constructor.java:423)\n",
      "py4j.reflection.MethodInvoker.invoke(MethodInvoker.java:247)\n",
      "py4j.reflection.ReflectionEngine.invoke(ReflectionEngine.java:374)\n",
      "py4j.Gateway.invoke(Gateway.java:238)\n",
      "py4j.commands.ConstructorCommand.invokeConstructor(ConstructorCommand.java:80)\n",
      "py4j.commands.ConstructorCommand.execute(ConstructorCommand.java:69)\n",
      "py4j.ClientServerConnection.waitForCommands(ClientServerConnection.java:182)\n",
      "py4j.ClientServerConnection.run(ClientServerConnection.java:106)\n",
      "java.lang.Thread.run(Thread.java:750)\n",
      "25/02/10 13:30:12 WARN Client: Neither spark.yarn.jars nor spark.yarn.archive is set, falling back to uploading libraries under SPARK_HOME.\n"
     ]
    },
    {
     "data": {
      "text/html": [
       "\n",
       "            <div>\n",
       "                <p><b>SparkSession - in-memory</b></p>\n",
       "                \n",
       "        <div>\n",
       "            <p><b>SparkContext</b></p>\n",
       "\n",
       "            <p><a href=\"http://master:4040\">Spark UI</a></p>\n",
       "\n",
       "            <dl>\n",
       "              <dt>Version</dt>\n",
       "                <dd><code>v3.5.4</code></dd>\n",
       "              <dt>Master</dt>\n",
       "                <dd><code>yarn</code></dd>\n",
       "              <dt>AppName</dt>\n",
       "                <dd><code>PySparkShell</code></dd>\n",
       "            </dl>\n",
       "        </div>\n",
       "        \n",
       "            </div>\n",
       "        "
      ],
      "text/plain": [
       "<pyspark.sql.session.SparkSession at 0xffffa09ca790>"
      ]
     },
     "execution_count": 3,
     "metadata": {},
     "output_type": "execute_result"
    }
   ],
   "source": [
    "from pyspark.sql import SparkSession\n",
    "from datetime import datetime\n",
    "\n",
    "spark = SparkSession \\\n",
    "        .builder \\\n",
    "        .getOrCreate()\n",
    "spark"
   ]
  },
  {
   "cell_type": "markdown",
   "id": "5cb80e9c-cff5-4083-ba22-f2844934f7e0",
   "metadata": {},
   "source": [
    "# W5 M2\n",
    "hdfs에 파일을 업로드 합니다."
   ]
  },
  {
   "cell_type": "code",
   "execution_count": 4,
   "id": "2b75401c-ee12-4862-a14c-d00d6beecc3e",
   "metadata": {},
   "outputs": [
    {
     "name": "stdout",
     "output_type": "stream",
     "text": [
      "/usr\n",
      "--2025-02-05 12:24:28--  https://d37ci6vzurychx.cloudfront.net/trip-data/yellow_tripdata_2024-03.parquet\n",
      "Resolving d37ci6vzurychx.cloudfront.net (d37ci6vzurychx.cloudfront.net)... 108.138.245.225, 108.138.245.96, 108.138.245.16, ...\n",
      "connected. to d37ci6vzurychx.cloudfront.net (d37ci6vzurychx.cloudfront.net)|108.138.245.225|:443... \n",
      "HTTP request sent, awaiting response... 200 OK\n",
      "Length: 60078280 (57M) [binary/octet-stream]\n",
      "Saving to: ‘yellow_tripdata_2024-03.parquet’\n",
      "\n",
      "yellow_tripdata_202 100%[===================>]  57.29M  12.4MB/s    in 5.2s    \n",
      "\n",
      "2025-02-05 12:24:34 (11.1 MB/s) - ‘yellow_tripdata_2024-03.parquet’ saved [60078280/60078280]\n",
      "\n",
      "Picked up _JAVA_OPTIONS: -Xms512m -Xmx8g\n",
      "2025-02-05 12:24:35,185 WARN util.NativeCodeLoader: Unable to load native-hadoop library for your platform... using builtin-java classes where applicable\n",
      "mkdir: `/yellow_texi': File exists\n",
      "Picked up _JAVA_OPTIONS: -Xms512m -Xmx8g\n",
      "2025-02-05 12:24:36,158 WARN util.NativeCodeLoader: Unable to load native-hadoop library for your platform... using builtin-java classes where applicable\n",
      "put: `/yellow_texi/2024-03.parquet': File exists\n"
     ]
    }
   ],
   "source": [
    "!pwd\n",
    "!wget https://d37ci6vzurychx.cloudfront.net/trip-data/yellow_tripdata_2024-03.parquet\n",
    "!hdfs dfs -mkdir /yellow_texi\n",
    "!hdfs dfs -put ./yellow_tripdata_2024-03.parquet /yellow_texi/2024-03.parquet\n",
    "!rm ./yellow_tripdata_2024-03.parquet"
   ]
  },
  {
   "cell_type": "code",
   "execution_count": 4,
   "id": "b4d14e65-cc5b-466e-a827-a30d890db5af",
   "metadata": {},
   "outputs": [
    {
     "name": "stderr",
     "output_type": "stream",
     "text": [
      "                                                                                "
     ]
    },
    {
     "data": {
      "text/plain": [
       "[('VendorID', 'int'),\n",
       " ('tpep_pickup_datetime', 'timestamp_ntz'),\n",
       " ('tpep_dropoff_datetime', 'timestamp_ntz'),\n",
       " ('passenger_count', 'bigint'),\n",
       " ('trip_distance', 'double'),\n",
       " ('RatecodeID', 'bigint'),\n",
       " ('store_and_fwd_flag', 'string'),\n",
       " ('PULocationID', 'int'),\n",
       " ('DOLocationID', 'int'),\n",
       " ('payment_type', 'bigint'),\n",
       " ('fare_amount', 'double'),\n",
       " ('extra', 'double'),\n",
       " ('mta_tax', 'double'),\n",
       " ('tip_amount', 'double'),\n",
       " ('tolls_amount', 'double'),\n",
       " ('improvement_surcharge', 'double'),\n",
       " ('total_amount', 'double'),\n",
       " ('congestion_surcharge', 'double'),\n",
       " ('Airport_fee', 'double')]"
      ]
     },
     "execution_count": 4,
     "metadata": {},
     "output_type": "execute_result"
    }
   ],
   "source": [
    "df = spark.read.parquet(\"hdfs://master:9000/yellow_texi/2024-03.parquet\")\n",
    "df.columns\n",
    "df.dtypes"
   ]
  },
  {
   "cell_type": "markdown",
   "id": "597df7f8-1184-4853-ac67-2303933508ad",
   "metadata": {},
   "source": [
    "## Data Cleaning\n",
    "다음으로는 결측치가 있는 행을 제거합니다."
   ]
  },
  {
   "cell_type": "code",
   "execution_count": 5,
   "id": "38d636ca-858e-474a-845e-bdbe8f917ddb",
   "metadata": {},
   "outputs": [],
   "source": [
    "df = df.dropna(how='any')"
   ]
  },
  {
   "cell_type": "code",
   "execution_count": 6,
   "id": "66e95074-abff-407b-93bb-5227dc6faf0f",
   "metadata": {},
   "outputs": [
    {
     "name": "stderr",
     "output_type": "stream",
     "text": [
      "                                                                                "
     ]
    },
    {
     "data": {
      "text/plain": [
       "[Row(VendorID=1, tpep_pickup_datetime=datetime.datetime(2024, 3, 1, 0, 18, 51), tpep_dropoff_datetime=datetime.datetime(2024, 3, 1, 0, 23, 45), passenger_count=0, trip_distance=1.3, RatecodeID=1, store_and_fwd_flag='N', PULocationID=142, DOLocationID=239, payment_type=1, fare_amount=8.6, extra=3.5, mta_tax=0.5, tip_amount=2.7, tolls_amount=0.0, improvement_surcharge=1.0, total_amount=16.3, congestion_surcharge=2.5, Airport_fee=0.0),\n",
       " Row(VendorID=1, tpep_pickup_datetime=datetime.datetime(2024, 3, 1, 0, 26), tpep_dropoff_datetime=datetime.datetime(2024, 3, 1, 0, 29, 6), passenger_count=0, trip_distance=1.1, RatecodeID=1, store_and_fwd_flag='N', PULocationID=238, DOLocationID=24, payment_type=1, fare_amount=7.2, extra=3.5, mta_tax=0.5, tip_amount=3.0, tolls_amount=0.0, improvement_surcharge=1.0, total_amount=15.2, congestion_surcharge=2.5, Airport_fee=0.0),\n",
       " Row(VendorID=2, tpep_pickup_datetime=datetime.datetime(2024, 3, 1, 0, 9, 22), tpep_dropoff_datetime=datetime.datetime(2024, 3, 1, 0, 15, 24), passenger_count=1, trip_distance=0.86, RatecodeID=1, store_and_fwd_flag='N', PULocationID=263, DOLocationID=75, payment_type=2, fare_amount=7.9, extra=1.0, mta_tax=0.5, tip_amount=0.0, tolls_amount=0.0, improvement_surcharge=1.0, total_amount=10.4, congestion_surcharge=0.0, Airport_fee=0.0),\n",
       " Row(VendorID=2, tpep_pickup_datetime=datetime.datetime(2024, 3, 1, 0, 33, 45), tpep_dropoff_datetime=datetime.datetime(2024, 3, 1, 0, 39, 34), passenger_count=1, trip_distance=0.82, RatecodeID=1, store_and_fwd_flag='N', PULocationID=164, DOLocationID=162, payment_type=1, fare_amount=7.9, extra=1.0, mta_tax=0.5, tip_amount=1.29, tolls_amount=0.0, improvement_surcharge=1.0, total_amount=14.19, congestion_surcharge=2.5, Airport_fee=0.0),\n",
       " Row(VendorID=1, tpep_pickup_datetime=datetime.datetime(2024, 3, 1, 0, 5, 43), tpep_dropoff_datetime=datetime.datetime(2024, 3, 1, 0, 26, 22), passenger_count=0, trip_distance=4.9, RatecodeID=1, store_and_fwd_flag='N', PULocationID=263, DOLocationID=7, payment_type=2, fare_amount=25.4, extra=3.5, mta_tax=0.5, tip_amount=0.0, tolls_amount=0.0, improvement_surcharge=1.0, total_amount=30.4, congestion_surcharge=2.5, Airport_fee=0.0),\n",
       " Row(VendorID=2, tpep_pickup_datetime=datetime.datetime(2024, 3, 1, 0, 50, 42), tpep_dropoff_datetime=datetime.datetime(2024, 3, 1, 1, 10, 40), passenger_count=1, trip_distance=5.04, RatecodeID=1, store_and_fwd_flag='N', PULocationID=238, DOLocationID=159, payment_type=2, fare_amount=25.4, extra=1.0, mta_tax=0.5, tip_amount=0.0, tolls_amount=0.0, improvement_surcharge=1.0, total_amount=27.9, congestion_surcharge=0.0, Airport_fee=0.0),\n",
       " Row(VendorID=2, tpep_pickup_datetime=datetime.datetime(2024, 3, 1, 0, 8, 23), tpep_dropoff_datetime=datetime.datetime(2024, 3, 1, 0, 17, 53), passenger_count=1, trip_distance=2.15, RatecodeID=1, store_and_fwd_flag='N', PULocationID=161, DOLocationID=141, payment_type=1, fare_amount=12.1, extra=1.0, mta_tax=0.5, tip_amount=5.13, tolls_amount=0.0, improvement_surcharge=1.0, total_amount=22.23, congestion_surcharge=2.5, Airport_fee=0.0),\n",
       " Row(VendorID=2, tpep_pickup_datetime=datetime.datetime(2024, 3, 1, 0, 24, 58), tpep_dropoff_datetime=datetime.datetime(2024, 3, 1, 0, 30, 31), passenger_count=1, trip_distance=1.1, RatecodeID=1, store_and_fwd_flag='N', PULocationID=236, DOLocationID=237, payment_type=1, fare_amount=8.6, extra=1.0, mta_tax=0.5, tip_amount=2.04, tolls_amount=0.0, improvement_surcharge=1.0, total_amount=15.64, congestion_surcharge=2.5, Airport_fee=0.0),\n",
       " Row(VendorID=2, tpep_pickup_datetime=datetime.datetime(2024, 3, 1, 0, 49, 40), tpep_dropoff_datetime=datetime.datetime(2024, 3, 1, 1, 1, 25), passenger_count=1, trip_distance=2.78, RatecodeID=1, store_and_fwd_flag='N', PULocationID=161, DOLocationID=114, payment_type=1, fare_amount=14.9, extra=1.0, mta_tax=0.5, tip_amount=2.0, tolls_amount=0.0, improvement_surcharge=1.0, total_amount=21.9, congestion_surcharge=2.5, Airport_fee=0.0),\n",
       " Row(VendorID=1, tpep_pickup_datetime=datetime.datetime(2024, 3, 1, 0, 21, 43), tpep_dropoff_datetime=datetime.datetime(2024, 3, 1, 0, 24, 44), passenger_count=1, trip_distance=0.3, RatecodeID=1, store_and_fwd_flag='N', PULocationID=237, DOLocationID=141, payment_type=2, fare_amount=5.1, extra=3.5, mta_tax=0.5, tip_amount=0.0, tolls_amount=0.0, improvement_surcharge=1.0, total_amount=10.1, congestion_surcharge=2.5, Airport_fee=0.0),\n",
       " Row(VendorID=1, tpep_pickup_datetime=datetime.datetime(2024, 3, 1, 0, 39, 16), tpep_dropoff_datetime=datetime.datetime(2024, 3, 1, 0, 48, 12), passenger_count=1, trip_distance=1.2, RatecodeID=1, store_and_fwd_flag='N', PULocationID=164, DOLocationID=246, payment_type=1, fare_amount=10.0, extra=3.5, mta_tax=0.5, tip_amount=2.0, tolls_amount=0.0, improvement_surcharge=1.0, total_amount=17.0, congestion_surcharge=2.5, Airport_fee=0.0),\n",
       " Row(VendorID=2, tpep_pickup_datetime=datetime.datetime(2024, 3, 1, 0, 42, 29), tpep_dropoff_datetime=datetime.datetime(2024, 3, 1, 0, 57, 36), passenger_count=1, trip_distance=3.22, RatecodeID=1, store_and_fwd_flag='N', PULocationID=246, DOLocationID=79, payment_type=1, fare_amount=17.7, extra=1.0, mta_tax=0.5, tip_amount=4.54, tolls_amount=0.0, improvement_surcharge=1.0, total_amount=27.24, congestion_surcharge=2.5, Airport_fee=0.0),\n",
       " Row(VendorID=2, tpep_pickup_datetime=datetime.datetime(2024, 3, 1, 0, 59, 29), tpep_dropoff_datetime=datetime.datetime(2024, 3, 1, 1, 11, 20), passenger_count=1, trip_distance=5.34, RatecodeID=1, store_and_fwd_flag='N', PULocationID=79, DOLocationID=263, payment_type=1, fare_amount=22.6, extra=1.0, mta_tax=0.5, tip_amount=5.52, tolls_amount=0.0, improvement_surcharge=1.0, total_amount=33.12, congestion_surcharge=2.5, Airport_fee=0.0),\n",
       " Row(VendorID=1, tpep_pickup_datetime=datetime.datetime(2024, 3, 1, 0, 34, 52), tpep_dropoff_datetime=datetime.datetime(2024, 3, 1, 0, 48, 12), passenger_count=1, trip_distance=2.1, RatecodeID=1, store_and_fwd_flag='N', PULocationID=186, DOLocationID=141, payment_type=1, fare_amount=12.1, extra=3.5, mta_tax=0.5, tip_amount=2.0, tolls_amount=0.0, improvement_surcharge=1.0, total_amount=19.1, congestion_surcharge=2.5, Airport_fee=0.0),\n",
       " Row(VendorID=1, tpep_pickup_datetime=datetime.datetime(2024, 3, 1, 0, 55, 33), tpep_dropoff_datetime=datetime.datetime(2024, 3, 1, 1, 7, 5), passenger_count=1, trip_distance=2.4, RatecodeID=1, store_and_fwd_flag='N', PULocationID=237, DOLocationID=234, payment_type=1, fare_amount=12.8, extra=3.5, mta_tax=0.5, tip_amount=4.45, tolls_amount=0.0, improvement_surcharge=1.0, total_amount=22.25, congestion_surcharge=2.5, Airport_fee=0.0),\n",
       " Row(VendorID=2, tpep_pickup_datetime=datetime.datetime(2024, 3, 1, 0, 9, 52), tpep_dropoff_datetime=datetime.datetime(2024, 3, 1, 0, 23, 48), passenger_count=1, trip_distance=1.99, RatecodeID=1, store_and_fwd_flag='N', PULocationID=148, DOLocationID=256, payment_type=1, fare_amount=14.9, extra=1.0, mta_tax=0.5, tip_amount=3.98, tolls_amount=0.0, improvement_surcharge=1.0, total_amount=23.88, congestion_surcharge=2.5, Airport_fee=0.0),\n",
       " Row(VendorID=2, tpep_pickup_datetime=datetime.datetime(2024, 3, 1, 0, 36, 7), tpep_dropoff_datetime=datetime.datetime(2024, 3, 1, 0, 48, 1), passenger_count=1, trip_distance=2.97, RatecodeID=1, store_and_fwd_flag='N', PULocationID=255, DOLocationID=148, payment_type=1, fare_amount=15.6, extra=1.0, mta_tax=0.5, tip_amount=1.0, tolls_amount=0.0, improvement_surcharge=1.0, total_amount=21.6, congestion_surcharge=2.5, Airport_fee=0.0),\n",
       " Row(VendorID=2, tpep_pickup_datetime=datetime.datetime(2024, 3, 1, 0, 49, 7), tpep_dropoff_datetime=datetime.datetime(2024, 3, 1, 0, 54, 8), passenger_count=1, trip_distance=0.63, RatecodeID=1, store_and_fwd_flag='N', PULocationID=148, DOLocationID=114, payment_type=1, fare_amount=6.5, extra=1.0, mta_tax=0.5, tip_amount=2.3, tolls_amount=0.0, improvement_surcharge=1.0, total_amount=13.8, congestion_surcharge=2.5, Airport_fee=0.0),\n",
       " Row(VendorID=2, tpep_pickup_datetime=datetime.datetime(2024, 3, 1, 0, 2, 24), tpep_dropoff_datetime=datetime.datetime(2024, 3, 1, 0, 7, 45), passenger_count=1, trip_distance=1.31, RatecodeID=1, store_and_fwd_flag='N', PULocationID=239, DOLocationID=24, payment_type=1, fare_amount=8.6, extra=1.0, mta_tax=0.5, tip_amount=4.08, tolls_amount=0.0, improvement_surcharge=1.0, total_amount=17.68, congestion_surcharge=2.5, Airport_fee=0.0),\n",
       " Row(VendorID=2, tpep_pickup_datetime=datetime.datetime(2024, 3, 1, 0, 5, 39), tpep_dropoff_datetime=datetime.datetime(2024, 3, 1, 0, 13, 11), passenger_count=1, trip_distance=1.36, RatecodeID=1, store_and_fwd_flag='N', PULocationID=48, DOLocationID=170, payment_type=1, fare_amount=9.3, extra=1.0, mta_tax=0.5, tip_amount=2.86, tolls_amount=0.0, improvement_surcharge=1.0, total_amount=17.16, congestion_surcharge=2.5, Airport_fee=0.0),\n",
       " Row(VendorID=2, tpep_pickup_datetime=datetime.datetime(2024, 3, 1, 0, 19, 58), tpep_dropoff_datetime=datetime.datetime(2024, 3, 1, 0, 30, 7), passenger_count=1, trip_distance=0.57, RatecodeID=1, store_and_fwd_flag='N', PULocationID=186, DOLocationID=170, payment_type=2, fare_amount=7.2, extra=1.0, mta_tax=0.5, tip_amount=0.0, tolls_amount=0.0, improvement_surcharge=1.0, total_amount=12.2, congestion_surcharge=2.5, Airport_fee=0.0),\n",
       " Row(VendorID=2, tpep_pickup_datetime=datetime.datetime(2024, 3, 1, 0, 2, 47), tpep_dropoff_datetime=datetime.datetime(2024, 3, 1, 0, 19, 41), passenger_count=1, trip_distance=5.73, RatecodeID=1, store_and_fwd_flag='N', PULocationID=132, DOLocationID=215, payment_type=1, fare_amount=24.7, extra=1.0, mta_tax=0.5, tip_amount=5.79, tolls_amount=0.0, improvement_surcharge=1.0, total_amount=34.74, congestion_surcharge=0.0, Airport_fee=1.75),\n",
       " Row(VendorID=2, tpep_pickup_datetime=datetime.datetime(2024, 3, 1, 0, 0, 45), tpep_dropoff_datetime=datetime.datetime(2024, 3, 1, 0, 13, 54), passenger_count=1, trip_distance=2.31, RatecodeID=1, store_and_fwd_flag='N', PULocationID=239, DOLocationID=229, payment_type=1, fare_amount=14.2, extra=1.0, mta_tax=0.5, tip_amount=3.84, tolls_amount=0.0, improvement_surcharge=1.0, total_amount=23.04, congestion_surcharge=2.5, Airport_fee=0.0),\n",
       " Row(VendorID=2, tpep_pickup_datetime=datetime.datetime(2024, 3, 1, 0, 21, 31), tpep_dropoff_datetime=datetime.datetime(2024, 3, 1, 0, 23, 13), passenger_count=1, trip_distance=0.22, RatecodeID=1, store_and_fwd_flag='N', PULocationID=164, DOLocationID=114, payment_type=2, fare_amount=4.4, extra=1.0, mta_tax=0.5, tip_amount=0.0, tolls_amount=0.0, improvement_surcharge=1.0, total_amount=9.4, congestion_surcharge=2.5, Airport_fee=0.0),\n",
       " Row(VendorID=2, tpep_pickup_datetime=datetime.datetime(2024, 3, 1, 0, 39, 29), tpep_dropoff_datetime=datetime.datetime(2024, 3, 1, 0, 46, 56), passenger_count=1, trip_distance=1.29, RatecodeID=1, store_and_fwd_flag='N', PULocationID=164, DOLocationID=79, payment_type=1, fare_amount=9.3, extra=1.0, mta_tax=0.5, tip_amount=2.86, tolls_amount=0.0, improvement_surcharge=1.0, total_amount=17.16, congestion_surcharge=2.5, Airport_fee=0.0),\n",
       " Row(VendorID=2, tpep_pickup_datetime=datetime.datetime(2024, 3, 1, 0, 10, 15), tpep_dropoff_datetime=datetime.datetime(2024, 3, 1, 0, 23, 27), passenger_count=1, trip_distance=2.42, RatecodeID=1, store_and_fwd_flag='N', PULocationID=137, DOLocationID=50, payment_type=1, fare_amount=14.9, extra=1.0, mta_tax=0.5, tip_amount=5.97, tolls_amount=0.0, improvement_surcharge=1.0, total_amount=25.87, congestion_surcharge=2.5, Airport_fee=0.0),\n",
       " Row(VendorID=2, tpep_pickup_datetime=datetime.datetime(2024, 3, 1, 0, 54, 38), tpep_dropoff_datetime=datetime.datetime(2024, 3, 1, 1, 10, 49), passenger_count=4, trip_distance=4.17, RatecodeID=1, store_and_fwd_flag='N', PULocationID=79, DOLocationID=229, payment_type=1, fare_amount=20.5, extra=1.0, mta_tax=0.5, tip_amount=5.1, tolls_amount=0.0, improvement_surcharge=1.0, total_amount=30.6, congestion_surcharge=2.5, Airport_fee=0.0),\n",
       " Row(VendorID=2, tpep_pickup_datetime=datetime.datetime(2024, 3, 1, 0, 10, 10), tpep_dropoff_datetime=datetime.datetime(2024, 3, 1, 0, 15, 53), passenger_count=1, trip_distance=2.02, RatecodeID=1, store_and_fwd_flag='N', PULocationID=239, DOLocationID=166, payment_type=1, fare_amount=10.0, extra=1.0, mta_tax=0.5, tip_amount=3.0, tolls_amount=0.0, improvement_surcharge=1.0, total_amount=18.0, congestion_surcharge=2.5, Airport_fee=0.0),\n",
       " Row(VendorID=2, tpep_pickup_datetime=datetime.datetime(2024, 3, 1, 0, 26), tpep_dropoff_datetime=datetime.datetime(2024, 3, 1, 0, 29, 20), passenger_count=1, trip_distance=1.24, RatecodeID=1, store_and_fwd_flag='N', PULocationID=239, DOLocationID=24, payment_type=1, fare_amount=7.2, extra=1.0, mta_tax=0.5, tip_amount=2.44, tolls_amount=0.0, improvement_surcharge=1.0, total_amount=14.64, congestion_surcharge=2.5, Airport_fee=0.0),\n",
       " Row(VendorID=2, tpep_pickup_datetime=datetime.datetime(2024, 3, 1, 0, 53, 32), tpep_dropoff_datetime=datetime.datetime(2024, 3, 1, 1, 8, 18), passenger_count=1, trip_distance=4.05, RatecodeID=1, store_and_fwd_flag='N', PULocationID=142, DOLocationID=116, payment_type=1, fare_amount=19.8, extra=1.0, mta_tax=0.5, tip_amount=4.96, tolls_amount=0.0, improvement_surcharge=1.0, total_amount=29.76, congestion_surcharge=2.5, Airport_fee=0.0)]"
      ]
     },
     "execution_count": 6,
     "metadata": {},
     "output_type": "execute_result"
    }
   ],
   "source": [
    "df.head(30)"
   ]
  },
  {
   "cell_type": "code",
   "execution_count": 7,
   "id": "ade55ca8-1100-4188-8334-9056b5ac6208",
   "metadata": {},
   "outputs": [
    {
     "name": "stderr",
     "output_type": "stream",
     "text": [
      "                                                                                "
     ]
    }
   ],
   "source": [
    "from pyspark.sql import functions as F\n",
    "\n",
    "# 날짜 컬럼 추가\n",
    "df_with_date = df.withColumn(\"date\", F.to_date(\"tpep_dropoff_datetime\"))\n",
    "\n",
    "# 일별 집계 계산\n",
    "daily_stats = df_with_date.groupBy(\"date\").agg(\n",
    "    F.count(\"date\").alias(\"trip_count\"),\n",
    "    F.sum(\"total_amount\").alias(\"total_revenue\"),\n",
    "    F.sum(\"trip_distance\").alias(\"total_trip_distance\")\n",
    ").orderBy(\"date\")\n",
    "\n",
    "# 전체 통계 계산\n",
    "total_stats = df_with_date.agg(\n",
    "    F.count(\"date\").alias(\"trip_count\"),\n",
    "    F.sum(\"total_amount\").alias(\"total_revenue\"),\n",
    "    F.sum(\"trip_distance\").alias(\"total_trip_distance\")\n",
    ").collect()[0]\n"
   ]
  },
  {
   "cell_type": "code",
   "execution_count": 8,
   "id": "f6262cac-0ba9-4566-82f8-0720c6c0468a",
   "metadata": {},
   "outputs": [
    {
     "name": "stderr",
     "output_type": "stream",
     "text": [
      "                                                                                "
     ]
    }
   ],
   "source": [
    "trip_count = total_stats[\"trip_count\"]\n",
    "total_revenue = total_stats[\"total_revenue\"]\n",
    "total_trip_distance = total_stats[\"total_trip_distance\"]\n",
    "avg_trip_distance = total_trip_distance / trip_count\n",
    "\n",
    "daily_stats_list = daily_stats.collect()"
   ]
  },
  {
   "cell_type": "code",
   "execution_count": 9,
   "id": "d737b48f-1eea-4b2e-a65f-5cf84c98d6c4",
   "metadata": {},
   "outputs": [
    {
     "name": "stdout",
     "output_type": "stream",
     "text": [
      "total number of trips: 3156438\n",
      "total revenue generated from the trips: 87206005.4001112\n",
      "average trip distance: 3.528815848750871\n",
      "\n",
      "trips per day, average: 105214.6\n",
      "2002-12-31 : 1\n",
      "2003-01-01 : 1\n",
      "2024-02-29 : 3\n",
      "2024-03-01 : 107450\n",
      "2024-03-02 : 105853\n",
      "2024-03-03 : 88641\n",
      "2024-03-04 : 90131\n",
      "2024-03-05 : 104366\n",
      "2024-03-06 : 112720\n",
      "2024-03-07 : 111078\n",
      "2024-03-08 : 108321\n",
      "2024-03-09 : 113265\n",
      "2024-03-10 : 89972\n",
      "2024-03-11 : 91713\n",
      "2024-03-12 : 102685\n",
      "2024-03-13 : 109637\n",
      "2024-03-14 : 119433\n",
      "2024-03-15 : 113272\n",
      "2024-03-16 : 111779\n",
      "2024-03-17 : 90429\n",
      "2024-03-18 : 89046\n",
      "2024-03-19 : 102483\n",
      "2024-03-20 : 107455\n",
      "2024-03-21 : 114209\n",
      "2024-03-22 : 103508\n",
      "2024-03-23 : 98813\n",
      "2024-03-24 : 87379\n",
      "2024-03-25 : 86382\n",
      "2024-03-26 : 100465\n",
      "2024-03-27 : 106854\n",
      "2024-03-28 : 108492\n",
      "2024-03-29 : 101079\n",
      "2024-03-30 : 95911\n",
      "2024-03-31 : 83002\n",
      "2024-04-01 : 608\n",
      "2024-04-02 : 2\n",
      "\n",
      "total revenue per day, average: 2906866.8466703733\n",
      "2002-12-31 : 18.0\n",
      "2003-01-01 : 25.15\n",
      "2024-02-29 : 60.91\n",
      "2024-03-01 : 2879916.639999919\n",
      "2024-03-02 : 2638229.5199999595\n",
      "2024-03-03 : 2497391.749999883\n",
      "2024-03-04 : 2541806.7299999236\n",
      "2024-03-05 : 2825293.7999999654\n",
      "2024-03-06 : 3035844.929999873\n",
      "2024-03-07 : 3084634.409999831\n",
      "2024-03-08 : 2961411.3299998934\n",
      "2024-03-09 : 2777580.7399999048\n",
      "2024-03-10 : 2516284.739999902\n",
      "2024-03-11 : 2615089.3299999083\n",
      "2024-03-12 : 2911042.519999907\n",
      "2024-03-13 : 3073932.6499998276\n",
      "2024-03-14 : 3386469.919999808\n",
      "2024-03-15 : 3138545.3099997654\n",
      "2024-03-16 : 2912126.1499998327\n",
      "2024-03-17 : 2665976.5199997947\n",
      "2024-03-18 : 2634242.9899998573\n",
      "2024-03-19 : 2847142.2299998654\n",
      "2024-03-20 : 2991789.319999881\n",
      "2024-03-21 : 3206655.249999945\n",
      "2024-03-22 : 2881981.169999848\n",
      "2024-03-23 : 2521396.779999901\n",
      "2024-03-24 : 2537732.289999874\n",
      "2024-03-25 : 2533106.109999888\n",
      "2024-03-26 : 2811454.069999847\n",
      "2024-03-27 : 3003872.559999868\n",
      "2024-03-28 : 3153178.4299997985\n",
      "2024-03-29 : 2783632.649999856\n",
      "2024-03-30 : 2460687.1899998784\n",
      "2024-03-31 : 2344033.4099999033\n",
      "2024-04-01 : 33341.39999999999\n",
      "2024-04-02 : 78.5\n"
     ]
    }
   ],
   "source": [
    "print(\"total number of trips:\", trip_count)\n",
    "print(\"total revenue generated from the trips:\", total_revenue)\n",
    "print(\"average trip distance:\", avg_trip_distance)\n",
    "\n",
    "print(\"\\ntrips per day, average:\", trip_count / 30)\n",
    "for row in daily_stats_list:\n",
    "    print(row[\"date\"], \":\", row[\"trip_count\"])\n",
    "\n",
    "print(\"\\ntotal revenue per day, average:\", total_revenue / 30)\n",
    "for row in daily_stats_list:\n",
    "    print(row[\"date\"], \":\", row[\"total_revenue\"])"
   ]
  },
  {
   "cell_type": "code",
   "execution_count": null,
   "id": "6d5824a7-fe6e-4822-a192-644dff038fda",
   "metadata": {},
   "outputs": [],
   "source": []
  }
 ],
 "metadata": {
  "kernelspec": {
   "display_name": "Python 3 (ipykernel)",
   "language": "python",
   "name": "python3"
  },
  "language_info": {
   "codemirror_mode": {
    "name": "ipython",
    "version": 3
   },
   "file_extension": ".py",
   "mimetype": "text/x-python",
   "name": "python",
   "nbconvert_exporter": "python",
   "pygments_lexer": "ipython3",
   "version": "3.8.10"
  }
 },
 "nbformat": 4,
 "nbformat_minor": 5
}
